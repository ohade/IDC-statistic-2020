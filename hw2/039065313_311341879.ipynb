{
 "cells": [
  {
   "cell_type": "markdown",
   "metadata": {
    "id": "V81y7Qm6qOEg"
   },
   "source": [
    "### IDs:\n",
    "Insert yours IDs to the cell below"
   ]
  },
  {
   "cell_type": "markdown",
   "metadata": {
    "id": "q25r8tBrqOEl"
   },
   "source": [
    "ID #1: 311341879\n",
    "\n",
    "ID #2: 039065313\n"
   ]
  },
  {
   "cell_type": "markdown",
   "metadata": {
    "id": "ZdfybnoHqOEm"
   },
   "source": [
    "## Read the following instructions carefully:\n",
    "\n",
    "1. This jupyter notebook contains all the step by step instructions needed for this exercise.\n",
    "1. You are free to add cells.\n",
    "1. Write your functions and your answers in this jupyter notebook only.\n",
    "1. Answers to theoretical questions should be written in **markdown cells (with $\\LaTeX$ support)**.\n",
    "1. Submit this jupyter notebook only using your ID as a filename. Not to use ZIP or RAR. For example, your Moodle submission file name should look like this (two id numbers): `123456789_987654321.ipynb`."
   ]
  },
  {
   "cell_type": "markdown",
   "metadata": {
    "id": "9gqHZyISqOEm"
   },
   "source": [
    "### Question 1 - Data exploration and visialization - practical"
   ]
  },
  {
   "cell_type": "markdown",
   "metadata": {
    "id": "mosRYP-YqOEm"
   },
   "source": [
    "Load Boston dataset from sklearn.\n",
    "Explore the data. follow th instructions below and make sure to support your answers with proper outputs and plots.\n",
    "When plotting, pay close attention to the range of the axis, and include axis labels and a title for the figure.\n",
    "\n",
    "1. describe the dataset. How many samples does it contain? How many features? What isis the data type for each variable?\n",
    "2. Produce a histogram and a boxplot of the nitric oxides concentration. describe the distribution.\n",
    "3. Produce a correlation matrix of all the features. Are there any correlated features? Can you identify one feature with unusual behaviour?\n",
    "4. Select the 2 pairs of features with the highest correlation (positive or negative) and plot 2 scatter plots with marginal histograms (JointPlot). \n",
    "5. Produce a cumulative histogram of the age variable and add two horizontal lines on the first and third quartile (on the cumulative count)\n",
    "6. Identify and report 2 “interesting” trends in the data. No need to provide statistical confidence at this point. "
   ]
  },
  {
   "cell_type": "code",
   "execution_count": 1,
   "metadata": {
    "colab": {
     "base_uri": "https://localhost:8080/",
     "height": 652
    },
    "executionInfo": {
     "elapsed": 922,
     "status": "ok",
     "timestamp": 1609423019997,
     "user": {
      "displayName": "eli terris-assa",
      "photoUrl": "https://lh3.googleusercontent.com/a-/AOh14GhprK327r2YLNn-SvBUyI-hzP-H15IFwg15cOpdfg=s64",
      "userId": "06912990574002737110"
     },
     "user_tz": -120
    },
    "id": "5YpU0OsaJ5uh",
    "outputId": "6e6e2152-ee56-4001-84b7-a232045ca956"
   },
   "outputs": [
    {
     "name": "stdout",
     "output_type": "stream",
     "text": [
      "There are 506 samples in the dataset\n",
      "There are 13+1 features for each sample\n",
      "['CRIM' 'ZN' 'INDUS' 'CHAS' 'NOX' 'RM' 'AGE' 'DIS' 'RAD' 'TAX' 'PTRATIO'\n",
      " 'B' 'LSTAT']\n",
      "Plus another ['MEDV']\n",
      "['MEDV']   float64\n",
      "CRIM       float64\n",
      "ZN         float64\n",
      "INDUS      float64\n",
      "CHAS       float64\n",
      "NOX        float64\n",
      "RM         float64\n",
      "AGE        float64\n",
      "DIS        float64\n",
      "RAD        float64\n",
      "TAX        float64\n",
      "PTRATIO    float64\n",
      "B          float64\n",
      "LSTAT      float64\n",
      "dtype: object\n",
      "\n"
     ]
    },
    {
     "data": {
      "image/png": "[encoded data removed]",
      "text/plain": [
       "<Figure size 432x288 with 1 Axes>"
      ]
     },
     "metadata": {
      "needs_background": "light"
     },
     "output_type": "display_data"
    }
   ],
   "source": [
    "import matplotlib.pyplot as plt\r\n",
    "import pandas as pd\r\n",
    "import numpy as np\r\n",
    "import seaborn as sn\r\n",
    "from scipy import stats\r\n",
    "\r\n",
    "\r\n",
    "from sklearn.datasets import load_boston\r\n",
    "\r\n",
    "content= load_boston()\r\n",
    "\r\n",
    "#Q1\r\n",
    "features = content['feature_names']\r\n",
    "data = content['data']\r\n",
    "extra = content.target\r\n",
    "print(\"There are \"+ str(len(data))+\" samples in the dataset\")\r\n",
    "print(\"There are \"+str(len(features))+ \"+1 features for each sample\")\r\n",
    "print(features)\r\n",
    "print(\"Plus another ['MEDV']\")\r\n",
    "df = pd.DataFrame(data,columns=features)\r\n",
    "print(\"['MEDV']   \" + str(extra.dtype))\r\n",
    "print(df.dtypes)\r\n",
    "# Nox index = 4\r\n",
    "Nox = df['NOX']\r\n",
    "\r\n",
    "#Q2\r\n",
    "pd.DataFrame(Nox).hist(bins=50)\r\n",
    "plt.title(\"NOX\")\r\n",
    "plt.xlabel(\"NOX\")\r\n",
    "plt.ylabel(\"Count\")\r\n",
    "print(\"\")\r\n",
    "\r\n",
    "\r\n"
   ]
  },
  {
   "cell_type": "code",
   "execution_count": 2,
   "metadata": {
    "colab": {
     "base_uri": "https://localhost:8080/",
     "height": 282
    },
    "executionInfo": {
     "elapsed": 1891,
     "status": "ok",
     "timestamp": 1609423020975,
     "user": {
      "displayName": "eli terris-assa",
      "photoUrl": "https://lh3.googleusercontent.com/a-/AOh14GhprK327r2YLNn-SvBUyI-hzP-H15IFwg15cOpdfg=s64",
      "userId": "06912990574002737110"
     },
     "user_tz": -120
    },
    "id": "s2AZ6vdhdQkm",
    "outputId": "61f32fa7-165d-4fbf-f01f-916126c9bbfd"
   },
   "outputs": [
    {
     "name": "stdout",
     "output_type": "stream",
     "text": [
      "We can see from the box plot that the lower bound is a lot closer to the mean than the upper bound in max values and in QID \n"
     ]
    },
    {
     "data": {
      "image/png": "[encoded data removed]",
      "text/plain": [
       "<Figure size 432x288 with 1 Axes>"
      ]
     },
     "metadata": {
      "needs_background": "light"
     },
     "output_type": "display_data"
    }
   ],
   "source": [
    "#Q2\r\n",
    "pd.DataFrame(Nox).boxplot()\r\n",
    "print(\"We can see from the box plot that the lower bound is a lot closer to the mean than the upper bound in max values and in QID \") "
   ]
  },
  {
   "cell_type": "code",
   "execution_count": 3,
   "metadata": {
    "colab": {
     "base_uri": "https://localhost:8080/",
     "height": 318
    },
    "executionInfo": {
     "elapsed": 1886,
     "status": "ok",
     "timestamp": 1609423020976,
     "user": {
      "displayName": "eli terris-assa",
      "photoUrl": "https://lh3.googleusercontent.com/a-/AOh14GhprK327r2YLNn-SvBUyI-hzP-H15IFwg15cOpdfg=s64",
      "userId": "06912990574002737110"
     },
     "user_tz": -120
    },
    "id": "UpYO-R8bdh1b",
    "outputId": "bed8d049-850e-4530-a603-58723c0f464e"
   },
   "outputs": [
    {
     "name": "stdout",
     "output_type": "stream",
     "text": [
      "A feature with unusual behaviour is CHAS that has a near zero correlation with all other features\n"
     ]
    },
    {
     "data": {
      "image/png": "[encoded data removed]",
      "text/plain": [
       "<Figure size 432x288 with 2 Axes>"
      ]
     },
     "metadata": {
      "needs_background": "light"
     },
     "output_type": "display_data"
    }
   ],
   "source": [
    "#Q3\r\n",
    "df = pd.DataFrame(np.concatenate((data, extra[:, np.newaxis]), axis=1), columns= list(features) + ['MEDV'])\r\n",
    "#print(df)\r\n",
    "sn.heatmap(df.corr())\r\n",
    "\r\n",
    "print(\"A feature with unusual behaviour is CHAS that has a near zero correlation with all other features\")"
   ]
  },
  {
   "cell_type": "code",
   "execution_count": 4,
   "metadata": {
    "colab": {
     "base_uri": "https://localhost:8080/"
    },
    "executionInfo": {
     "elapsed": 1881,
     "status": "ok",
     "timestamp": 1609423020977,
     "user": {
      "displayName": "eli terris-assa",
      "photoUrl": "https://lh3.googleusercontent.com/a-/AOh14GhprK327r2YLNn-SvBUyI-hzP-H15IFwg15cOpdfg=s64",
      "userId": "06912990574002737110"
     },
     "user_tz": -120
    },
    "id": "-5J85wVNgwzl",
    "outputId": "4b53accb-ed59-4a0a-dd82-f7d940f29100"
   },
   "outputs": [
    {
     "name": "stdout",
     "output_type": "stream",
     "text": [
      "CRIM       0.625505\n",
      "ZN         0.664408\n",
      "INDUS      0.763651\n",
      "CHAS       0.175260\n",
      "NOX        0.769230\n",
      "RM         0.695360\n",
      "AGE        0.747881\n",
      "DIS        0.769230\n",
      "RAD        0.910228\n",
      "TAX        0.910228\n",
      "PTRATIO    0.507787\n",
      "B          0.444413\n",
      "LSTAT      0.737663\n",
      "MEDV       0.737663\n",
      "dtype: float64\n",
      "RAD and TAX are the most correlated (0.910228) followed by NOX and DIS (0.769230)\n"
     ]
    }
   ],
   "source": [
    "#Q4\r\n",
    "x = df.corr()[df.corr() < 1 ]\r\n",
    "#print(x)\r\n",
    "print(abs(x).max())\r\n",
    "print(\"RAD and TAX are the most correlated (0.910228) followed by NOX and DIS (0.769230)\")"
   ]
  },
  {
   "cell_type": "code",
   "execution_count": 5,
   "metadata": {
    "colab": {
     "base_uri": "https://localhost:8080/",
     "height": 970
    },
    "executionInfo": {
     "elapsed": 4263,
     "status": "ok",
     "timestamp": 1609423023365,
     "user": {
      "displayName": "eli terris-assa",
      "photoUrl": "https://lh3.googleusercontent.com/a-/AOh14GhprK327r2YLNn-SvBUyI-hzP-H15IFwg15cOpdfg=s64",
      "userId": "06912990574002737110"
     },
     "user_tz": -120
    },
    "id": "ljE2ZrpumdMN",
    "outputId": "3fbb52d4-abdb-410a-d136-cf32ed475319"
   },
   "outputs": [
    {
     "name": "stderr",
     "output_type": "stream",
     "text": [
      "/usr/local/lib/python3.8/site-packages/seaborn/_decorators.py:36: FutureWarning: Pass the following variables as keyword args: x, y. From version 0.12, the only valid positional argument will be `data`, and passing other arguments without an explicit keyword will result in an error or misinterpretation.\n",
      "  warnings.warn(\n",
      "/usr/local/lib/python3.8/site-packages/seaborn/_decorators.py:36: FutureWarning: Pass the following variables as keyword args: x, y. From version 0.12, the only valid positional argument will be `data`, and passing other arguments without an explicit keyword will result in an error or misinterpretation.\n",
      "  warnings.warn(\n"
     ]
    },
    {
     "data": {
      "text/plain": [
       "Text(0.5, 1.0, 'DIS vs. NOX')"
      ]
     },
     "execution_count": 5,
     "metadata": {},
     "output_type": "execute_result"
    },
    {
     "data": {
      "image/png": "[encoded data removed]",
      "text/plain": [
       "<Figure size 432x432 with 3 Axes>"
      ]
     },
     "metadata": {
      "needs_background": "light"
     },
     "output_type": "display_data"
    },
    {
     "data": {
      "image/png": "[encoded data removed]",
      "text/plain": [
       "<Figure size 432x432 with 3 Axes>"
      ]
     },
     "metadata": {
      "needs_background": "light"
     },
     "output_type": "display_data"
    }
   ],
   "source": [
    "#Q4\r\n",
    "sn.jointplot(df['RAD'],df['TAX'],marginal_kws = dict(bins=50))\r\n",
    "plt.title(\"TAX vs. RAD\")\r\n",
    "sn.jointplot(df['NOX'],df['DIS'],marginal_kws = dict(bins=50))\r\n",
    "plt.title(\"DIS vs. NOX\")\r\n"
   ]
  },
  {
   "cell_type": "code",
   "execution_count": 6,
   "metadata": {
    "colab": {
     "base_uri": "https://localhost:8080/",
     "height": 350
    },
    "executionInfo": {
     "elapsed": 4258,
     "status": "ok",
     "timestamp": 1609423023366,
     "user": {
      "displayName": "eli terris-assa",
      "photoUrl": "https://lh3.googleusercontent.com/a-/AOh14GhprK327r2YLNn-SvBUyI-hzP-H15IFwg15cOpdfg=s64",
      "userId": "06912990574002737110"
     },
     "user_tz": -120
    },
    "id": "WYQ6jw6hoFYH",
    "outputId": "a9030375-56ff-487c-a051-33cfbbe24cc3"
   },
   "outputs": [
    {
     "data": {
      "image/png": "[encoded data removed]",
      "text/plain": [
       "<Figure size 360x360 with 1 Axes>"
      ]
     },
     "metadata": {
      "needs_background": "light"
     },
     "output_type": "display_data"
    }
   ],
   "source": [
    "#Q5\r\n",
    "Age = df['AGE']\r\n",
    "\r\n",
    "fig, ax = plt.subplots(figsize=(5, 5))\r\n",
    "ax.set_title('Part 5 - cumulative histogram')\r\n",
    "ax.set_xlabel('Age')\r\n",
    "ax.set_ylabel('percentile')\r\n",
    "\r\n",
    "plt.axhline(0.25)\r\n",
    "plt.axhline(0.75)\r\n",
    "# plot the cumulative histogram\r\n",
    "n, bins, patches = ax.hist(Age, 100, density=True, histtype='step',\r\n",
    "                           cumulative=True, label='Empirical')\r\n"
   ]
  },
  {
   "cell_type": "markdown",
   "metadata": {
    "id": "TSIGWnvqZ__n"
   },
   "source": [
    "Q6 - \r\n",
    "Two interesting trends in the data: \r\n",
    "\r\n",
    "1) The TAX and RAD features are highly correlated but also have similar correlation with all other features\r\n",
    "\r\n",
    "2) Median value of owner-occupied homes in $1000's (MEDV) has a negative correlation with - % lower status of the population (LSTAT)"
   ]
  },
  {
   "cell_type": "markdown",
   "metadata": {
    "id": "-DgXQ8GGqOEn"
   },
   "source": [
    "### Question 2 - Independence and conditional independence"
   ]
  },
  {
   "cell_type": "markdown",
   "metadata": {
    "id": "4oT3ugu1qOEn"
   },
   "source": [
    "#### 2.A\n",
    "Can we define a three dimensional multivariate gaussian that is pairwise-independent but not collectivley independent?\n",
    "If your anser is yes, provide an example.\n",
    "If your answer is no, provide a proof."
   ]
  },
  {
   "cell_type": "markdown",
   "metadata": {
    "id": "cO-6vktPkdZp"
   },
   "source": [
    "Answer:</br> No we can't Proof: Be $X~(X_1,X_2,X_3)$, by the definition each two pairs of xi are pairwise independent. Like we saw in class this means that their covariance-matrix is diagonal, and also that by using the the probability density function (pdf) of a multivariate normal:\r\n",
    "\r\n",
    "${\\displaystyle f(\\mathbf {x} )={\\frac {1}{\\sqrt {(2\\pi )^{k}|{\\boldsymbol {\\Sigma }}|}}}\\exp \\left(-{1 \\over 2}(\\mathbf {x} -{\\boldsymbol {\\mu }})^{\\rm {T}}{\\boldsymbol {\\Sigma }}^{-1}({\\mathbf {x} }-{\\boldsymbol {\\mu }})\\right)}f(\\mathbf{x})= \\frac{1}{\\sqrt { (2\\pi)^k|\\boldsymbol \\Sigma| } }  \\exp\\left(-{1 \\over 2} (\\mathbf{x}-\\boldsymbol\\mu)^{\\rm T} \\boldsymbol\\Sigma^{-1} ({\\mathbf x}-\\boldsymbol\\mu)\\right)$\r\n",
    "\r\n",
    "We get that: $P(X;\\mu,\\Sigma) = P(X_1;\\mu_1,\\sigma_1) = P(X_2;\\mu_2,\\sigma_2) = P(X_3,\\mu_3,\\sigma_3)$</br> Which gives us a conclusion that $X_1,X_2,X_3$ must be collectively independent as well."
   ]
  },
  {
   "cell_type": "markdown",
   "metadata": {
    "id": "sS-xbxN4qOEn"
   },
   "source": [
    "#### 2.B\n",
    "Let $\\ X, Y \\ $ and $Z$  be discrete random variables with $\\ n, m \\ $ and $k$ possible outcomes respectivley.\n",
    "\n",
    "How many parameters define the joint distribution of $\\ X, Y \\ $ and $Z$?"
   ]
  },
  {
   "cell_type": "markdown",
   "metadata": {
    "id": "b_1JGVKAl3gD"
   },
   "source": [
    "Answer:</br>\r\n",
    "\r\n",
    "$\\sum _{i1=1}^{n}\\sum _{i2=1}^{m}\\sum _{i2=1}^{k}\\mathrm {P} (X=x_{i1},Y=y_{i2} ,Z=z_{i3})=1 \\Rightarrow \\text{we have }n\\cdot m\\cdot k\\text{ parameters}\\;$"
   ]
  },
  {
   "cell_type": "markdown",
   "metadata": {
    "id": "tgtCALBDqOEo"
   },
   "source": [
    "#### 2.C\n",
    "For the same random variables from the previous section, how many parameters define the joint distribution of $\\ X, Y \\ $ and $Z$ if we now know that they are independent?"
   ]
  },
  {
   "cell_type": "markdown",
   "metadata": {
    "id": "uwBJJnrZmAY7"
   },
   "source": [
    "In this case it's n+m+k\r\n",
    "\r\n"
   ]
  },
  {
   "cell_type": "markdown",
   "metadata": {
    "id": "rFhU_dpCqOEo"
   },
   "source": [
    "#### 2.D\n",
    "For the same random variables from the previous section, how many parameters define the joint distribution of $\\ X, Y \\ $ and $Z$ if we now know that $X$ and $Y$ are conditionaly independent given $Z$?"
   ]
  },
  {
   "cell_type": "markdown",
   "metadata": {
    "id": "wgyRa9EsmiqY"
   },
   "source": [
    "$\\text{In this case it's: }(n+m) \\cdot k$ </br> Because for every value of Z, X and Y are independent.\r\n",
    "\r\n"
   ]
  },
  {
   "cell_type": "markdown",
   "metadata": {
    "id": "2FyNS-SzqOEo"
   },
   "source": [
    "#### 2.E\n",
    "For the random variables from the previous section, let $n=m=2$ and $k=2$. Give and example for a joint distribution of $\\ X, Y \\ $ and $Z$ where $X$ and $Y$ are conditionaly independent given $Z$?"
   ]
  },
  {
   "cell_type": "markdown",
   "metadata": {
    "id": "RatXOP5Kmm0X"
   },
   "source": [
    "For the random variables from the previous section, let $n=m=2$ and $k=2$. Give and example for a joint distribution of $\\ X, Y \\ $ and $Z$ where $X$ and $Y$ are conditionaly independent given $Z$?\r\n",
    "\r\n",
    "A box contains two coins: </br> a regular coin and one fake two-headed coin (P(H)=1). </br> We define the following events.\r\n",
    "\r\n",
    "A= First coin toss results in an H. B= Second coin toss results in an H. C= Coin 1 (regular) has been selected.\r\n",
    "\r\n",
    "We will now show that P(A∩B|C) = P(A|C)P(B|C)\r\n",
    "\r\n",
    "We have $P(A|C)=P(B|C)=\\frac{1}{2}$. Also, given that Coin 1 is selected, we have $P(A∩B|C)=\\frac{1}{2}\\frac{1}{2}=\\frac{1}{4}$. And so P(A∩B|C) = P(A|C)P(B|C)\r\n",
    "\r\n",
    "In order to show that it only conditionaly independent and not independent, we will need to show that. P(A∩B)≠P(A)P(B)\r\n",
    "\r\n",
    "$P(A∩B) = P(A∩B|C)P(C)+P(A∩B|Not C)P(Not C) = P(A|C)P(B|C)P(C) + P(A|Not C)P(B|Not C)P(Not C) = \\frac{1}{2}\\frac{1}{2}\\frac{1}{2}+1 \\cdot 1 \\cdot \\frac{1}{2} = \\frac{5}{8}$</br> $P(A) = P(A|C)P(C)+P(A|Not C)P(Not C) = \\frac{1}{2}\\frac{1}{2} + 1\\frac{1}{2} = \\frac{3}{4}$</br> $P(A) = P(B|C)P(C)+P(B|Not C)P(Not C) = \\frac{1}{2}\\frac{1}{2} + 1\\frac{1}{2} = \\frac{3}{4}$</br>\r\n",
    "\r\n",
    "Meaning: P(A∩B)≠P(A)P(B), not independent."
   ]
  },
  {
   "cell_type": "markdown",
   "metadata": {
    "id": "6TqU5cKcqOEo"
   },
   "source": [
    "### Question 3 - Gaussian mixtures – parameter estimation and generation "
   ]
  },
  {
   "cell_type": "markdown",
   "metadata": {
    "id": "3azJfD6hqOEo"
   },
   "source": [
    "Consider the data provided in GMD.xlsx\n",
    "Assume that the data comes from a Gaussian mixture distribution (GMD) with $k=3\\ \\ $. Furthermore, assume that $\\mu_{1}=4, \\mu_{2}=9, \\sigma_{1}=\\sigma_{2}=0.5, \\sigma_3=1.5$ and $w_2=0.25$.\n",
    "\n",
    "Read the data and answer the following questions."
   ]
  },
  {
   "cell_type": "markdown",
   "metadata": {
    "id": "U0_LmctGqOEp"
   },
   "source": [
    "#### 3.A\n",
    "Provide an estimate for the other parameters of the distribution in two different ways."
   ]
  },
  {
   "cell_type": "markdown",
   "metadata": {
    "id": "2AmojZ69I18W"
   },
   "source": [
    "#####Input GMD"
   ]
  },
  {
   "cell_type": "code",
   "execution_count": 7,
   "metadata": {
    "executionInfo": {
     "elapsed": 4111,
     "status": "ok",
     "timestamp": 1609416661563,
     "user": {
      "displayName": "eli terris-assa",
      "photoUrl": "https://lh3.googleusercontent.com/a-/AOh14GhprK327r2YLNn-SvBUyI-hzP-H15IFwg15cOpdfg=s64",
      "userId": "06912990574002737110"
     },
     "user_tz": -120
    },
    "id": "pzqU0Z2AoYfg"
   },
   "outputs": [],
   "source": [
    "GMDXLSX = [3.575252914\t,\r\n",
    "4.105491206\t,\r\n",
    "3.903642437\t,\r\n",
    "4.472249106\t,\r\n",
    "4.297265105\t,\r\n",
    "4.388162636\t,\r\n",
    "4.04877416\t,\r\n",
    "4.442805577\t,\r\n",
    "4.332521236\t,\r\n",
    "3.944043771\t,\r\n",
    "3.64688011\t,\r\n",
    "3.970587294\t,\r\n",
    "3.86152502\t,\r\n",
    "4.653872166\t,\r\n",
    "4.145837601\t,\r\n",
    "3.753235722\t,\r\n",
    "5.044603255\t,\r\n",
    "4.018764299\t,\r\n",
    "3.602495014\t,\r\n",
    "4.684670843\t,\r\n",
    "3.569270138\t,\r\n",
    "4.305095455\t,\r\n",
    "4.143541316\t,\r\n",
    "4.408949544\t,\r\n",
    "4.532512433\t,\r\n",
    "4.283545793\t,\r\n",
    "3.937498907\t,\r\n",
    "4.250560513\t,\r\n",
    "3.483841531\t,\r\n",
    "3.159031388\t,\r\n",
    "5.018576103\t,\r\n",
    "4.077095461\t,\r\n",
    "4.448729597\t,\r\n",
    "4.680372507\t,\r\n",
    "3.38269609\t,\r\n",
    "3.338040567\t,\r\n",
    "5.28742858\t,\r\n",
    "3.826926722\t,\r\n",
    "4.986076788\t,\r\n",
    "4.704232257\t,\r\n",
    "3.207964596\t,\r\n",
    "4.516367448\t,\r\n",
    "4.239704191\t,\r\n",
    "4.774584465\t,\r\n",
    "3.626906074\t,\r\n",
    "3.998137288\t,\r\n",
    "4.666946873\t,\r\n",
    "4.032317023\t,\r\n",
    "3.675406411\t,\r\n",
    "2.96983418\t,\r\n",
    "4.208534596\t,\r\n",
    "3.552245603\t,\r\n",
    "3.689881459\t,\r\n",
    "4.101792596\t,\r\n",
    "4.102284704\t,\r\n",
    "4.740349296\t,\r\n",
    "4.087246819\t,\r\n",
    "4.591016501\t,\r\n",
    "4.066252095\t,\r\n",
    "4.351202926\t,\r\n",
    "3.434136087\t,\r\n",
    "4.051167527\t,\r\n",
    "4.896406435\t,\r\n",
    "3.441064934\t,\r\n",
    "3.947344906\t,\r\n",
    "4.27408721\t,\r\n",
    "4.466123846\t,\r\n",
    "3.357966698\t,\r\n",
    "4.301164547\t,\r\n",
    "3.561701274\t,\r\n",
    "4.099930333\t,\r\n",
    "4.485097592\t,\r\n",
    "4.341141908\t,\r\n",
    "4.21386942\t,\r\n",
    "3.747509785\t,\r\n",
    "4.137420045\t,\r\n",
    "3.989867483\t,\r\n",
    "3.33738773\t,\r\n",
    "4.168857952\t,\r\n",
    "3.757320997\t,\r\n",
    "3.814233898\t,\r\n",
    "4.699903142\t,\r\n",
    "3.995866621\t,\r\n",
    "3.334574096\t,\r\n",
    "3.082516234\t,\r\n",
    "4.015056518\t,\r\n",
    "4.460170226\t,\r\n",
    "4.083977596\t,\r\n",
    "3.600450986\t,\r\n",
    "3.974367894\t,\r\n",
    "4.065967254\t,\r\n",
    "3.69401581\t,\r\n",
    "4.164358271\t,\r\n",
    "4.074834248\t,\r\n",
    "3.559559231\t,\r\n",
    "4.107568704\t,\r\n",
    "4.072172761\t,\r\n",
    "4.390381073\t,\r\n",
    "4.35735633\t,\r\n",
    "4.908486935\t,\r\n",
    "8.908890315\t,\r\n",
    "8.411664567\t,\r\n",
    "9.064391727\t,\r\n",
    "9.070874362\t,\r\n",
    "8.628775688\t,\r\n",
    "9.375878325\t,\r\n",
    "9.073896838\t,\r\n",
    "9.574653604\t,\r\n",
    "7.855091672\t,\r\n",
    "8.492862087\t,\r\n",
    "8.899316976\t,\r\n",
    "8.825116174\t,\r\n",
    "8.798559048\t,\r\n",
    "9.076778212\t,\r\n",
    "8.721343641\t,\r\n",
    "9.014511745\t,\r\n",
    "9.203039986\t,\r\n",
    "8.931147439\t,\r\n",
    "9.531817339\t,\r\n",
    "8.024112483\t,\r\n",
    "9.05221724\t,\r\n",
    "9.854725822\t,\r\n",
    "9.256481517\t,\r\n",
    "9.098809397\t,\r\n",
    "8.679278054\t,\r\n",
    "8.37822699\t,\r\n",
    "9.301313841\t,\r\n",
    "8.853223179\t,\r\n",
    "8.893552084\t,\r\n",
    "8.719222557\t,\r\n",
    "8.756740226\t,\r\n",
    "10.27944922\t,\r\n",
    "9.002551131\t,\r\n",
    "7.814278655\t,\r\n",
    "8.45008683\t,\r\n",
    "10.34611266\t,\r\n",
    "7.711749673\t,\r\n",
    "9.948538444\t,\r\n",
    "8.926544364\t,\r\n",
    "9.083772804\t,\r\n",
    "9.472067731\t,\r\n",
    "9.089384484\t,\r\n",
    "8.159775603\t,\r\n",
    "9.54744917\t,\r\n",
    "9.502427823\t,\r\n",
    "8.80638285\t,\r\n",
    "8.909157231\t,\r\n",
    "9.237412813\t,\r\n",
    "9.500742399\t,\r\n",
    "8.818690194\t,\r\n",
    "8.423703563\t,\r\n",
    "8.558034375\t,\r\n",
    "8.378401941\t,\r\n",
    "8.105779478\t,\r\n",
    "8.150098812\t,\r\n",
    "8.437792585\t,\r\n",
    "8.87039823\t,\r\n",
    "8.725568976\t,\r\n",
    "8.976749905\t,\r\n",
    "8.613996584\t,\r\n",
    "9.07190637\t,\r\n",
    "8.285419975\t,\r\n",
    "9.027586358\t,\r\n",
    "8.553759197\t,\r\n",
    "9.50602458\t,\r\n",
    "8.124607768\t,\r\n",
    "8.884630714\t,\r\n",
    "8.021167934\t,\r\n",
    "9.46357362\t,\r\n",
    "8.112589923\t,\r\n",
    "9.369650376\t,\r\n",
    "9.21569859\t,\r\n",
    "8.50949497\t,\r\n",
    "9.136414316\t,\r\n",
    "8.129345841\t,\r\n",
    "9.110678135\t,\r\n",
    "8.65843184\t,\r\n",
    "7.715736511\t,\r\n",
    "9.306632109\t,\r\n",
    "9.043707353\t,\r\n",
    "9.329646397\t,\r\n",
    "8.589131709\t,\r\n",
    "8.969149918\t,\r\n",
    "9.19004762\t,\r\n",
    "9.129083017\t,\r\n",
    "8.892675788\t,\r\n",
    "8.17242327\t,\r\n",
    "9.113310488\t,\r\n",
    "9.543491912\t,\r\n",
    "8.705851012\t,\r\n",
    "9.614806648\t,\r\n",
    "9.457082432\t,\r\n",
    "9.809339413\t,\r\n",
    "8.994712308\t,\r\n",
    "8.890674678\t,\r\n",
    "8.889014972\t,\r\n",
    "8.899399237\t,\r\n",
    "8.777454065\t,\r\n",
    "9.076721129\t,\r\n",
    "9.200866238\t,\r\n",
    "9.070641041\t,\r\n",
    "10.19515536\t,\r\n",
    "8.816033077\t,\r\n",
    "8.71498208\t,\r\n",
    "9.030910347\t,\r\n",
    "8.626812947\t,\r\n",
    "9.082359302\t,\r\n",
    "10.34157885\t,\r\n",
    "8.670056697\t,\r\n",
    "8.373326753\t,\r\n",
    "8.471463761\t,\r\n",
    "9.227788635\t,\r\n",
    "9.088655457\t,\r\n",
    "9.003372138\t,\r\n",
    "9.654300804\t,\r\n",
    "8.455399237\t,\r\n",
    "9.987310209\t,\r\n",
    "9.347460977\t,\r\n",
    "9.746319222\t,\r\n",
    "9.23944264\t,\r\n",
    "9.450760456\t,\r\n",
    "8.517787205\t,\r\n",
    "9.645434426\t,\r\n",
    "8.76940985\t,\r\n",
    "8.399974591\t,\r\n",
    "8.367085714\t,\r\n",
    "8.893829678\t,\r\n",
    "8.857029143\t,\r\n",
    "8.867078578\t,\r\n",
    "8.707385297\t,\r\n",
    "8.28315833\t,\r\n",
    "9.355766194\t,\r\n",
    "9.847873034\t,\r\n",
    "9.324802334\t,\r\n",
    "9.14158527\t,\r\n",
    "8.533919827\t,\r\n",
    "9.137748272\t,\r\n",
    "9.197948396\t,\r\n",
    "9.900799294\t,\r\n",
    "9.159462437\t,\r\n",
    "8.307590648\t,\r\n",
    "9.059116318\t,\r\n",
    "8.775656702\t,\r\n",
    "9.116373146\t,\r\n",
    "9.734880768\t,\r\n",
    "10.1347853\t,\r\n",
    "9.667458661\t,\r\n",
    "8.404414072\t,\r\n",
    "9.282281893\t,\r\n",
    "8.286627231\t,\r\n",
    "8.458645349\t,\r\n",
    "9.140269154\t,\r\n",
    "9.274489902\t,\r\n",
    "8.678136841\t,\r\n",
    "9.099267374\t,\r\n",
    "9.230017308\t,\r\n",
    "8.327005101\t,\r\n",
    "9.673708647\t,\r\n",
    "7.918356362\t,\r\n",
    "8.524693343\t,\r\n",
    "8.854235104\t,\r\n",
    "9.31354528\t,\r\n",
    "9.082746928\t,\r\n",
    "8.995090087\t,\r\n",
    "8.811256694\t,\r\n",
    "9.620633314\t,\r\n",
    "10.13464177\t,\r\n",
    "9.495340913\t,\r\n",
    "9.142308542\t,\r\n",
    "9.666303513\t,\r\n",
    "8.142713531\t,\r\n",
    "9.083380841\t,\r\n",
    "9.502291272\t,\r\n",
    "8.873777737\t,\r\n",
    "8.55504754\t,\r\n",
    "8.964029956\t,\r\n",
    "9.527944458\t,\r\n",
    "8.672892682\t,\r\n",
    "8.84526502\t,\r\n",
    "8.581044329\t,\r\n",
    "8.916825602\t,\r\n",
    "8.494387014\t,\r\n",
    "9.075280648\t,\r\n",
    "9.749360762\t,\r\n",
    "9.015444036\t,\r\n",
    "9.588230053\t,\r\n",
    "9.474824934\t,\r\n",
    "9.045174084\t,\r\n",
    "8.942669406\t,\r\n",
    "8.906288748\t,\r\n",
    "8.736533452\t,\r\n",
    "9.410107701\t,\r\n",
    "9.348330995\t,\r\n",
    "8.917430855\t,\r\n",
    "10.14208112\t,\r\n",
    "9.014470466\t,\r\n",
    "9.027480872\t,\r\n",
    "9.555642596\t,\r\n",
    "8.674075124\t,\r\n",
    "10.01051371\t,\r\n",
    "14.99959571\t,\r\n",
    "15.95276829\t,\r\n",
    "17.43958188\t,\r\n",
    "13.81649393\t,\r\n",
    "14.49721787\t,\r\n",
    "16.46809292\t,\r\n",
    "15.96519188\t,\r\n",
    "15.25255833\t,\r\n",
    "17.02466569\t,\r\n",
    "14.06585834\t,\r\n",
    "13.53312928\t,\r\n",
    "12.53702878\t,\r\n",
    "15.63357774\t,\r\n",
    "13.51811657\t,\r\n",
    "15.98836464\t,\r\n",
    "14.50777558\t,\r\n",
    "14.37578026\t,\r\n",
    "15.12264511\t,\r\n",
    "14.51597702\t,\r\n",
    "11.95870682\t,\r\n",
    "15.54848742\t,\r\n",
    "15.01794329\t,\r\n",
    "16.22365422\t,\r\n",
    "15.74750088\t,\r\n",
    "15.13179655\t,\r\n",
    "13.98267397\t,\r\n",
    "13.42721549\t,\r\n",
    "11.44513386\t,\r\n",
    "16.00367982\t,\r\n",
    "16.11881594\t,\r\n",
    "16.64227052\t,\r\n",
    "16.19884702\t,\r\n",
    "17.16077485\t,\r\n",
    "18.56236046\t,\r\n",
    "14.07284409\t,\r\n",
    "16.011442\t,\r\n",
    "13.54379979\t,\r\n",
    "16.10212799\t,\r\n",
    "15.50172821\t,\r\n",
    "16.19601244\t,\r\n",
    "15.43386707\t,\r\n",
    "14.14955666\t,\r\n",
    "13.65426557\t,\r\n",
    "15.56027936\t,\r\n",
    "14.19072747\t,\r\n",
    "15.82212306\t,\r\n",
    "15.4004507\t,\r\n",
    "17.24749929\t,\r\n",
    "14.0360176\t,\r\n",
    "15.8567981\t,\r\n",
    "14.51701903\t,\r\n",
    "13.70710223\t,\r\n",
    "12.94146874\t,\r\n",
    "13.90583068\t,\r\n",
    "13.63438125\t,\r\n",
    "15.5923211\t,\r\n",
    "14.24558443\t,\r\n",
    "17.11022282\t,\r\n",
    "16.75579767\t,\r\n",
    "14.72013018\t,\r\n",
    "15.32783414\t,\r\n",
    "16.65060473\t,\r\n",
    "13.9672901\t,\r\n",
    "14.08593151\t,\r\n",
    "13.52509432\t,\r\n",
    "15.72153956\t,\r\n",
    "13.88269888\t,\r\n",
    "12.87349507\t,\r\n",
    "14.41134508\t,\r\n",
    "15.48841292\t,\r\n",
    "10.9694469\t,\r\n",
    "17.0749042\t,\r\n",
    "15.16597077\t,\r\n",
    "12.33012806\t,\r\n",
    "16.32249852\t,\r\n",
    "14.663746\t,\r\n",
    "15.00430018\t,\r\n",
    "16.65515406\t,\r\n",
    "16.69079221\t,\r\n",
    "14.77093784\t,\r\n",
    "17.25045752\t,\r\n",
    "18.09861613\t,\r\n",
    "12.06300394\t,\r\n",
    "13.88076798\t,\r\n",
    "13.05091664\t,\r\n",
    "15.28844789\t,\r\n",
    "14.01667283\t,\r\n",
    "13.56903819\t,\r\n",
    "12.66471806\t,\r\n",
    "13.12843038\t,\r\n",
    "13.80297349\t,\r\n",
    "16.20269921\t,\r\n",
    "15.10975115\t,\r\n",
    "15.76780298\t,\r\n",
    "18.07544731\t,\r\n",
    "12.83264756\t,\r\n",
    "16.36855638\t,\r\n",
    "16.67634244\t,\r\n",
    "15.80790627\t,\r\n",
    "14.88178155\t,\r\n",
    "11.61047663\t,\r\n",
    "15.24566871\t,\r\n",
    "18.28986357\t,\r\n",
    "13.56097544\t,\r\n",
    "16.64561504\t,\r\n",
    "17.42312987\t,\r\n",
    "15.53330045\t,\r\n",
    "15.94989674\t,\r\n",
    "15.15944929\t,\r\n",
    "12.95054014\t,\r\n",
    "15.71842579\t,\r\n",
    "13.66394853\t,\r\n",
    "14.15091517\t,\r\n",
    "14.1940651\t,\r\n",
    "14.40156349\t,\r\n",
    "14.94759316\t,\r\n",
    "15.26755054\t,\r\n",
    "16.28998159\t,\r\n",
    "15.3173622\t,\r\n",
    "16.04905809\t,\r\n",
    "11.64434001\t,\r\n",
    "15.30957208\t,\r\n",
    "12.54030905\t,\r\n",
    "16.85390175\t,\r\n",
    "16.25564907\t,\r\n",
    "14.80833148\t,\r\n",
    "14.37636704\t,\r\n",
    "15.91454049\t,\r\n",
    "14.3311836\t,\r\n",
    "15.17921684\t,\r\n",
    "13.87893053\t,\r\n",
    "14.54230361\t,\r\n",
    "15.69949039\t,\r\n",
    "13.615059\t,\r\n",
    "13.46399997\t,\r\n",
    "14.80455398\t,\r\n",
    "15.21221691\t,\r\n",
    "13.99138791\t,\r\n",
    "14.18648025\t,\r\n",
    "14.27140335\t,\r\n",
    "18.5196495\t,\r\n",
    "12.02162555\t,\r\n",
    "15.08161944\t,\r\n",
    "14.88442283\t,\r\n",
    "17.98191011\t,\r\n",
    "16.63039954\t,\r\n",
    "14.09725843\t,\r\n",
    "14.31772764\t,\r\n",
    "17.32364966\t,\r\n",
    "15.53600636\t,\r\n",
    "15.00960555\t,\r\n",
    "15.88843921\t,\r\n",
    "14.03271403\t,\r\n",
    "14.52931845\t,\r\n",
    "15.86103599\t,\r\n",
    "15.89299038\t,\r\n",
    "17.04483021\t,\r\n",
    "15.75950893\t,\r\n",
    "15.40730953\t,\r\n",
    "12.00945504\t,\r\n",
    "12.9408721\t,\r\n",
    "13.24274699\t,\r\n",
    "16.00632951\t,\r\n",
    "15.0669061\t,\r\n",
    "18.1309304\t,\r\n",
    "14.54453287\t,\r\n",
    "14.54464132\t,\r\n",
    "15.17669405\t,\r\n",
    "14.59466901\t,\r\n",
    "18.69539195\t,\r\n",
    "13.89664016\t,\r\n",
    "16.23197718\t,\r\n",
    "16.87723441\t,\r\n",
    "15.76535967\t,\r\n",
    "14.7042566\t,\r\n",
    "15.61998355\t,\r\n",
    "16.25163579\t,\r\n",
    "15.370251\t,\r\n",
    "18.359871\t,\r\n",
    "15.78550052\t,\r\n",
    "14.45535731\t,\r\n",
    "14.50690224\t,\r\n",
    "14.35899892\t,\r\n",
    "15.98325971\t,\r\n",
    "13.30493981\t,\r\n",
    "13.91091186\t,\r\n",
    "15.82415559\t,\r\n",
    "15.16788926\t,\r\n",
    "14.84197608\t,\r\n",
    "14.2909135\t,\r\n",
    "16.93408558\t,\r\n",
    "15.14432648\t,\r\n",
    "16.43832831\t,\r\n",
    "16.34309941\t,\r\n",
    "14.28901358\t,\r\n",
    "16.34379404\t,\r\n",
    "14.60302952\t,\r\n",
    "14.57725273\t,\r\n",
    "14.41240969\t,\r\n",
    "13.99730378\t,\r\n",
    "15.53766686\t,\r\n",
    "13.21273926\t,\r\n",
    "14.44367346\t,\r\n",
    "13.80109207\t,\r\n",
    "16.04456502\t,\r\n",
    "14.78102598\t,\r\n",
    "16.41137888\t,\r\n",
    "14.09509157\t,\r\n",
    "17.05928367\t,\r\n",
    "15.45591689\t,\r\n",
    "14.64076418\t,\r\n",
    "17.06657802\t,\r\n",
    "14.05956768\t,\r\n",
    "14.66049388\t,\r\n",
    "17.32325929\t,\r\n",
    "13.41243368\t,\r\n",
    "17.03684281\t,\r\n",
    "17.24671587\t,\r\n",
    "16.50103959\t,\r\n",
    "15.78067557\t,\r\n",
    "15.45416737\t,\r\n",
    "14.23879822\t,\r\n",
    "16.39171168\t,\r\n",
    "14.81582606\t,\r\n",
    "16.45908715\t,\r\n",
    "13.80956558\t,\r\n",
    "14.46463252\t,\r\n",
    "16.48478603\t,\r\n",
    "13.3939183\t,\r\n",
    "16.92445181\t,\r\n",
    "16.0441812\t,\r\n",
    "13.62925434\t,\r\n",
    "14.27755662\t,\r\n",
    "19.52531654\t,\r\n",
    "15.73375382\t,\r\n",
    "14.45473176\t,\r\n",
    "16.08394993\t,\r\n",
    "13.28728577\t,\r\n",
    "14.84994161\t,\r\n",
    "16.94192657\t,\r\n",
    "15.53028732\t,\r\n",
    "13.92313599\t,\r\n",
    "14.13903834\t,\r\n",
    "15.71040744\t,\r\n",
    "15.85718201\t,\r\n",
    "16.86550906\t,\r\n",
    "16.37312144\t,\r\n",
    "15.99997858\t,\r\n",
    "15.17303503\t,\r\n",
    "15.19407265\t,\r\n",
    "16.2897763\t,\r\n",
    "15.37708333\t,\r\n",
    "14.85839279\t,\r\n",
    "16.11108593\t,\r\n",
    "13.77387258\t,\r\n",
    "16.18827215\t,\r\n",
    "14.88551373\t,\r\n",
    "13.71393322\t,\r\n",
    "15.57513283\t,\r\n",
    "15.10393492\t,\r\n",
    "14.86948151\t,\r\n",
    "11.45451805\t,\r\n",
    "15.8430462\t,\r\n",
    "15.14620706\t,\r\n",
    "14.27619232\t,\r\n",
    "12.44157249\t,\r\n",
    "12.78105341\t,\r\n",
    "17.71748301\t,\r\n",
    "14.9325689\t,\r\n",
    "14.99173097\t,\r\n",
    "15.12356501\t,\r\n",
    "14.99037153\t,\r\n",
    "16.51559155\t,\r\n",
    "13.47648559\t,\r\n",
    "14.56520144\t,\r\n",
    "14.35211757\t,\r\n",
    "13.86166807\t,\r\n",
    "14.41538329\t,\r\n",
    "16.6135837\t,\r\n",
    "16.03327588\t,\r\n",
    "13.68271298\t,\r\n",
    "14.64544176\t,\r\n",
    "16.22158557\t,\r\n",
    "14.56315685\t,\r\n",
    "14.66439993\t,\r\n",
    "17.39239084\t,\r\n",
    "14.29590086\t,\r\n",
    "16.34156237\t,\r\n",
    "16.44258867\t,\r\n",
    "15.48529921\t,\r\n",
    "14.63044886\t,\r\n",
    "15.90472432\t,\r\n",
    "16.98014645\t,\r\n",
    "13.80186364\t,\r\n",
    "16.04147144\t,\r\n",
    "16.44731936\t,\r\n",
    "12.26223809\t,\r\n",
    "14.26276137\t,\r\n",
    "12.48522614\t,\r\n",
    "13.39732941\t,\r\n",
    "13.87417746\t,\r\n",
    "13.76172256\t,\r\n",
    "17.19489799\t,\r\n",
    "14.28018586\t,\r\n",
    "16.22172572\t,\r\n",
    "17.01462645\t,\r\n",
    "14.6064813\t,\r\n",
    "13.8064717\t,\r\n",
    "13.68157138\t,\r\n",
    "13.2481704\t,\r\n",
    "16.02845319\t,\r\n",
    "13.28515113\t,\r\n",
    "14.11021195\t,\r\n",
    "17.44116264\t,\r\n",
    "14.08944464\t,\r\n",
    "12.90067854\t,\r\n",
    "15.40159211\t,\r\n",
    "16.6259299\t,\r\n",
    "14.55742231\t,\r\n",
    "15.99633425\t,\r\n",
    "15.51960074\t,\r\n",
    "13.15094403\t,\r\n",
    "15.21122686\t,\r\n",
    "15.43628204\t,\r\n",
    "13.50214765\t,\r\n",
    "17.72728549\t,\r\n",
    "17.17568075\t,\r\n",
    "14.6030861\t,\r\n",
    "13.84639449\t,\r\n",
    "17.48006538\t,\r\n",
    "11.59803962\t,\r\n",
    "14.62737607\t,\r\n",
    "18.05689736\t,\r\n",
    "14.25182417\t,\r\n",
    "13.64003189\t,\r\n",
    "15.08396353\t,\r\n",
    "13.81635642\t,\r\n",
    "14.18322456\t,\r\n",
    "12.64194124\t,\r\n",
    "15.24677599\t,\r\n",
    "18.63692157\t,\r\n",
    "16.60209156\t,\r\n",
    "13.58083914\t,\r\n",
    "16.15614774\t,\r\n",
    "11.01525986\t,\r\n",
    "13.2100272\t,\r\n",
    "13.49793452\t,\r\n",
    "14.75165539\t,\r\n",
    "16.24389989\t,\r\n",
    "15.6838218\t,\r\n",
    "16.18742523\t,\r\n",
    "14.14443141\t,\r\n",
    "17.19808575\t,\r\n",
    "16.23171349\t,\r\n",
    "12.52842472\t,\r\n",
    "14.97289662\t,\r\n",
    "13.83285323\t,\r\n",
    "12.62387819\t,\r\n",
    "12.82900902\t,\r\n",
    "12.30479658\t,\r\n",
    "15.33721571\t,\r\n",
    "15.28251918\t,\r\n",
    "14.89879165\t,\r\n",
    "14.90473449\t,\r\n",
    "17.24676656\t,\r\n",
    "14.97432109\t,\r\n",
    "15.75142761\t,\r\n",
    "15.60888255\t,\r\n",
    "14.9014663\t,\r\n",
    "15.41545673\t,\r\n",
    "18.60794059\t,\r\n",
    "16.22081033\t,\r\n",
    "13.46214278\t,\r\n",
    "16.03224169\t,\r\n",
    "14.9699202\t,\r\n",
    "13.22106768\t,\r\n",
    "15.03025681\t,\r\n",
    "13.89172325\t,\r\n",
    "15.41100369\t,\r\n",
    "15.77840872\t,\r\n",
    "15.62465025\t,\r\n",
    "16.3387248\t,\r\n",
    "14.51833752\t,\r\n",
    "15.32209245\t,\r\n",
    "15.02232153\t,\r\n",
    "14.97517839\t,\r\n",
    "15.69986647\t,\r\n",
    "16.89497291\t,\r\n",
    "17.16068665\t,\r\n",
    "15.27601305\t,\r\n",
    "15.91021335\t,\r\n",
    "11.80960554\t,\r\n",
    "17.19342411\t,\r\n",
    "13.23916392\t,\r\n",
    "14.60963055\t,\r\n",
    "17.46578783\t,\r\n",
    "15.5920274\t,\r\n",
    "13.55016493\t,\r\n",
    "16.78833538\t,\r\n",
    "15.79816372\t,\r\n",
    "18.03504696\t,\r\n",
    "14.94383392\t,\r\n",
    "13.32591328\t,\r\n",
    "15.48793855\t,\r\n",
    "15.70211023\t,\r\n",
    "15.32746083\t,\r\n",
    "13.52191066\t,\r\n",
    "14.73495529\t,\r\n",
    "13.63612315\t,\r\n",
    "13.91447506\t,\r\n",
    "13.47020993\t,\r\n",
    "17.24193656\t,\r\n",
    "15.58819775\t,\r\n",
    "17.88800031\t,\r\n",
    "17.44311579\t,\r\n",
    "16.22165679\t,\r\n",
    "14.93418453\t,\r\n",
    "15.06813495\t,\r\n",
    "15.58143017\t,\r\n",
    "20.5590816\t,\r\n",
    "17.36953755\t,\r\n",
    "13.17449595\t,\r\n",
    "15.44638492\t,\r\n",
    "15.88709902\t,\r\n",
    "16.2893203\t,\r\n",
    "13.11907955\t,\r\n",
    "12.17423924\t,\r\n",
    "14.03374402\t,\r\n",
    "13.69408843\t,\r\n",
    "15.11722019\t,\r\n",
    "15.39811812\t,\r\n",
    "15.44964975\t,\r\n",
    "14.58080174\t,\r\n",
    "15.93512397\t,\r\n",
    "15.66482134\t,\r\n",
    "14.67203959\t,\r\n",
    "14.05960779\t,\r\n",
    "13.95067508\t,\r\n",
    "17.87014884\t,\r\n",
    "14.56111446\t,\r\n",
    "13.04110145\t,\r\n",
    "14.14248379\t,\r\n",
    "15.03505956\t,\r\n",
    "16.34253769\t,\r\n",
    "16.79342532\t,\r\n",
    "17.75815428\t,\r\n",
    "14.93240774\t,\r\n",
    "13.75857802\t,\r\n",
    "17.04770641\t,\r\n",
    "15.61854422\t,\r\n",
    "14.81792606\t,\r\n",
    "13.87807231\t,\r\n",
    "14.72210254\t,\r\n",
    "17.38278906\t,\r\n",
    "14.77744898\t,\r\n",
    "17.53680721\t,\r\n",
    "12.48155282\t,\r\n",
    "15.19112512\t,\r\n",
    "17.40117937\t,\r\n",
    "14.52881266\t,\r\n",
    "17.72333323\t,\r\n",
    "15.75471189\t,\r\n",
    "14.32215304\t,\r\n",
    "14.15781175\t,\r\n",
    "15.36238189\t,\r\n",
    "13.7416192\t,\r\n",
    "15.14786345\t,\r\n",
    "16.88532609\t,\r\n",
    "14.6848924\t,\r\n",
    "12.76773347\t,\r\n",
    "14.50799349\t,\r\n",
    "15.17456604\t,\r\n",
    "15.75297884\t,\r\n",
    "15.64365494\t,\r\n",
    "16.14807793\t,\r\n",
    "11.87021634\t,\r\n",
    "16.84980713\t,\r\n",
    "15.78554186\t,\r\n",
    "16.0341222\t,\r\n",
    "15.99750242\t,\r\n",
    "15.72779125\t,\r\n",
    "17.81447045\t,\r\n",
    "12.02764113\t,\r\n",
    "16.02754215\t,\r\n",
    "13.67693423\t,\r\n",
    "14.86520665\t,\r\n",
    "10.48235362\t,\r\n",
    "16.57486217\t,\r\n",
    "15.27919927\t,\r\n",
    "14.36589306\t,\r\n",
    "16.47962903\t,\r\n",
    "16.33990784\t,\r\n",
    "13.93165035\t,\r\n",
    "14.65227066\t,\r\n",
    "16.0427857\t,\r\n",
    "16.59682316\t,\r\n",
    "16.31449571\t,\r\n",
    "14.69009893\t,\r\n",
    "12.94277231\t,\r\n",
    "13.3693229\t]"
   ]
  },
  {
   "cell_type": "markdown",
   "metadata": {
    "id": "Z1IcdAxBJNMT"
   },
   "source": [
    "#### Solution A"
   ]
  },
  {
   "cell_type": "code",
   "execution_count": 17,
   "metadata": {
    "colab": {
     "base_uri": "https://localhost:8080/"
    },
    "executionInfo": {
     "elapsed": 1224,
     "status": "ok",
     "timestamp": 1609424404768,
     "user": {
      "displayName": "eli terris-assa",
      "photoUrl": "https://lh3.googleusercontent.com/a-/AOh14GhprK327r2YLNn-SvBUyI-hzP-H15IFwg15cOpdfg=s64",
      "userId": "06912990574002737110"
     },
     "user_tz": -120
    },
    "id": "8roshh7gNTVH",
    "outputId": "1555ff99-229f-4661-8c54-e2dfc840ea53"
   },
   "outputs": [
    {
     "name": "stdout",
     "output_type": "stream",
     "text": [
      "In gaussian mixtures we know:\n",
      "Equation 1: w1+w2+w3=1\n",
      "Equation 2: var = w1*sig1^2 + w2*sig2^2 + w3*sig3^2  w1*(mu1)^2 + w2*(mu2)^2 + w3*(mu3)^2-(w1*mu1+w2*mu2+w3*mu3)^2\n",
      "Equation 3: mean = w1*mu1 + w2*mu2 + w3*mu3\n",
      "solving these 3 equation for (w1,w3,mu3) we get:\n",
      "mu1 = 4, mu2 = 9, mu3 = 15.086\n",
      "w1 = 0.123, w2 = 0.25, w3 = 0.627\n"
     ]
    }
   ],
   "source": [
    "from sympy.solvers import solve\n",
    "from sympy import var, solve\n",
    "\n",
    "\n",
    "# unknowns\n",
    "w1 = var('w1')\n",
    "w3 = var('w3')\n",
    "mu3 = var('mu3')\n",
    "\n",
    "#knows\n",
    "mu1=4\n",
    "mu2=9\n",
    "sig1=0.5\n",
    "sig2=0.5\n",
    "sig3=1.5\n",
    "w2=0.25\n",
    "\n",
    "# from data\n",
    "mean = np.mean(GMDXLSX)\n",
    "var = np.var(GMDXLSX)\n",
    "\n",
    "print(\"In gaussian mixtures we know:\")\n",
    "\n",
    "print(\"Equation 1: w1+w2+w3=1\")\n",
    "eq1 = w1+w2+w3-1\n",
    "print(\"Equation 2: var = w1*sig1^2 + w2*sig2^2 + w3*sig3^2  w1*(mu1)^2 + w2*(mu2)^2 + w3*(mu3)^2-(w1*mu1+w2*mu2+w3*mu3)^2\")\n",
    "eq2 = (w1)*(sig1**2) + (w2)*(sig2**2) + (w3)*(sig3**2) + w1*(mu1)**2 + w2*(mu2)**2 + w3*(mu3)**2-(w1*mu1+w2*mu2+w3*mu3)**2-var\n",
    "print(\"Equation 3: mean = w1*mu1 + w2*mu2 + w3*mu3\")\n",
    "eq3 = w1*mu1 + w2*mu2 + w3*mu3 - mean\n",
    "\n",
    "print(\"solving these 3 equation for (w1,w3,mu3) we get:\")\n",
    "y = solve( (eq1,eq2,eq3),(w1,w3,mu3) ) \n",
    "#print(y)\n",
    "\n",
    "#  if y[i] is the negative solution --> not valid\n",
    "i=0\n",
    "if (y[i][0] < 0 or y[i][1] <0 or y[i][2] < 0):\n",
    "  i=1\n",
    "w1 = y[i][0]\n",
    "w3 = y[i][1]\n",
    "mu3 = y[i][2]\n",
    "print(\"mu1 = 4, mu2 = 9, mu3 = \"+ str(round(mu3,3)))\n",
    "\n",
    "print(f\"w1 = {str(round(w1,3))}, w2 = 0.25, w3 = { str(round(w3,3))}\")\n",
    "\n",
    "\r\n",
    "\r\n"
   ]
  },
  {
   "cell_type": "code",
   "execution_count": 18,
   "metadata": {
    "colab": {
     "base_uri": "https://localhost:8080/"
    },
    "executionInfo": {
     "elapsed": 1983,
     "status": "ok",
     "timestamp": 1609423033209,
     "user": {
      "displayName": "eli terris-assa",
      "photoUrl": "https://lh3.googleusercontent.com/a-/AOh14GhprK327r2YLNn-SvBUyI-hzP-H15IFwg15cOpdfg=s64",
      "userId": "06912990574002737110"
     },
     "user_tz": -120
    },
    "id": "zKFtogxZYir2",
    "outputId": "96a80a34-468d-48f4-9374-c0bc5579110e"
   },
   "outputs": [
    {
     "name": "stdout",
     "output_type": "stream",
     "text": [
      "Using EM:\n",
      "mu1 = 4, mu2 = 9, mu3 = 15.101\n",
      "w1 = 0.125 , w2 = 0.25, w3 = 0.625\n"
     ]
    }
   ],
   "source": [
    "def run_em(x, params,minRun = 15):\r\n",
    "    avg_likelihoods = []\r\n",
    "    i =1\r\n",
    "    while True:\r\n",
    "        avg_likelihood = get_avg_likelihood(x, params)\r\n",
    "        avg_likelihoods.append(avg_likelihood)\r\n",
    "        if len(avg_likelihoods) > 10 and abs(avg_likelihoods[-1] - avg_likelihoods[-2]) < 0.000001:\r\n",
    "            break\r\n",
    "        #print(f\"Iteration {i}:\")\r\n",
    "        #print(params)\r\n",
    "        #i=i+1\r\n",
    "        params = m_step(x, params)\r\n",
    "            \r\n",
    "    return params\r\n",
    "def get_avg_likelihood(x, params):\r\n",
    "    _,likelihood = e_step(x, params)\r\n",
    "    return np.mean(likelihood)\r\n",
    "def e_step(x, params):\r\n",
    "    r1 = (params[\"w1\"]) * (stats.norm.pdf(x,loc = params[\"mu0\"], scale = params[\"sigma0\"]))\r\n",
    "    r2 = (params[\"w2\"]) * (stats.norm.pdf(x,loc = params[\"mu1\"], scale = params[\"sigma1\"]))\r\n",
    "    r3 = (params[\"w3\"]) * (stats.norm.pdf(x,loc = params[\"mu2\"], scale = params[\"sigma2\"]))\r\n",
    "    \r\n",
    "    r = r1+r2+r3\r\n",
    "    r1 = r1/r\r\n",
    "    r2 = r2/r\r\n",
    "    r3 = r3/r\r\n",
    "    \r\n",
    "    sumr1 = np.sum(r1)\r\n",
    "    sumr2 = np.sum(r2)\r\n",
    "    sumr3 = np.sum(r3)\r\n",
    "\r\n",
    "    sumr = sumr1+sumr2+sumr3\r\n",
    "\r\n",
    "    return  [r1 ,r2 ,r3],[sumr1 ,sumr2 ,sumr3] \r\n",
    "\r\n",
    "def m_step(x, params):\r\n",
    "    N = len(x)\r\n",
    "    r,sumr = e_step(x, params)\r\n",
    "    \r\n",
    "    w1 = (sumr[0]/N)\r\n",
    "    w2 = 0.25 # (sumr[1]/N)\r\n",
    "    w3 = (sumr[2]/N)\r\n",
    "\r\n",
    "    mu1 = 4 #sum(r[0]*x)/(w1*N)\r\n",
    "    mu2 = 9 #sum(r[1]*x)/(w2*N)\r\n",
    "    mu3 = sum(r[2]*x)/(w3*N)\r\n",
    "    \r\n",
    "    sigma1 = 0.5\r\n",
    "    sigma2 = 0.5\r\n",
    "    sigma3 = 1.5\r\n",
    "\r\n",
    "    params = {'w1': w1,'w2': w2,'w3': w3, 'mu0': mu1, 'mu1': mu2,'mu2':mu3, 'sigma0': sigma1, 'sigma1': sigma2,'sigma2':sigma3}\r\n",
    "        \r\n",
    "    return params\r\n",
    "print(\"Using EM:\")\r\n",
    "\r\n",
    "params = {'w1': (1-0.25)/2,'w2': 0.25,'w3': (1-0.25)/2,\r\n",
    "          'mu0': 4, 'mu1': 9,'mu2':np.mean(GMDXLSX),\r\n",
    "          'sigma0': 0.5, 'sigma1': 0.5,'sigma2':1.5}\r\n",
    "params = run_em(GMDXLSX,params)\r\n",
    "\r\n",
    "print(f\"mu1 = 4, mu2 = 9, mu3 = { round(params['mu2'],3)}\")\r\n",
    "print(f\"w1 = { round(params['w1'],3)} , w2 = 0.25, w3 = { round(params['w3'],3)}\")"
   ]
  },
  {
   "cell_type": "markdown",
   "metadata": {
    "id": "w6tWlMC3qOEp"
   },
   "source": [
    "#### 3.B\n",
    "Plot a graph of the pdf of the distribution you inferred. Select adequate limits for the axes for this plot and explain your decision."
   ]
  },
  {
   "cell_type": "code",
   "execution_count": 19,
   "metadata": {
    "colab": {
     "base_uri": "https://localhost:8080/",
     "height": 312
    },
    "executionInfo": {
     "elapsed": 1317,
     "status": "ok",
     "timestamp": 1609424520771,
     "user": {
      "displayName": "eli terris-assa",
      "photoUrl": "https://lh3.googleusercontent.com/a-/AOh14GhprK327r2YLNn-SvBUyI-hzP-H15IFwg15cOpdfg=s64",
      "userId": "06912990574002737110"
     },
     "user_tz": -120
    },
    "id": "mvl81aPSNhR9",
    "outputId": "67281b14-1ade-4171-93e0-8235e4485e70"
   },
   "outputs": [
    {
     "data": {
      "text/plain": [
       "Text(0.5, 1.0, 'Inferred Destribution')"
      ]
     },
     "execution_count": 19,
     "metadata": {},
     "output_type": "execute_result"
    },
    {
     "data": {
      "image/png": "[encoded data removed]",
      "text/plain": [
       "<Figure size 432x288 with 1 Axes>"
      ]
     },
     "metadata": {
      "needs_background": "light"
     },
     "output_type": "display_data"
    }
   ],
   "source": [
    "#sig = np.std(GMDXLSX)\r\n",
    "#mean = np.mean(GMDXLSX)\r\n",
    "\r\n",
    "N1 = stats.norm.rvs(loc=params[\"mu0\"], scale=params[\"sigma0\"], size=1000)\r\n",
    "N2 = stats.norm.rvs(loc=params[\"mu1\"], scale=params[\"sigma1\"], size=1000)\r\n",
    "N3 = stats.norm.rvs(loc=params[\"mu2\"], scale=params[\"sigma2\"], size=1000)\r\n",
    "\r\n",
    "# we will limit the graph plus and minus 3*std in order to cover 99% of the the dataset\r\n",
    "# while using the lower mean as the start and the higher mean as an end: \r\n",
    "start = np.mean(N1) - 3*params[\"sigma0\"]\r\n",
    "end =   np.mean(N3)  + 3*params[\"sigma2\"]\r\n",
    "plt.hist(N1,bins=100)\r\n",
    "plt.hist(N2,bins=100)\r\n",
    "plt.hist(N3,bins=100)\r\n",
    "\r\n",
    "\r\n",
    "plt.xlim(left = start, right = end)\r\n",
    "plt.xlabel(\"Input\")\r\n",
    "plt.ylabel(\"Count\")\r\n",
    "plt.title(\"Inferred Destribution\")\r\n",
    "\r\n"
   ]
  },
  {
   "cell_type": "markdown",
   "metadata": {
    "id": "CChIoA5iqOEp"
   },
   "source": [
    "#### 3.C\n",
    "Describe two ways for generating data for a GMD random variable with:\n",
    "* centers at  $\\mu_1+3, \\mu_2+5, mu_3+7$\n",
    "* $\\sigma_1=\\sigma_2=\\sigma_3=1$\n",
    "* $w_1=w_2=w_3=0.33$"
   ]
  },
  {
   "cell_type": "markdown",
   "metadata": {
    "id": "ZFvWvSYOZCAE"
   },
   "source": [
    "1) Make 3 random gaussians each with sigma=1 and corresponding mu, from each gaussian genarate equal amounts of random data and concatinate all of in into a sigle data frame\r\n",
    "\r\n",
    "2) Make 3 random gaussians and randomly pick from one of them (equal probability) into a GMD \r\n"
   ]
  },
  {
   "cell_type": "markdown",
   "metadata": {
    "id": "fwlSQjQjqOEp"
   },
   "source": [
    "#### 3.D\n",
    "Use one of the above approaches to generate 1000 points and plot a histogram of the result (decide on bins, axes etc)\n"
   ]
  },
  {
   "cell_type": "code",
   "execution_count": 23,
   "metadata": {
    "colab": {
     "base_uri": "https://localhost:8080/",
     "height": 312
    },
    "executionInfo": {
     "elapsed": 909,
     "status": "ok",
     "timestamp": 1609424539006,
     "user": {
      "displayName": "eli terris-assa",
      "photoUrl": "https://lh3.googleusercontent.com/a-/AOh14GhprK327r2YLNn-SvBUyI-hzP-H15IFwg15cOpdfg=s64",
      "userId": "06912990574002737110"
     },
     "user_tz": -120
    },
    "id": "RZWQnInvxTzR",
    "outputId": "2eb73315-00d9-400a-c409-2a915a7936e5"
   },
   "outputs": [
    {
     "ename": "TypeError",
     "evalue": "loop of ufunc does not support argument 0 of type Float which has no callable sqrt method",
     "output_type": "error",
     "traceback": [
      "\u001b[0;31m---------------------------------------------------------------------------\u001b[0m",
      "\u001b[0;31mAttributeError\u001b[0m                            Traceback (most recent call last)",
      "\u001b[0;31mAttributeError\u001b[0m: 'Float' object has no attribute 'sqrt'",
      "\nThe above exception was the direct cause of the following exception:\n",
      "\u001b[0;31mTypeError\u001b[0m                                 Traceback (most recent call last)",
      "\u001b[0;32m<ipython-input-23-177a6cfd1f03>\u001b[0m in \u001b[0;36m<module>\u001b[0;34m\u001b[0m\n\u001b[1;32m      7\u001b[0m \u001b[0;34m\u001b[0m\u001b[0m\n\u001b[1;32m      8\u001b[0m \u001b[0mnew_start\u001b[0m \u001b[0;34m=\u001b[0m \u001b[0mnp\u001b[0m\u001b[0;34m.\u001b[0m\u001b[0mmean\u001b[0m\u001b[0;34m(\u001b[0m\u001b[0mf1\u001b[0m\u001b[0;34m)\u001b[0m \u001b[0;34m-\u001b[0m \u001b[0;36m3\u001b[0m\u001b[0;34m*\u001b[0m\u001b[0mnp\u001b[0m\u001b[0;34m.\u001b[0m\u001b[0mstd\u001b[0m\u001b[0;34m(\u001b[0m\u001b[0mf1\u001b[0m\u001b[0;34m)\u001b[0m\u001b[0;34m\u001b[0m\u001b[0;34m\u001b[0m\u001b[0m\n\u001b[0;32m----> 9\u001b[0;31m \u001b[0mnew_end\u001b[0m \u001b[0;34m=\u001b[0m \u001b[0mnp\u001b[0m\u001b[0;34m.\u001b[0m\u001b[0mmean\u001b[0m\u001b[0;34m(\u001b[0m\u001b[0mf3\u001b[0m\u001b[0;34m)\u001b[0m \u001b[0;34m+\u001b[0m \u001b[0;36m3\u001b[0m\u001b[0;34m*\u001b[0m\u001b[0mnp\u001b[0m\u001b[0;34m.\u001b[0m\u001b[0mstd\u001b[0m\u001b[0;34m(\u001b[0m\u001b[0mf3\u001b[0m\u001b[0;34m)\u001b[0m\u001b[0;34m\u001b[0m\u001b[0;34m\u001b[0m\u001b[0m\n\u001b[0m\u001b[1;32m     10\u001b[0m \u001b[0;34m\u001b[0m\u001b[0m\n\u001b[1;32m     11\u001b[0m \u001b[0;31m#n, bins, patches = plt.hist(x=f1, bins=100,color='red')\u001b[0m\u001b[0;34m\u001b[0m\u001b[0;34m\u001b[0m\u001b[0;34m\u001b[0m\u001b[0m\n",
      "\u001b[0;32m<__array_function__ internals>\u001b[0m in \u001b[0;36mstd\u001b[0;34m(*args, **kwargs)\u001b[0m\n",
      "\u001b[0;32m/usr/local/lib/python3.8/site-packages/numpy/core/fromnumeric.py\u001b[0m in \u001b[0;36mstd\u001b[0;34m(a, axis, dtype, out, ddof, keepdims)\u001b[0m\n\u001b[1;32m   3456\u001b[0m             \u001b[0;32mreturn\u001b[0m \u001b[0mstd\u001b[0m\u001b[0;34m(\u001b[0m\u001b[0maxis\u001b[0m\u001b[0;34m=\u001b[0m\u001b[0maxis\u001b[0m\u001b[0;34m,\u001b[0m \u001b[0mdtype\u001b[0m\u001b[0;34m=\u001b[0m\u001b[0mdtype\u001b[0m\u001b[0;34m,\u001b[0m \u001b[0mout\u001b[0m\u001b[0;34m=\u001b[0m\u001b[0mout\u001b[0m\u001b[0;34m,\u001b[0m \u001b[0mddof\u001b[0m\u001b[0;34m=\u001b[0m\u001b[0mddof\u001b[0m\u001b[0;34m,\u001b[0m \u001b[0;34m**\u001b[0m\u001b[0mkwargs\u001b[0m\u001b[0;34m)\u001b[0m\u001b[0;34m\u001b[0m\u001b[0;34m\u001b[0m\u001b[0m\n\u001b[1;32m   3457\u001b[0m \u001b[0;34m\u001b[0m\u001b[0m\n\u001b[0;32m-> 3458\u001b[0;31m     return _methods._std(a, axis=axis, dtype=dtype, out=out, ddof=ddof,\n\u001b[0m\u001b[1;32m   3459\u001b[0m                          **kwargs)\n\u001b[1;32m   3460\u001b[0m \u001b[0;34m\u001b[0m\u001b[0m\n",
      "\u001b[0;32m/usr/local/lib/python3.8/site-packages/numpy/core/_methods.py\u001b[0m in \u001b[0;36m_std\u001b[0;34m(a, axis, dtype, out, ddof, keepdims)\u001b[0m\n\u001b[1;32m    222\u001b[0m         \u001b[0mret\u001b[0m \u001b[0;34m=\u001b[0m \u001b[0mret\u001b[0m\u001b[0;34m.\u001b[0m\u001b[0mdtype\u001b[0m\u001b[0;34m.\u001b[0m\u001b[0mtype\u001b[0m\u001b[0;34m(\u001b[0m\u001b[0mum\u001b[0m\u001b[0;34m.\u001b[0m\u001b[0msqrt\u001b[0m\u001b[0;34m(\u001b[0m\u001b[0mret\u001b[0m\u001b[0;34m)\u001b[0m\u001b[0;34m)\u001b[0m\u001b[0;34m\u001b[0m\u001b[0;34m\u001b[0m\u001b[0m\n\u001b[1;32m    223\u001b[0m     \u001b[0;32melse\u001b[0m\u001b[0;34m:\u001b[0m\u001b[0;34m\u001b[0m\u001b[0;34m\u001b[0m\u001b[0m\n\u001b[0;32m--> 224\u001b[0;31m         \u001b[0mret\u001b[0m \u001b[0;34m=\u001b[0m \u001b[0mum\u001b[0m\u001b[0;34m.\u001b[0m\u001b[0msqrt\u001b[0m\u001b[0;34m(\u001b[0m\u001b[0mret\u001b[0m\u001b[0;34m)\u001b[0m\u001b[0;34m\u001b[0m\u001b[0;34m\u001b[0m\u001b[0m\n\u001b[0m\u001b[1;32m    225\u001b[0m \u001b[0;34m\u001b[0m\u001b[0m\n\u001b[1;32m    226\u001b[0m     \u001b[0;32mreturn\u001b[0m \u001b[0mret\u001b[0m\u001b[0;34m\u001b[0m\u001b[0;34m\u001b[0m\u001b[0m\n",
      "\u001b[0;31mTypeError\u001b[0m: loop of ufunc does not support argument 0 of type Float which has no callable sqrt method"
     ]
    }
   ],
   "source": [
    "f1 = stats.norm.rvs(size = 1000 , loc = mu1+3,scale = 1)\r\n",
    "f2 = stats.norm.rvs(size = 1000 , loc = mu2+5,scale = 1)\r\n",
    "f3 = stats.norm.rvs(size = 1000 , loc = round(mu3,5)+7,scale = 1)\r\n",
    "\r\n",
    "GMD = np.append(f1,f2)\r\n",
    "GMD = np.append(GMD,f3)\r\n",
    "\r\n",
    "new_start = np.mean(f1) - 3*np.std(f1)\r\n",
    "new_end = np.mean(f3) + 3*np.std(f3)\r\n",
    "\r\n",
    "#n, bins, patches = plt.hist(x=f1, bins=100,color='red')\r\n",
    "#n, bins, patches = plt.hist(x=f2, bins=100,color='green')\r\n",
    "#n, bins, patches = plt.hist(x=f3, bins=100,color='blue')\r\n",
    "#plt.title(\"3 Gaussians:\")\r\n",
    "\r\n",
    "n, bins, patches = plt.hist(x=GMD, bins=100)\r\n",
    "plt.xlim(left = new_start, right = new_end)\r\n",
    "plt.title(\"Appended Lists:\")\r\n",
    "plt.xlabel(\"Input\")\r\n",
    "plt.ylabel(\"Count\")\r\n",
    "\r\n"
   ]
  },
  {
   "cell_type": "markdown",
   "metadata": {
    "id": "CsNngZNvqOEp"
   },
   "source": [
    "#### 3.E - BONUS\n",
    "Use the other one to generate 1000 more points and draw two comparative histograms.\n"
   ]
  },
  {
   "cell_type": "code",
   "execution_count": 22,
   "metadata": {
    "colab": {
     "base_uri": "https://localhost:8080/",
     "height": 295
    },
    "executionInfo": {
     "elapsed": 1341,
     "status": "ok",
     "timestamp": 1609424542755,
     "user": {
      "displayName": "eli terris-assa",
      "photoUrl": "https://lh3.googleusercontent.com/a-/AOh14GhprK327r2YLNn-SvBUyI-hzP-H15IFwg15cOpdfg=s64",
      "userId": "06912990574002737110"
     },
     "user_tz": -120
    },
    "id": "bi-IRGWBO9F5",
    "outputId": "c1e1134f-b02e-4c31-fbf1-44ca6fa9b6cf"
   },
   "outputs": [
    {
     "ename": "SyntaxError",
     "evalue": "invalid syntax (<ipython-input-22-07442f75004b>, line 9)",
     "output_type": "error",
     "traceback": [
      "\u001b[0;36m  File \u001b[0;32m\"<ipython-input-22-07442f75004b>\"\u001b[0;36m, line \u001b[0;32m9\u001b[0m\n\u001b[0;31m    for i in range    000):\u001b[0m\n\u001b[0m                      ^\u001b[0m\n\u001b[0;31mSyntaxError\u001b[0m\u001b[0;31m:\u001b[0m invalid syntax\n"
     ]
    }
   ],
   "source": [
    "f={}\r\n",
    "f[0] = stats.norm.rvs(size = 1000 , loc = mu1+3,scale = 1)\r\n",
    "f[1] = stats.norm.rvs(size = 1000 , loc = mu2+5,scale = 1)\r\n",
    "f[2] = stats.norm.rvs(size = 1000 , loc = round(mu3,5)+7,scale = 1)\r\n",
    "\r\n",
    "from random import randint\r\n",
    "\r\n",
    "G\n",
    "MD2= []\r\n",
    "for i in range    000):\r\n",
    "  GMD2.append(np.random.choice(f[randint(0,2)]))\r\n",
    "\r\n",
    "\r\n",
    "\r\n",
    "plt.hist(GMD2, bins = 100, alpha=0.5, label='Random Selection')\r\n",
    "plt.hist(GMD, bins = 100, alpha=0.5, label='Appended Lists')\r\n",
    "plt.legend(loc='upper center')\r\n",
    "plt.title(\"Comparative Histograms\")\r\n",
    "plt.xlabel(\"Input\")\r\n",
    "plt.ylabel(\"Count\")\r\n",
    "plt.xlim(left = new_start, right = new_end)\r\n",
    "plt.show()\r\n",
    "\r\n"
   ]
  },
  {
   "cell_type": "markdown",
   "metadata": {
    "id": "L8N48KbiqOEp"
   },
   "source": [
    "### Question 4 - Normally distributed salaries"
   ]
  },
  {
   "cell_type": "markdown",
   "metadata": {
    "id": "oeAAsez1qOEq"
   },
   "source": [
    "The annual salaries of employees in a large Randomistan company are approximateley normally distributed with a mean of 70,000 RCU and a standard deviation of 30,000 RCU."
   ]
  },
  {
   "cell_type": "code",
   "execution_count": null,
   "metadata": {
    "executionInfo": {
     "elapsed": 1271,
     "status": "ok",
     "timestamp": 1609429956676,
     "user": {
      "displayName": "eli terris-assa",
      "photoUrl": "https://lh3.googleusercontent.com/a-/AOh14GhprK327r2YLNn-SvBUyI-hzP-H15IFwg15cOpdfg=s64",
      "userId": "06912990574002737110"
     },
     "user_tz": -120
    },
    "id": "ldpRtaiOgBtk"
   },
   "outputs": [],
   "source": [
    "from scipy.stats import norm\r\n",
    "import matplotlib.pyplot as plt\r\n",
    "import numpy as np\r\n",
    "import scipy.stats as stats\r\n",
    "import math\r\n",
    "\r\n",
    "mu = 70000\r\n",
    "sigma = 30000\r\n",
    "stats_norm = stats.norm(loc=mu, scale=sigma)\r\n",
    "x = np.linspace(mu - 3*sigma, mu + 3*sigma, 1000)\r\n",
    "\r\n",
    "def draw(vlines, condition, text):\r\n",
    "    fig, (ax1) = plt.subplots(1, 1, sharex=True)\r\n",
    "\r\n",
    "    y = stats.norm.pdf(x, mu, sigma)\r\n",
    "    ax1.plot(x, y, color='black')\r\n",
    "    ax1.fill_between(x, 0, y, where = condition, facecolor='blue', interpolate=True)\r\n",
    "    for vline in vlines:\r\n",
    "        ax1.axvline(x=vline, color='r')\r\n",
    "    ax1.set_xlabel('')\r\n",
    "\r\n",
    "    plt.show()\r\n",
    "    print(text)"
   ]
  },
  {
   "cell_type": "markdown",
   "metadata": {
    "id": "B8VRJ7iIqOEq"
   },
   "source": [
    "#### 4.A\n",
    "What percent of people earn less than 50,000 RCU?"
   ]
  },
  {
   "cell_type": "markdown",
   "metadata": {
    "id": "jqfh_QYjgNDC"
   },
   "source": [
    "Answer:</br> $X~N(\\mu,\\sigma), \\mu=70k, \\sigma=30k$</br> $P(X &lt; 50k) = P(X \\le 49999) = CDF(49999) = 0.252$</br>\r\n",
    "\r\n"
   ]
  },
  {
   "cell_type": "code",
   "execution_count": null,
   "metadata": {
    "colab": {
     "base_uri": "https://localhost:8080/",
     "height": 293
    },
    "executionInfo": {
     "elapsed": 1682,
     "status": "ok",
     "timestamp": 1609429973070,
     "user": {
      "displayName": "eli terris-assa",
      "photoUrl": "https://lh3.googleusercontent.com/a-/AOh14GhprK327r2YLNn-SvBUyI-hzP-H15IFwg15cOpdfg=s64",
      "userId": "06912990574002737110"
     },
     "user_tz": -120
    },
    "id": "_l8I1P67giJF",
    "outputId": "a7397238-abe7-4238-dff2-9dafab5b8694"
   },
   "outputs": [],
   "source": [
    "prob=round(stats_norm.cdf(50000), 3)\r\n",
    "draw(vlines=[50000], condition=x < 50000, text=f'P(X < 50,000 RCU) = {prob} and so {prob*100}%')"
   ]
  },
  {
   "cell_type": "markdown",
   "metadata": {
    "id": "ckUzz4WUqOEq"
   },
   "source": [
    "#### 4.B\n",
    "What percent of people earn between 45,000 RCU and 65,000 RCU?"
   ]
  },
  {
   "cell_type": "markdown",
   "metadata": {
    "id": "PBX2PcP8gSE9"
   },
   "source": [
    "Answer:</br> $X~N(\\mu,\\sigma), \\mu=70k, \\sigma=30k$</br> $P(45k \\le X \\le 65k) = P(X \\le 65k) - P(X \\le 44999) = CDF(65k) - CDF(44999) =   = 0.231$</br>"
   ]
  },
  {
   "cell_type": "code",
   "execution_count": null,
   "metadata": {
    "colab": {
     "base_uri": "https://localhost:8080/",
     "height": 293
    },
    "executionInfo": {
     "elapsed": 938,
     "status": "ok",
     "timestamp": 1609430033896,
     "user": {
      "displayName": "eli terris-assa",
      "photoUrl": "https://lh3.googleusercontent.com/a-/AOh14GhprK327r2YLNn-SvBUyI-hzP-H15IFwg15cOpdfg=s64",
      "userId": "06912990574002737110"
     },
     "user_tz": -120
    },
    "id": "s3I4nC0BB8xn",
    "outputId": "ce4f420f-bea4-4828-f3f5-ee8d85447e33"
   },
   "outputs": [],
   "source": [
    "prob=round(stats_norm.cdf(65000) - stats_norm.cdf(44999),3)\r\n",
    "draw(vlines=[45000,65000], condition=(x <= 65000) & (45000 <= x), text=f\"P(65k=>X=>45k)={prob} and so {100*prob}%\")"
   ]
  },
  {
   "cell_type": "markdown",
   "metadata": {
    "id": "59OL3suHqOEq"
   },
   "source": [
    "#### 4.C\n",
    "What percent of people earn more than 70,000 RCU?"
   ]
  },
  {
   "cell_type": "markdown",
   "metadata": {
    "id": "tplkZ_fcgZMj"
   },
   "source": [
    "Answer:</br> $X~N(\\mu,\\sigma), \\mu=70k, \\sigma=30k$</br> $P(X &gt; 70k) = 1-P(X \\le 70k) = 1 - CDF(70k) = 0.5$</br>"
   ]
  },
  {
   "cell_type": "code",
   "execution_count": null,
   "metadata": {
    "colab": {
     "base_uri": "https://localhost:8080/",
     "height": 293
    },
    "executionInfo": {
     "elapsed": 1055,
     "status": "ok",
     "timestamp": 1609430055734,
     "user": {
      "displayName": "eli terris-assa",
      "photoUrl": "https://lh3.googleusercontent.com/a-/AOh14GhprK327r2YLNn-SvBUyI-hzP-H15IFwg15cOpdfg=s64",
      "userId": "06912990574002737110"
     },
     "user_tz": -120
    },
    "id": "8RxwLSuBCHpm",
    "outputId": "6d6ea523-f6e1-4876-c978-aec35a5be271"
   },
   "outputs": [],
   "source": [
    "prob=round(1-stats_norm.cdf(70000),3)\r\n",
    "draw(vlines=[70000], condition=x > 70000, text=f\"P(X>70k)={prob}, and so {prob*100}%\")"
   ]
  },
  {
   "cell_type": "markdown",
   "metadata": {
    "id": "uk50E4xsqOEq"
   },
   "source": [
    "#### 4.D\n",
    "The company has 1000 employees. How many employees in the company do you expect to earn more than 140,000 RCU?"
   ]
  },
  {
   "cell_type": "markdown",
   "metadata": {
    "id": "zN6ULwSjgfCH"
   },
   "source": [
    "\r\n",
    "Answer:</br> $X~N(\\mu,\\sigma), \\mu=70k, \\sigma=30k$</br> $P(X &gt; 140k) = 1-P(X \\le 140k) = 1 - CDF(140k) = 0.01$</br>"
   ]
  },
  {
   "cell_type": "code",
   "execution_count": null,
   "metadata": {
    "colab": {
     "base_uri": "https://localhost:8080/",
     "height": 293
    },
    "executionInfo": {
     "elapsed": 927,
     "status": "ok",
     "timestamp": 1609430082304,
     "user": {
      "displayName": "eli terris-assa",
      "photoUrl": "https://lh3.googleusercontent.com/a-/AOh14GhprK327r2YLNn-SvBUyI-hzP-H15IFwg15cOpdfg=s64",
      "userId": "06912990574002737110"
     },
     "user_tz": -120
    },
    "id": "LpjrHPEcCY6d",
    "outputId": "df517d84-15b9-4ba6-8f81-401d70443eca"
   },
   "outputs": [],
   "source": [
    "prob=round(1-stats_norm.cdf(140000),3)\r\n",
    "draw(vlines=[140000], condition=x > 140000, text=f\"P(X>140k)={prob}, And so I expect that the number of people who earn more than 140k is:{int(prob*1000)}\")"
   ]
  },
  {
   "cell_type": "markdown",
   "metadata": {
    "id": "-CfStN_EqOEq"
   },
   "source": [
    "#### 4.E\n",
    "A survey is performed on employees of the company. The employees are split into 20 groups of 50 employees each.\n",
    "What is the probability that more than 10 groups have an average salary between 50,000 RCU and 70,000 RCU?"
   ]
  },
  {
   "cell_type": "markdown",
   "metadata": {
    "id": "-x1uN2-mgmev"
   },
   "source": [
    "Answer: We now define: $Y~Binom(n,p)$</br> Where n=20, $p_{bucket}=P(70k \\ge X \\ge 50k) = \\text{norm.CDF(70k)}-\\text{norm.CDF(49999)}$</br> We need to find: $P(Y>10)$"
   ]
  },
  {
   "cell_type": "code",
   "execution_count": null,
   "metadata": {
    "colab": {
     "base_uri": "https://localhost:8080/"
    },
    "executionInfo": {
     "elapsed": 581,
     "status": "ok",
     "timestamp": 1609430218760,
     "user": {
      "displayName": "eli terris-assa",
      "photoUrl": "https://lh3.googleusercontent.com/a-/AOh14GhprK327r2YLNn-SvBUyI-hzP-H15IFwg15cOpdfg=s64",
      "userId": "06912990574002737110"
     },
     "user_tz": -120
    },
    "id": "fbCiOP4dCqoH",
    "outputId": "955ff014-03cc-4bad-8713-06583c4b3236"
   },
   "outputs": [],
   "source": [
    "buckets = 20\r\n",
    "numPerBucket = 50\r\n",
    "mu = 70000\r\n",
    "bucket_sigma = sigma/math.sqrt(numPerBucket)\r\n",
    "stats_norm = stats.norm(loc=mu, scale=bucket_sigma)\r\n",
    "\r\n",
    "p = stats_norm.cdf(70000) - stats_norm.cdf(49999)\r\n",
    "stats_binom = stats.binom(n=buckets,p=p)\r\n",
    "\r\n",
    "print(f'P(Y>10)={round(1-stats_binom.cdf(10),3)}')"
   ]
  },
  {
   "cell_type": "markdown",
   "metadata": {
    "id": "Vd207cYLqOEr"
   },
   "source": [
    "### Question 5 - Coupon collector"
   ]
  },
  {
   "cell_type": "markdown",
   "metadata": {
    "id": "4NxL8EIGqOEr"
   },
   "source": [
    "Let $T_{N}$ denote the waiting time for full single coupon collection with N different equiprobable coupon types"
   ]
  },
  {
   "cell_type": "markdown",
   "metadata": {
    "id": "_cQ4uJ-UqOEr"
   },
   "source": [
    "#### 5.A\n",
    "Write code to compute the exact value of $E(T_{N})$"
   ]
  },
  {
   "cell_type": "markdown",
   "metadata": {
    "id": "lfkpdeEDhTsm"
   },
   "source": [
    "We solved it in 3 different ways:</br>\r\n",
    "\r\n",
    "1. Empirical</br>\r\n",
    "2. Calc harmonic Sum Series</br>\r\n",
    "3. Sum of Expectations</br>"
   ]
  },
  {
   "cell_type": "code",
   "execution_count": null,
   "metadata": {
    "executionInfo": {
     "elapsed": 1282,
     "status": "ok",
     "timestamp": 1609430305925,
     "user": {
      "displayName": "eli terris-assa",
      "photoUrl": "https://lh3.googleusercontent.com/a-/AOh14GhprK327r2YLNn-SvBUyI-hzP-H15IFwg15cOpdfg=s64",
      "userId": "06912990574002737110"
     },
     "user_tz": -120
    },
    "id": "o6t6I-5QNt-J"
   },
   "outputs": [],
   "source": [
    "# simulate coupon collector's problem\r\n",
    "\r\n",
    "import numpy as np\r\n",
    "\r\n",
    "\r\n",
    "def calc_expectation_tn_empirical_way_single_iteration(n):\r\n",
    "    \"\"\"\r\n",
    "    n: number of different coupons (stamps)\r\n",
    "    return: days it took to achieve such goal\r\n",
    "    \"\"\"\r\n",
    "    days = 0\r\n",
    "    collected = set()\r\n",
    "    while True:\r\n",
    "        # check if we have enough\r\n",
    "        if len(collected) == n:\r\n",
    "            break\r\n",
    "        # we try to collect stamps\r\n",
    "        got = np.random.randint(0, n)  # choose a stamp, randomly 1/n\r\n",
    "        days += 1\r\n",
    "        collected.add(got)\r\n",
    "\r\n",
    "    return days\r\n",
    "\r\n",
    "\r\n",
    "def calc_expectation_tn_empirical_way(n, number_of_tries=1000):\r\n",
    "    assert(number_of_tries > 0)\r\n",
    "    return round(sum([calc_expectation_tn_empirical_way_single_iteration(n) for _ in range(1, number_of_tries + 1)])/number_of_tries, 3)"
   ]
  },
  {
   "cell_type": "code",
   "execution_count": null,
   "metadata": {
    "colab": {
     "base_uri": "https://localhost:8080/"
    },
    "executionInfo": {
     "elapsed": 2499,
     "status": "ok",
     "timestamp": 1609430335276,
     "user": {
      "displayName": "eli terris-assa",
      "photoUrl": "https://lh3.googleusercontent.com/a-/AOh14GhprK327r2YLNn-SvBUyI-hzP-H15IFwg15cOpdfg=s64",
      "userId": "06912990574002737110"
     },
     "user_tz": -120
    },
    "id": "rxCP3L94hZea",
    "outputId": "aef20688-7eb8-4c22-dcc2-68756c1a9616"
   },
   "outputs": [],
   "source": [
    "from fractions import Fraction\r\n",
    "from scipy.stats import geom\r\n",
    "\r\n",
    "\r\n",
    "def calc_expectation_tn_harmonic_series_way(n):\r\n",
    "    return round(float(n*sum(Fraction(1, p) for p in range(1, n+1))), 3)\r\n",
    "\r\n",
    "\r\n",
    "def calc_expectation_tn_stats_lib(n):\r\n",
    "    return round(sum([geom.stats(p/n, moments='m') for p in range(1, n+1)]), 3)\r\n",
    "\r\n",
    "\r\n",
    "print(f\"harmonic series way for n=100: {calc_expectation_tn_harmonic_series_way(100)}\")\r\n",
    "print(f\"stats lib way for n=100: {calc_expectation_tn_stats_lib(100)}\")\r\n",
    "print(f\"empirical way for n=100: {calc_expectation_tn_empirical_way(100)}\")"
   ]
  },
  {
   "cell_type": "markdown",
   "metadata": {
    "id": "6xkfmyIcqOEr"
   },
   "source": [
    "#### 5.B\n",
    "Write code to compute the exact value of $V(T_{N})$"
   ]
  },
  {
   "cell_type": "code",
   "execution_count": null,
   "metadata": {
    "colab": {
     "base_uri": "https://localhost:8080/"
    },
    "executionInfo": {
     "elapsed": 924,
     "status": "ok",
     "timestamp": 1609430349362,
     "user": {
      "displayName": "eli terris-assa",
      "photoUrl": "https://lh3.googleusercontent.com/a-/AOh14GhprK327r2YLNn-SvBUyI-hzP-H15IFwg15cOpdfg=s64",
      "userId": "06912990574002737110"
     },
     "user_tz": -120
    },
    "id": "5ZoI8qs2hizb",
    "outputId": "d2778ee1-49d5-48ca-c1ce-657ed9c9912e"
   },
   "outputs": [],
   "source": [
    "from scipy.stats import geom\r\n",
    "\r\n",
    "def calc_variance_tn_stats_lib(n):\r\n",
    "    return round(sum([geom.stats(p/n, moments='v') for p in range(1, n+1)]), 3)\r\n",
    "\r\n",
    "print(f\"Variance for n=100: {calc_variance_tn_stats_lib(100)}\")"
   ]
  },
  {
   "cell_type": "markdown",
   "metadata": {
    "id": "M2jjoRwSqOEr"
   },
   "source": [
    "#### 5.C\n",
    "Write code to exactly compute $P(T_{20}>40)$"
   ]
  },
  {
   "cell_type": "markdown",
   "metadata": {
    "id": "jk1T227kiAar"
   },
   "source": [
    "We will calc $1 - P(T_{20} \\le 40)$\r\n",
    "\r\n",
    "Using the convolution formula:"
   ]
  },
  {
   "cell_type": "code",
   "execution_count": null,
   "metadata": {
    "colab": {
     "base_uri": "https://localhost:8080/"
    },
    "executionInfo": {
     "elapsed": 979,
     "status": "ok",
     "timestamp": 1609430623466,
     "user": {
      "displayName": "eli terris-assa",
      "photoUrl": "https://lh3.googleusercontent.com/a-/AOh14GhprK327r2YLNn-SvBUyI-hzP-H15IFwg15cOpdfg=s64",
      "userId": "06912990574002737110"
     },
     "user_tz": -120
    },
    "id": "lRdJ8pn1ilqu",
    "outputId": "cb8147d8-9df7-49a1-9d9d-a97252cdbf5b"
   },
   "outputs": [],
   "source": [
    "from numpy import convolve\r\n",
    "\r\n",
    "\r\n",
    "def prob_tn(N=20, K=40):    \r\n",
    "    p = (N - np.arange(N)) / N\r\n",
    "    \r\n",
    "    K_vec = np.arange(K) + 1\r\n",
    "    p1 = geom.pmf(K_vec, p[0])\r\n",
    "\r\n",
    "    for current in p[1:]:\r\n",
    "        p1 = np.convolve(p1, geom.pmf(K_vec, current))\r\n",
    "    \r\n",
    "    return round(1 - p1[:K+1-N].sum(), 3)\r\n",
    "\r\n",
    "print(prob_tn(20, 40))"
   ]
  },
  {
   "cell_type": "markdown",
   "metadata": {
    "id": "G-YQhxaBioaa"
   },
   "source": [
    "Using Stirling numbers of the second kind\r\n",
    "\r\n",
    "\r\n",
    "\r\n",
    "![image.png](data:image/png;base64,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)\r\n",
    "\r\n",
    "\r\n",
    "Based on this stackoverflow answer: https://math.stackexchange.com/questions/379525/probability-distribution-in-the-coupon-collectors-problem/1454749#1454749\r\n",
    "\r\n"
   ]
  },
  {
   "cell_type": "code",
   "execution_count": null,
   "metadata": {
    "colab": {
     "base_uri": "https://localhost:8080/"
    },
    "executionInfo": {
     "elapsed": 897,
     "status": "ok",
     "timestamp": 1609431418430,
     "user": {
      "displayName": "eli terris-assa",
      "photoUrl": "https://lh3.googleusercontent.com/a-/AOh14GhprK327r2YLNn-SvBUyI-hzP-H15IFwg15cOpdfg=s64",
      "userId": "06912990574002737110"
     },
     "user_tz": -120
    },
    "id": "zyDuYiAOi7JA",
    "outputId": "4dae8fb8-72d8-439a-b9dd-447f770959bb"
   },
   "outputs": [],
   "source": [
    "import math\r\n",
    "\r\n",
    "\r\n",
    "def prob_tn_stirling(N=20, K=40): \r\n",
    "    n = K\r\n",
    "    m = N\r\n",
    "    return round(1 - sum([((-1)**(m-j))*comb(m,j)*(j**n) for j in range(0, m+1)])/(m**n), 3)\r\n",
    "\r\n",
    "def com    x,y):\r\n",
    "  return math.factorial(x)/(math.factorial(x-y)*math.factorial(y))    \r\n",
    "print(prob_tn_stirling(20, 40))"
   ]
  },
  {
   "cell_type": "markdown",
   "metadata": {
    "id": "Sa1UhIuqqOEr"
   },
   "source": [
    "#### 5.D\n",
    "Use Chebicheff to provide a bound for the probability from C and compare the results"
   ]
  },
  {
   "cell_type": "markdown",
   "metadata": {
    "id": "FjxVia90jaeb"
   },
   "source": [
    "Answer based on this version of chebicheff bound:</br>\r\n",
    "\r\n",
    "$P(T_{20}>40) = P(T_{20} \\ge 41)\n",
    "\r\n",
    "\r\n",
    "$41 = \\mu - bt \\sigma  $ \\\\a \\\\\r\n",
    "\r\n",
    "\\text{ where: } \\mu = 71.955, \\sigma = 23.8 \\Rightarrow b = 1.3 \\Rightarrow \\mu + b\\cdot\\sigma = 102.895$\r\n",
    "\r\n",
    "$P(T_{20} \\ge 41) \\ge P(102.895 \\ge T_{20} \\ge 41) \\ge 1-\\frac{1}{1.3^2} = 0.408$\r\n",
    "\r\n",
    "We got here, using chebicheff, the weak lower bound, for Tn of 20 to be more then 40. which is 0.408. in 5.C we calculated that it's actually 0.964. As we can see chebicheff bound holds."
   ]
  },
  {
   "cell_type": "code",
   "execution_count": null,
   "metadata": {
    "colab": {
     "base_uri": "https://localhost:8080/"
    },
    "executionInfo": {
     "elapsed": 1026,
     "status": "ok",
     "timestamp": 1609431042985,
     "user": {
      "displayName": "eli terris-assa",
      "photoUrl": "https://lh3.googleusercontent.com/a-/AOh14GhprK327r2YLNn-SvBUyI-hzP-H15IFwg15cOpdfg=s64",
      "userId": "06912990574002737110"
     },
     "user_tz": -120
    },
    "id": "AFaU1WCVj7nR",
    "outputId": "d7f2b3a4-0ad4-4a41-a3a6-ab9e29375a02"
   },
   "outputs": [],
   "source": [
    "import math \r\n",
    "def chebicheff(N=20,K=40):\r\n",
    "    var_Tn = calc_variance_tn_stats_lib(N)\r\n",
    "    mean_Tn = calc_expectation_tn_harmonic_series_way(N)\r\n",
    "    b = (mean_Tn - (K+1))/math.sqrt(var_Tn)\r\n",
    "    print(f\"STD: {round(math.sqrt(var_Tn),3)}, Mean:{round(mean_Tn,3)}, b:{round(b,3)}\")\r\n",
    "\r\n",
    "    return round(1-1/b**2, 3)\r\n",
    "\r\n",
    "chebicheff(20, 40)"
   ]
  }
 ],
 "metadata": {
  "colab": {
   "collapsed_sections": [
    "9gqHZyISqOEm",
    "-DgXQ8GGqOEn",
    "6TqU5cKcqOEo",
    "U0_LmctGqOEp",
    "2AmojZ69I18W",
    "Z1IcdAxBJNMT",
    "w6tWlMC3qOEp",
    "fwlSQjQjqOEp",
    "CsNngZNvqOEp",
    "L8N48KbiqOEp",
    "Vd207cYLqOEr"
   ],
   "name": "SnDA_2021_HW2_clean.ipynb",
   "provenance": []
  },
  "kernelspec": {
   "display_name": "Python 3",
   "language": "python",
   "name": "python3"
  },
  "language_info": {
   "codemirror_mode": {
    "name": "ipython",
    "version": 3
   },
   "file_extension": ".py",
   "mimetype": "text/x-python",
   "name": "python",
   "nbconvert_exporter": "python",
   "pygments_lexer": "ipython3",
   "version": "3.8.6"
  }
 },
 "nbformat": 4,
 "nbformat_minor": 4
}
