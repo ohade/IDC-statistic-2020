{
 "cells": [
  {
   "cell_type": "markdown",
   "metadata": {},
   "source": [
    "### IDs:\n",
    "Insert yours IDs to the cell below"
   ]
  },
  {
   "cell_type": "markdown",
   "metadata": {},
   "source": [
    "ID #1:\n",
    "\n",
    "ID #2:\n"
   ]
  },
  {
   "cell_type": "markdown",
   "metadata": {},
   "source": [
    "## Read the following instructions carefully:\n",
    "\n",
    "1. This jupyter notebook contains all the step by step instructions needed for this exercise.\n",
    "1. You are free to add cells.\n",
    "1. Write your functions and your answers in this jupyter notebook only.\n",
    "1. Answers to theoretical questions should be written in **markdown cells (with $\\LaTeX$ support)**.\n",
    "1. Submit this jupyter notebook only using your ID as a filename. Not to use ZIP or RAR. For example, your Moodle submission file name should look like this (two id numbers): `123456789_987654321.ipynb`."
   ]
  },
  {
   "cell_type": "markdown",
   "metadata": {},
   "source": [
    "### Question 1 - Data exploration and visialization - practical"
   ]
  },
  {
   "cell_type": "markdown",
   "metadata": {},
   "source": [
    "Load Boston dataset from sklearn.\n",
    "Explore the data. follow th instructions below and make sure to support your answers with proper outputs and plots.\n",
    "When plotting, pay close attention to the range of the axis, and include axis labels and a title for the figure.\n",
    "\n",
    "1. describe the dataset. How many samples does it contain? How many features? What isis the data type for each variable?\n",
    "2. Produce a histogram and a boxplot of the nitric oxides concentration. describe the distribution.\n",
    "3. Produce a correlation matrix of all the features. Are there any correlated features? Can you identify one feature with unusual behaviour?\n",
    "4. Select the 2 pairs of features with the highest correlation (positive or negative) and plot 2 scatter plots with marginal histograms (JointPlot). \n",
    "5. Produce a cumulative histogram of the age variable and add two horizontal lines on the first and third quartile (on the cumulative count)\n",
    "6. Identify and report 2 “interesting” trends in the data. No need to provide statistical confidence at this point. "
   ]
  },
  {
   "cell_type": "code",
   "execution_count": 1,
   "metadata": {},
   "outputs": [
    {
     "name": "stdout",
     "output_type": "stream",
     "text": [
      "(506, 13)\n"
     ]
    }
   ],
   "source": [
    "from sklearn.datasets import load_boston\n",
    "X, y = load_boston(return_X_y=True)\n",
    "print(X.shape)"
   ]
  },
  {
   "cell_type": "markdown",
   "metadata": {},
   "source": [
    "### Question 2 - Independence and conditional independence"
   ]
  },
  {
   "cell_type": "markdown",
   "metadata": {},
   "source": [
    "#### 2.A\n",
    "Can we define a three dimensional multivariate gaussian that is pairwise-independent but not collectivley independent?\n",
    "If your anser is yes, provide an example.\n",
    "If your answer is no, provide a proof."
   ]
  },
  {
   "cell_type": "markdown",
   "metadata": {},
   "source": [
    "Answer:</br>\n",
    "No we can't\n",
    "Proof:\n",
    "Be $X~(X_1,X_2,X_3)$, by the definition each two pairs of xi are pairwise independent.\n",
    "Like we saw in class this means that their covariance-matrix is diagonal, and also that by using the the probability density function (pdf) of a multivariate normal:\n",
    "\n",
    "${\\displaystyle f(\\mathbf {x} )={\\frac {1}{\\sqrt {(2\\pi )^{k}|{\\boldsymbol {\\Sigma }}|}}}\\exp \\left(-{1 \\over 2}(\\mathbf {x} -{\\boldsymbol {\\mu }})^{\\rm {T}}{\\boldsymbol {\\Sigma }}^{-1}({\\mathbf {x} }-{\\boldsymbol {\\mu }})\\right)}f(\\mathbf{x})= \\frac{1}{\\sqrt { (2\\pi)^k|\\boldsymbol \\Sigma| } }  \\exp\\left(-{1 \\over 2} (\\mathbf{x}-\\boldsymbol\\mu)^{\\rm T} \\boldsymbol\\Sigma^{-1} ({\\mathbf x}-\\boldsymbol\\mu)\\right)$\n",
    "\n",
    "We get that: $P(X;\\mu,\\Sigma) = P(X_1;\\mu_1,\\sigma_1) = P(X_2;\\mu_2,\\sigma_2) = P(X_3,\\mu_3,\\sigma_3)$</br>\n",
    "Which gives us a conclusion that $X_1,X_2,X_3$ must be collectively independent as well.\n",
    "\n"
   ]
  },
  {
   "cell_type": "markdown",
   "metadata": {},
   "source": [
    "#### 2.B\n",
    "Let $\\ X, Y \\ $ and $Z$  be discrete random variables with $\\ n, m \\ $ and $k$ possible outcomes respectivley.\n",
    "\n",
    "How many parameters define the joint distribution of $\\ X, Y \\ $ and $Z$?"
   ]
  },
  {
   "cell_type": "markdown",
   "metadata": {},
   "source": [
    "Answer:</br>\n",
    "\n",
    "$\\sum _{i1=1}^{n}\\sum _{i2=1}^{m}\\sum _{i2=1}^{k}\\mathrm {P} (X=x_{i1},Y=y_{i2} ,Z=z_{i3})=1 \\Rightarrow \\text{we have }n\\cdot m\\cdot k\\text{ parameters}\\;$\n"
   ]
  },
  {
   "cell_type": "markdown",
   "metadata": {},
   "source": [
    "#### 2.C\n",
    "For the same random variables from the previous section, how many parameters define the joint distribution of $\\ X, Y \\ $ and $Z$ if we now know that they are independent?"
   ]
  },
  {
   "cell_type": "markdown",
   "metadata": {},
   "source": [
    "In this case it's n+m+k"
   ]
  },
  {
   "cell_type": "markdown",
   "metadata": {},
   "source": [
    "#### 2.D\n",
    "For the same random variables from the previous section, how many parameters define the joint distribution of $\\ X, Y \\ $ and $Z$ if we now know that $X$ and $Y$ are conditionaly independent given $Z$?"
   ]
  },
  {
   "cell_type": "markdown",
   "metadata": {},
   "source": [
    "$\\text{In this case it's: }(n+m) \\cdot k$ </br>\n",
    "Because for every value of Z, X and Y are independent. "
   ]
  },
  {
   "cell_type": "markdown",
   "metadata": {},
   "source": [
    "#### 2.E\n",
    "For the random variables from the previous section, let $n=m=2$ and $k=2$. Give and example for a joint distribution of $\\ X, Y \\ $ and $Z$ where $X$ and $Y$ are conditionaly independent given $Z$?"
   ]
  },
  {
   "cell_type": "markdown",
   "metadata": {},
   "source": [
    "A box contains two coins: </br>\n",
    "a regular coin and one fake two-headed coin (P(H)=1). </br>\n",
    "We define the following events.\n",
    "\n",
    "A= First coin toss results in an H.\n",
    "B= Second coin toss results in an H.\n",
    "C= Coin 1 (regular) has been selected.\n",
    "\n",
    "We will now show that P(A∩B|C) = P(A|C)P(B|C)\n",
    "\n",
    "We have $P(A|C)=P(B|C)=\\frac{1}{2}$. Also, given that Coin 1 is selected, we have $P(A∩B|C)=\\frac{1}{2}\\frac{1}{2}=\\frac{1}{4}$. And so P(A∩B|C) = P(A|C)P(B|C)\n",
    "\n",
    "In order to show that it only conditionaly independent and not independent, we will need to show that.\n",
    "P(A∩B)≠P(A)P(B)\n",
    "\n",
    "\n",
    "$P(A∩B) = P(A∩B|C)P(C)+P(A∩B|Not C)P(Not C) = P(A|C)P(B|C)P(C) + P(A|Not C)P(B|Not C)P(Not C) = \\frac{1}{2}\\frac{1}{2}\\frac{1}{2}+1 \\cdot 1 \\cdot \\frac{1}{2} = \\frac{5}{8}$</br>\n",
    "$P(A) = P(A|C)P(C)+P(A|Not C)P(Not C) = \\frac{1}{2}\\frac{1}{2} + 1\\frac{1}{2} = \\frac{3}{4}$</br>\n",
    "$P(A) = P(B|C)P(C)+P(B|Not C)P(Not C) = \\frac{1}{2}\\frac{1}{2} + 1\\frac{1}{2} = \\frac{3}{4}$</br>\n",
    "\n",
    "Meaning:\n",
    "P(A∩B)≠P(A)P(B), not independent."
   ]
  },
  {
   "cell_type": "markdown",
   "metadata": {},
   "source": [
    "### Question 3 - Gaussian mixtures – parameter estimation and generation "
   ]
  },
  {
   "cell_type": "markdown",
   "metadata": {},
   "source": [
    "Consider the data provided in GMD_2021.csv\n",
    "Assume that the data comes from a Gaussian mixture distribution (GMD) with $k=3\\ \\ $. Furthermore, assume that $\\mu_{1}=4, \\mu_{2}=9, \\sigma_{1}=\\sigma_{2}=0.5, \\sigma_3=1.5$ and $w_2=0.25$.\n",
    "\n",
    "Read the data and answer the following questions."
   ]
  },
  {
   "cell_type": "markdown",
   "metadata": {},
   "source": [
    "#### 3.A\n",
    "Provide an estimate for the other parameters of the distribution in two different ways."
   ]
  },
  {
   "cell_type": "markdown",
   "metadata": {},
   "source": [
    "#### 3.B\n",
    "Plot a graph of the pdf of the distribution you inferred. Select adequate limits for the axes for this plot and explain your decision."
   ]
  },
  {
   "cell_type": "markdown",
   "metadata": {},
   "source": [
    "#### 3.C\n",
    "Describe two ways for generating data for a GMD random variable with:\n",
    "* centers at  $\\mu_1+3, \\mu_2+5, mu_3+7$\n",
    "* $\\sigma_1=\\sigma_2=\\sigma_3=1$\n",
    "* $w_1=w_2=w_3=0.33$"
   ]
  },
  {
   "cell_type": "markdown",
   "metadata": {},
   "source": [
    "#### 3.D\n",
    "Use one of the above approaches to generate 1000 points and plot a histogram of the result (decide on bins, axes etc)\n"
   ]
  },
  {
   "cell_type": "markdown",
   "metadata": {},
   "source": [
    "#### 3.E - BONUS\n",
    "Use the other one to generate 1000 more points and draw two comparative histograms.\n"
   ]
  },
  {
   "cell_type": "markdown",
   "metadata": {},
   "source": [
    "### Question 4 - Normally distributed salaries"
   ]
  },
  {
   "cell_type": "markdown",
   "metadata": {},
   "source": [
    "stats.norm(loc = m, scale = s)The annual salaries of employees in a large Randomistan company are approximateley normally distributed with a mean of 70,000 RCU and a standard deviation of 30,000 RCU."
   ]
  },
  {
   "cell_type": "code",
   "execution_count": 130,
   "metadata": {},
   "outputs": [],
   "source": [
    "from scipy.stats import norm\n",
    "import matplotlib.pyplot as plt\n",
    "import numpy as np\n",
    "import scipy.stats as stats\n",
    "import math\n",
    "\n",
    "mu = 70000\n",
    "sigma = 30000\n",
    "stats_norm = stats.norm(loc=mu, scale=sigma)\n",
    "x = np.linspace(mu - 3*sigma, mu + 3*sigma, 1000)\n",
    "\n",
    "def draw(vlines, condition, text):\n",
    "    fig, (ax1) = plt.subplots(1, 1, sharex=True)\n",
    "\n",
    "    y = stats.norm.pdf(x, mu, sigma)\n",
    "    ax1.plot(x, y, color='black')\n",
    "    ax1.fill_between(x, 0, y, where = condition, facecolor='blue', interpolate=True)\n",
    "    for vline in vlines:\n",
    "        ax1.axvline(x=vline, color='r')\n",
    "    ax1.set_xlabel('')\n",
    "\n",
    "    plt.show()\n",
    "    print(text)    "
   ]
  },
  {
   "cell_type": "markdown",
   "metadata": {},
   "source": [
    "#### 4.A\n",
    "What percent of people earn less than 50,000 RCU?"
   ]
  },
  {
   "cell_type": "markdown",
   "metadata": {},
   "source": [
    "Answer:</br>\n",
    "$X~N(\\mu,\\sigma), \\mu=70k, \\sigma=30k$</br>\n",
    "$P(X < 50k) = P(X \\le 49999) = CDF(49999) = 0.252$</br>"
   ]
  },
  {
   "cell_type": "code",
   "execution_count": 132,
   "metadata": {
    "jupyter": {
     "source_hidden": true
    }
   },
   "outputs": [
    {
     "data": {
      "image/png": "[encoded data removed]",
      "text/plain": [
       "<Figure size 432x288 with 1 Axes>"
      ]
     },
     "metadata": {
      "needs_background": "light"
     },
     "output_type": "display_data"
    },
    {
     "name": "stdout",
     "output_type": "stream",
     "text": [
      "P(X < 50,000 RCU) = 0.252 and so 25.2%\n"
     ]
    }
   ],
   "source": [
    "prob=round(stats_norm.cdf(50000), 3)\n",
    "draw(vlines=[50000], condition=x < 50000, text=f'P(X < 50,000 RCU) = {prob} and so {prob*100}%')"
   ]
  },
  {
   "cell_type": "markdown",
   "metadata": {},
   "source": [
    "#### 4.B\n",
    "What percent of people earn between 45,000 RCU and 65,000 RCU?"
   ]
  },
  {
   "cell_type": "markdown",
   "metadata": {},
   "source": [
    "Answer:</br>\n",
    "$X~N(\\mu,\\sigma), \\mu=70k, \\sigma=30k$</br>\n",
    "$P(45k \\le X \\le 65k) = P(X \\le 65k) - P(X \\le 44999) = CDF(65k) - CDF(44999) =   = 0.231$</br>"
   ]
  },
  {
   "cell_type": "code",
   "execution_count": 127,
   "metadata": {},
   "outputs": [
    {
     "data": {
      "image/png": "[encoded data removed]",
      "text/plain": [
       "<Figure size 432x288 with 1 Axes>"
      ]
     },
     "metadata": {
      "needs_background": "light"
     },
     "output_type": "display_data"
    },
    {
     "name": "stdout",
     "output_type": "stream",
     "text": [
      "P(65k=>X=>45k)=0.231 and so 23.1%\n"
     ]
    }
   ],
   "source": [
    "prob=round(stats_norm.cdf(65000) - stats_norm.cdf(44999),3)\n",
    "draw(vlines=[45000,65000], condition=(x <= 65000) & (45000 <= x), text=f\"P(65k=>X=>45k)={prob} and so {100*prob}%\")"
   ]
  },
  {
   "cell_type": "markdown",
   "metadata": {},
   "source": [
    "#### 4.C\n",
    "What percent of people earn more than 70,000 RCU?"
   ]
  },
  {
   "cell_type": "markdown",
   "metadata": {},
   "source": [
    "Answer:</br>\n",
    "$X~N(\\mu,\\sigma), \\mu=70k, \\sigma=30k$</br>\n",
    "$P(X > 70k) = 1-P(X \\le 70k) = 1 - CDF(70k) = 0.5$</br>"
   ]
  },
  {
   "cell_type": "code",
   "execution_count": 133,
   "metadata": {},
   "outputs": [
    {
     "data": {
      "image/png": "[encoded data removed]",
      "text/plain": [
       "<Figure size 432x288 with 1 Axes>"
      ]
     },
     "metadata": {
      "needs_background": "light"
     },
     "output_type": "display_data"
    },
    {
     "name": "stdout",
     "output_type": "stream",
     "text": [
      "P(X>70k)=0.5, and so 50.0%\n"
     ]
    }
   ],
   "source": [
    "prob=round(1-stats_norm.cdf(70000),3)\n",
    "draw(vlines=[70000], condition=x > 70000, text=f\"P(X>70k)={prob}, and so {prob*100}%\")"
   ]
  },
  {
   "cell_type": "markdown",
   "metadata": {},
   "source": [
    "#### 4.D\n",
    "The company has 1000 employees. How many employees in the company do you expect to earn more than 140,000 RCU?"
   ]
  },
  {
   "cell_type": "markdown",
   "metadata": {},
   "source": [
    "Answer:</br>\n",
    "$X~N(\\mu,\\sigma), \\mu=70k, \\sigma=30k$</br>\n",
    "$P(X > 140k) = 1-P(X \\le 140k) = 1 - CDF(140k) = 0.01$</br>"
   ]
  },
  {
   "cell_type": "code",
   "execution_count": 129,
   "metadata": {},
   "outputs": [
    {
     "data": {
      "image/png": "[encoded data removed]",
      "text/plain": [
       "<Figure size 432x288 with 1 Axes>"
      ]
     },
     "metadata": {
      "needs_background": "light"
     },
     "output_type": "display_data"
    },
    {
     "name": "stdout",
     "output_type": "stream",
     "text": [
      "P(X>140k)=0.01, And so I expect that the number of people who earn more than 140k is:10\n"
     ]
    }
   ],
   "source": [
    "prob=round(1-stats_norm.cdf(140000),3)\n",
    "draw(vlines=[140000], condition=x > 140000, text=f\"P(X>140k)={prob}, And so I expect that the number of people who earn more than 140k is:{int(prob*1000)}\")\n"
   ]
  },
  {
   "cell_type": "markdown",
   "metadata": {},
   "source": [
    "#### 4.E\n",
    "A survey is performed on employees of the company. The employees are split into 20 groups of 50 employees each.\n",
    "What is the probability that more than 10 groups have an average salary between 50,000 RCU and 70,000 RCU?"
   ]
  },
  {
   "cell_type": "markdown",
   "metadata": {},
   "source": [
    "Answer:\n",
    "We now define: $Y~Binom(n,p)$</br>\n",
    "Where n=20, $p_{bucket}=P(70k \\ge X \\ge 50k) = \\text{norm.CDF(70k)}-\\text{norm.CDF(49999)}$</br>\n",
    "We need to find: $P(Y>10)$"
   ]
  },
  {
   "cell_type": "code",
   "execution_count": 155,
   "metadata": {},
   "outputs": [
    {
     "name": "stdout",
     "output_type": "stream",
     "text": [
      "P(Y>10)=0.407\n"
     ]
    }
   ],
   "source": [
    "buckets = 20\n",
    "mu = 70000\n",
    "bucket_sigma = sigma/math.sqrt(buckets)\n",
    "stats_norm = stats.norm(loc=mu, scale=bucket_sigma)\n",
    "\n",
    "p = stats_norm.cdf(70000) - stats_norm.cdf(49999)\n",
    "stats_binom = stats.binom(n=20,p=p)\n",
    "\n",
    "print(f'P(Y>10)={round(1-stats_binom.cdf(10),3)}')"
   ]
  },
  {
   "cell_type": "markdown",
   "metadata": {},
   "source": [
    "### Question 5 - Coupon collector"
   ]
  },
  {
   "cell_type": "markdown",
   "metadata": {},
   "source": [
    "Let $T_{N}$ denote the waiting time for full single coupon collection with N different equiprobable coupon types"
   ]
  },
  {
   "cell_type": "markdown",
   "metadata": {},
   "source": [
    "#### 5.A\n",
    "Write code to compute the exact value of $E(T_{N})$"
   ]
  },
  {
   "cell_type": "markdown",
   "metadata": {},
   "source": [
    "We solved it in 3 different ways:</br>\n",
    "    1. Empirical</br>\n",
    "    2. Calc harmonic Sum Series</br>\n",
    "    3. Sum of Expectations</br>"
   ]
  },
  {
   "cell_type": "code",
   "execution_count": 17,
   "metadata": {},
   "outputs": [],
   "source": [
    "# simulate coupon collector's problem\n",
    "\n",
    "import numpy as np\n",
    "\n",
    "\n",
    "def calc_expectation_tn_empirical_way_single_iteration(n):\n",
    "    \"\"\"\n",
    "    n: number of different coupons (stamps)\n",
    "    return: days it took to achieve such goal\n",
    "    \"\"\"\n",
    "    days = 0\n",
    "    collected = set()\n",
    "    while True:\n",
    "        # check if we have enough\n",
    "        if len(collected) == n:\n",
    "            break\n",
    "        # we try to collect stamps\n",
    "        got = np.random.randint(0, n)  # choose a stamp, randomly 1/n\n",
    "        days += 1\n",
    "        collected.add(got)\n",
    "\n",
    "    return days\n",
    "\n",
    "\n",
    "def calc_expectation_tn_empirical_way(n, number_of_tries=1000):\n",
    "    assert(number_of_tries > 0)\n",
    "    return round(sum([calc_expectation_tn_empirical_way_single_iteration(n) for _ in range(1, number_of_tries + 1)])/number_of_tries, 3)\n",
    "\n"
   ]
  },
  {
   "cell_type": "code",
   "execution_count": 3,
   "metadata": {},
   "outputs": [
    {
     "name": "stdout",
     "output_type": "stream",
     "text": [
      "harmonic series way for n=100: 518.738\n",
      "stats lib way for n=100: 518.738\n"
     ]
    },
    {
     "name": "stderr",
     "output_type": "stream",
     "text": [
      "/usr/local/lib/python3.8/site-packages/scipy/stats/_discrete_distns.py:360: RuntimeWarning: divide by zero encountered in true_divide\n",
      "  g1 = (2.0-p) / sqrt(qr)\n",
      "/usr/local/lib/python3.8/site-packages/scipy/stats/_discrete_distns.py:361: RuntimeWarning: divide by zero encountered in true_divide\n",
      "  g2 = np.polyval([1, -6, 6], p)/(1.0-p)\n"
     ]
    },
    {
     "name": "stdout",
     "output_type": "stream",
     "text": [
      "empirical way for n=100: 522.1\n"
     ]
    }
   ],
   "source": [
    "from fractions import Fraction\n",
    "from scipy.stats import geom\n",
    "\n",
    "\n",
    "def calc_expectation_tn_harmonic_series_way(n):\n",
    "    return round(float(n*sum(Fraction(1, p) for p in range(1, n+1))), 3)\n",
    "\n",
    "\n",
    "def calc_expectation_tn_stats_lib(n):\n",
    "    return round(sum([geom.stats(p/n, moments='m') for p in range(1, n+1)]), 3)\n",
    "\n",
    "\n",
    "print(f\"harmonic series way for n=100: {calc_expectation_tn_harmonic_series_way(100)}\")\n",
    "print(f\"stats lib way for n=100: {calc_expectation_tn_stats_lib(100)}\")\n",
    "print(f\"empirical way for n=100: {calc_expectation_tn_empirical_way(100)}\")"
   ]
  },
  {
   "cell_type": "markdown",
   "metadata": {},
   "source": [
    "#### 5.B\n",
    "Write code to compute the exact value of $V(T_{N})$"
   ]
  },
  {
   "cell_type": "code",
   "execution_count": 4,
   "metadata": {},
   "outputs": [
    {
     "name": "stdout",
     "output_type": "stream",
     "text": [
      "Variance for n=100: 15831.101\n"
     ]
    }
   ],
   "source": [
    "from scipy.stats import geom\n",
    "\n",
    "def calc_variance_tn_stats_lib(n):\n",
    "    return round(sum([geom.stats(p/n, moments='v') for p in range(1, n+1)]), 3)\n",
    "\n",
    "print(f\"Variance for n=100: {calc_variance_tn_stats_lib(100)}\")\n"
   ]
  },
  {
   "cell_type": "markdown",
   "metadata": {},
   "source": [
    "#### 5.C\n",
    "Write code to exactly compute $P(T_{20}>40)$"
   ]
  },
  {
   "cell_type": "markdown",
   "metadata": {},
   "source": [
    "We will calc $1 - P(T_{20} \\le 40)$\n",
    "\n",
    "Using the convolution formula:\n",
    "\n",
    "<img src=\"./Convolution.png\">"
   ]
  },
  {
   "cell_type": "code",
   "execution_count": 5,
   "metadata": {},
   "outputs": [],
   "source": [
    "\n",
    "\n",
    "        \n",
    "# def prob_tn(K=1, N=20, lookup_table=None, verbose=False):\n",
    "#     if not lookup_table:\n",
    "#         lookup_table = dict()\n",
    "#         lookup_table[\"1_1\"] = 1\n",
    "#     if f\"{N}_{K}\" in lookup_table:\n",
    "#         verbos_print(f\"Found {N}_{K}\", verbose)\n",
    "#         return lookup_table[f\"{N}_{K}\"]\n",
    "    \n",
    "#     verbos_print(f\"{N}_{K}, {len(lookup_table)}\", verbose)\n",
    "    \n",
    "    \n",
    "    \n",
    "#     if K < N or N == 0:\n",
    "#         verbos_print(f\"{N}_{K}, return 0 (if)\", verbose)\n",
    "#         return 0\n",
    "#     else:\n",
    "#         verbos_print(\"going recursion\", verbose)\n",
    "#         loobup_key = f\"{N}_{K}\"\n",
    "#         lookup_table[loobup_key] = sum([geom.pmf(i, 1/N)*prob_tn(K=K-1,N=N-1,lookup_table=lookup_table) for i in range(1, K+1)])\n",
    "#         verbos_print(f\"{loobup_key}, return {lookup_table[loobup_key]} (else)\", verbose)\n",
    "#         return lookup_table[loobup_key]\n",
    "    \n",
    "# sum_prob = 0.0\n",
    "# lookup_table = dict()\n",
    "# lookup_table[\"1_1\"] = 1\n",
    "# for i in range(1, 40 + 1):\n",
    "#     verbos_print(f\"----{i}-----\", False)\n",
    "#     sum_prob += prob_tn(K=i,lookup_table=lookup_table)\n",
    "    \n",
    "# 1 - sum_prob    \n"
   ]
  },
  {
   "cell_type": "code",
   "execution_count": 6,
   "metadata": {},
   "outputs": [
    {
     "name": "stdout",
     "output_type": "stream",
     "text": [
      "0.964\n"
     ]
    }
   ],
   "source": [
    "from numpy import convolve\n",
    "\n",
    "\n",
    "def prob_tn(N=20, K=40):    \n",
    "    p = (N - np.arange(N)) / N\n",
    "    \n",
    "    K_vec = np.arange(K) + 1\n",
    "    p1 = geom.pmf(K_vec, p[0])\n",
    "\n",
    "    for current in p[1:]:\n",
    "        p1 = np.convolve(p1, geom.pmf(K_vec, current))\n",
    "    \n",
    "    return round(1 - p1[:K+1-N].sum(), 3)\n",
    "\n",
    "print(prob_tn(20, 40))\n"
   ]
  },
  {
   "cell_type": "markdown",
   "metadata": {},
   "source": [
    "Using Stirling numbers of the second kind\n",
    "\n",
    "Based on this stackoverflow answer:\n",
    "https://math.stackexchange.com/questions/379525/probability-distribution-in-the-coupon-collectors-problem/1454749#1454749\n",
    "\n",
    "<img src=\"./SnDA TASHPA Rec2 - Visualization.png\">"
   ]
  },
  {
   "cell_type": "code",
   "execution_count": 9,
   "metadata": {},
   "outputs": [
    {
     "name": "stdout",
     "output_type": "stream",
     "text": [
      "0.964\n"
     ]
    }
   ],
   "source": [
    "from math import comb\n",
    "\n",
    "\n",
    "def prob_tn_stirling(N=20, K=40): \n",
    "    n = K\n",
    "    m = N\n",
    "    return round(1 - sum([((-1)**(m-j))*comb(m,j)*(j**n) for j in range(0, m+1)])/(m**n), 3)\n",
    "    \n",
    "print(prob_tn_stirling(20, 40))"
   ]
  },
  {
   "cell_type": "markdown",
   "metadata": {},
   "source": [
    "#### 5.D\n",
    "Use Chebicheff to provide a bound for the probability from C and compare the results"
   ]
  },
  {
   "cell_type": "markdown",
   "metadata": {},
   "source": [
    "Answer based on this version of chebicheff bound:</br>\n",
    "<img src=\"./chebicheff_bound.jpeg\"></img>\n",
    "\n",
    "* $P(T_{20}>40) = P(T_{20} \\ge 41)$\n",
    "* $41 = \\mu - b\\cdot\\sigma \\\\\n",
    "\\text{ where: } \\mu = 71.955, \\sigma = 23.8 \\Rightarrow b = 1.3 \\Rightarrow \\mu + b\\cdot\\sigma = 102.895$\n",
    "* $P(T_{20} \\ge 41) \\ge P(102.895 \\ge T_{20} \\ge 41) \\ge 1-\\frac{1}{1.3^2} = 0.408$\n",
    "\n",
    "\n",
    "We got here, using chebicheff, the weak lower bound, for Tn of 20 to be more then 40. which is 0.408. in 5.C we calculated that it's actually 0.964. \n",
    "As we can see chebicheff bound holds."
   ]
  },
  {
   "cell_type": "code",
   "execution_count": 16,
   "metadata": {},
   "outputs": [
    {
     "name": "stdout",
     "output_type": "stream",
     "text": [
      "STD: 23.801, Mean:71.955, b:1.301\n"
     ]
    },
    {
     "data": {
      "text/plain": [
       "0.409"
      ]
     },
     "execution_count": 16,
     "metadata": {},
     "output_type": "execute_result"
    }
   ],
   "source": [
    "import math \n",
    "def chebicheff(N=20,K=40):\n",
    "    var_Tn = calc_variance_tn_stats_lib(N)\n",
    "    mean_Tn = calc_expectation_tn_harmonic_series_way(N)\n",
    "    b = (mean_Tn - (K+1))/math.sqrt(var_Tn)\n",
    "    print(f\"STD: {round(math.sqrt(var_Tn),3)}, Mean:{round(mean_Tn,3)}, b:{round(b,3)}\")\n",
    "\n",
    "    return round(1-1/b**2, 3)\n",
    "\n",
    "chebicheff(20, 40)"
   ]
  },
  {
   "cell_type": "code",
   "execution_count": null,
   "metadata": {},
   "outputs": [],
   "source": []
  }
 ],
 "metadata": {
  "kernelspec": {
   "display_name": "Python 3",
   "language": "python",
   "name": "python3"
  },
  "language_info": {
   "codemirror_mode": {
    "name": "ipython",
    "version": 3
   },
   "file_extension": ".py",
   "mimetype": "text/x-python",
   "name": "python",
   "nbconvert_exporter": "python",
   "pygments_lexer": "ipython3",
   "version": "3.8.6"
  }
 },
 "nbformat": 4,
 "nbformat_minor": 4
}
