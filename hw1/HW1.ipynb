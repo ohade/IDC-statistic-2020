{
 "cells": [
  {
   "cell_type": "markdown",
   "metadata": {},
   "source": [
    "### IDs:\n",
    "Insert yours IDs to the cell below"
   ]
  },
  {
   "cell_type": "markdown",
   "metadata": {},
   "source": [
    "ID #1:03906513\n",
    "\n",
    "ID #2:311341879\n"
   ]
  },
  {
   "cell_type": "markdown",
   "metadata": {},
   "source": [
    "## Read the following instructions carefully:\n",
    "\n",
    "1. This jupyter notebook contains all the step by step instructions needed for this exercise.\n",
    "1. You are free to add cells.\n",
    "1. Write your functions and your answers in this jupyter notebook only.\n",
    "1. Answers to theoretical questions should be written in **markdown cells (with $\\LaTeX$ support)**.\n",
    "1. Submit this jupyter notebook only using your ID as a filename. Not to use ZIP or RAR. For example, your Moodle submission file name should look like this (two id numbers): `123456789_987654321.ipynb`."
   ]
  },
  {
   "cell_type": "code",
   "execution_count": 6,
   "metadata": {},
   "outputs": [],
   "source": [
    "import numpy as np\n",
    "import scipy.stats\n",
    "import matplotlib.pyplot as plt\n",
    "import pandas as pd"
   ]
  },
  {
   "cell_type": "markdown",
   "metadata": {},
   "source": [
    "### Question 1 - Defective products"
   ]
  },
  {
   "cell_type": "markdown",
   "metadata": {},
   "source": [
    "In a manufacturing pipeline products are 3% defective. We are interested in examining a defective product to see what goes wrong on the belt. We need to ask the facility manager to send us a set of independent samples for examination."
   ]
  },
  {
   "cell_type": "markdown",
   "metadata": {},
   "source": [
    "#### 1.A\n",
    "\n",
    "How many independent samples should we ask for in order to have a 85% probability of having at least one defective product in the batch sent? You should write a function."
   ]
  },
  {
   "cell_type": "code",
   "execution_count": 26,
   "metadata": {},
   "outputs": [],
   "source": [
    "import numpy as np\n",
    "from scipy.stats import binom, nbinom\n"
   ]
  },
  {
   "cell_type": "code",
   "execution_count": 20,
   "metadata": {},
   "outputs": [
    {
     "data": {
      "text/plain": [
       "63"
      ]
     },
     "execution_count": 20,
     "metadata": {},
     "output_type": "execute_result"
    }
   ],
   "source": [
    "def math_calc(prob_of_defect=0.03, level_of_certainty=0.85):\n",
    "    return int(np.ceil(np.log(1-level_of_certainty)/np.log(1-prob_of_defect)))\n",
    "math_calc()"
   ]
  },
  {
   "cell_type": "code",
   "execution_count": 16,
   "metadata": {},
   "outputs": [
    {
     "data": {
      "text/plain": [
       "63"
      ]
     },
     "execution_count": 16,
     "metadata": {},
     "output_type": "execute_result"
    }
   ],
   "source": [
    "# we want to calc p(x >= 1) so we will calc 1 - p(x < 1) => 1 - p(x = 0)\n",
    "def iterative_calc_binom(number_of_defect=1, prob_of_defect=0.03, level_of_certainty=0.85):\n",
    "    sample_size = 1\n",
    "    while (1 - binom.cdf(number_of_defect-1, sample_size, prob_of_defect)) < level_of_certainty:\n",
    "        sample_size += 1\n",
    "    return sample_size\n",
    "iterative_calc_binom()"
   ]
  },
  {
   "cell_type": "code",
   "execution_count": 27,
   "metadata": {},
   "outputs": [
    {
     "data": {
      "text/plain": [
       "63"
      ]
     },
     "execution_count": 27,
     "metadata": {},
     "output_type": "execute_result"
    }
   ],
   "source": [
    "def iterative_calc_nbinom(number_of_defect=1, prob_of_defect=0.03, level_of_certainty=0.85):\n",
    "    sample_size = 1\n",
    "    while nbinom.cdf(sample_size, number_of_defect, prob_of_defect, number_of_defect) < level_of_certainty:\n",
    "        sample_size += 1\n",
    "    return sample_size\n",
    "iterative_calc_nbinom()"
   ]
  },
  {
   "cell_type": "markdown",
   "metadata": {},
   "source": [
    "#### 1.B\n",
    "Answer this part again with the following changes: products are 4% defective and we want a 95% probability of at least one defective product in the batch."
   ]
  },
  {
   "cell_type": "code",
   "execution_count": 22,
   "metadata": {},
   "outputs": [
    {
     "name": "stdout",
     "output_type": "stream",
     "text": [
      "74\n",
      "74\n"
     ]
    }
   ],
   "source": [
    "print(math_calc(0.04, 0.95))\n",
    "print(iterative_calc_binom(prob_of_defect=0.04, level_of_certainty=0.95))"
   ]
  },
  {
   "cell_type": "markdown",
   "metadata": {},
   "source": [
    "#### 1.C \n",
    "\n",
    "Consider the following cases and calculate how many independent samples are required: \n",
    "\n",
    "1. Products are 10% defective and we want a 90% probability of at least 5 defective products in the batch.\n",
    "1. Products are 30% defective and we want a 90% probability of at least 15 defective products in the batch.\n",
    "\n",
    "Explain the difference between the two results. You should use mathematical reasoning based on the properties of distributions you saw in class and visualizations in your answer."
   ]
  },
  {
   "cell_type": "code",
   "execution_count": 29,
   "metadata": {},
   "outputs": [
    {
     "name": "stdout",
     "output_type": "stream",
     "text": [
      "case1, using binom: 78, using nbinom: 78\n",
      "case2, using binom: 64, using nbinom: 64\n"
     ]
    }
   ],
   "source": [
    "print(f\"case1, using binom: {iterative_calc_binom(5,0.1,0.9)}, using nbinom: {iterative_calc_nbinom(5,0.1,0.9)}\")\n",
    "print(f\"case2, using binom: {iterative_calc_binom(15,0.3,0.9)}, using nbinom: {iterative_calc_nbinom(15,0.3,0.9)}\")\n"
   ]
  },
  {
   "cell_type": "markdown",
   "metadata": {},
   "source": [
    "### Explaining the difference:"
   ]
  },
  {
   "cell_type": "markdown",
   "metadata": {},
   "source": [
    "Define two RV's for the two use cases.\n",
    "\n",
    "$Y_1$ for the first case, and $Y_2$ for the second case.\n",
    "\n",
    "$Y_1 \\sim \\text{NBin}(5, 0.1)$<br />\n",
    "$Y_2 \\sim \\text{NBin}(15, 0.3)$\n",
    "<br /><br />\n",
    "\n",
    "Lets calculate their Expectation, using NBin Expectation formula: $E[Y] = {r \\over p}$:<br />\n",
    "$E[Y_1] = {5 \\over 0.1} = 50$<br />\n",
    "$E[Y_2] = {15 \\over 0.3} = 50$\n",
    "\n",
    "Lets calculate their Variance, using NBin Variance formula: $Var[Y] = {r(1-p) \\over p^2}$:<br />\n",
    "$Var[Y_1] = {5(1-0.1) \\over 0.1^2} = 450$<br />\n",
    "$Var[Y_2] = {15(1-0.3) \\over 0.3^2} = 116.66$\n",
    "\n",
    "And so, even though they have similar expectation the different variance causes the calculated cdf to produce such a difference in the results"
   ]
  },
  {
   "cell_type": "markdown",
   "metadata": {},
   "source": [
    "\n",
    "### Question 2 - Rent distributions in Randomistan"
   ]
  },
  {
   "cell_type": "markdown",
   "metadata": {},
   "source": [
    "The state of Randomistan conducted a survey to study the distribution of rent paid in two neighboring towns, Stochastic Heights and Random Grove, to be denoted SH and RG.<br> \n",
    "\n",
    "Here are some findings of the survey:\n",
    "* The population of SH and RG is 16,000 and 22,000 respectively. <br>\n",
    "* The mean rent in SH and RG is 6300RCU and 4200RCU respectively.\n",
    "* The median rent is 4600RCU in both towns.\n",
    "* The IQR of the rent is smaller in SH than in RG.\n",
    "\n",
    "All data generated in this question needs to be consistent with these findings."
   ]
  },
  {
   "cell_type": "markdown",
   "metadata": {},
   "source": [
    "c = np.random.normal(mean1, sd1, 3000)n // 2#### 2.A\n",
    "Draw histograms that describe 2 different scenarii of possible distributions of rent in the two towns.\u000b",
    "Your histograms should:<br>\n",
    "* Use bins of 100RCU each.\n",
    "* Have at least 10 non zero bins."
   ]
  },
  {
   "cell_type": "code",
   "execution_count": 7,
   "metadata": {},
   "outputs": [
    {
     "name": "stdout",
     "output_type": "stream",
     "text": [
      "SH1 median =  4600.0\n",
      "SH1 mean =  6300.0\n",
      "SH1 IQR =  3800.0\n",
      "SH2 median =  4600.0\n",
      "SH2 mean =  6300.0\n",
      "SH2 IQR =  3800.0\n",
      "RG1 median  =  4600.0\n",
      "RG1 mean =  4200.0\n",
      "RG1 IQR =  4300.0\n",
      "RG2 median  =  4600.0\n",
      "RG2 mean =  4200.0\n",
      "RG2 IQR =  4300.0\n"
     ]
    },
    {
     "data": {
      "text/plain": [
       "Text(0.5, 1.0, 'RG2')"
      ]
     },
     "execution_count": 7,
     "metadata": {},
     "output_type": "execute_result"
    },
    {
     "data": {
      "image/png": "[encoded data removed]",
      "text/plain": [
       "<Figure size 432x288 with 1 Axes>"
      ]
     },
     "metadata": {
      "needs_background": "light"
     },
     "output_type": "display_data"
    },
    {
     "data": {
      "image/png": "[encoded data removed]",
      "text/plain": [
       "<Figure size 432x288 with 1 Axes>"
      ]
     },
     "metadata": {
      "needs_background": "light"
     },
     "output_type": "display_data"
    },
    {
     "data": {
      "image/png": "[encoded data removed]",
      "text/plain": [
       "<Figure size 432x288 with 1 Axes>"
      ]
     },
     "metadata": {
      "needs_background": "light"
     },
     "output_type": "display_data"
    },
    {
     "data": {
      "image/png": "[encoded data removed]",
      "text/plain": [
       "<Figure size 432x288 with 1 Axes>"
      ]
     },
     "metadata": {
      "needs_background": "light"
     },
     "output_type": "display_data"
    }
   ],
   "source": [
    "n_sh = 16000\n",
    "n_rg = 22000\n",
    "target_mu_sh = 6300\n",
    "target_mu_rg = 4200\n",
    "target_median = 4600\n",
    "\n",
    "sh1 = np.array(int(n_sh/11)*[3800,4000,4200,4500,4600,4600,5000,6000,8000,9600,15000])\n",
    "print(\"SH1 median = \" , np.median(sh1))\n",
    "print(\"SH1 mean = \" , np.mean(sh1))\n",
    "print(\"SH1 IQR = \",np.percentile(sh1,75)-np.percentile(sh1,25))\n",
    "pd.DataFrame(sh1).hist(bins=150)\n",
    "plt.title(\"SH1\")\n",
    "\n",
    "sh2 = np.array(int(n_sh/11)*[2800,4000,4200,4500,4600,4600,5000,6000,8000,9600,16000])\n",
    "print(\"SH2 median = \" , np.median(sh2))\n",
    "print(\"SH2 mean = \" , np.mean(sh2))\n",
    "print(\"SH2 IQR = \",np.percentile(sh2,75)-np.percentile(sh2,25))\n",
    "pd.DataFrame(sh2).hist(bins=160)\n",
    "plt.title(\"SH2\")\n",
    "\n",
    "\n",
    "\n",
    "rg1 = np.array(int(n_rg/11)*[800,1000,1200,1500,4600,4600,4500,5000,5500,7500,10000])\n",
    "print(\"RG1 median  = \",np.median(rg1))\n",
    "print(\"RG1 mean = \",np.mean(rg1))\n",
    "print(\"RG1 IQR = \",np.percentile(rg1,75)-np.percentile(rg1,25))\n",
    "pd.DataFrame(rg1).hist(bins=100)\n",
    "plt.title(\"RG1\")\n",
    "\n",
    "rg2 = np.array(int(n_rg/11)*[800,1000,1200,2500,4600,4600,4500,5000,5500,6500,10000])\n",
    "print(\"RG2 median  = \",np.median(rg2))\n",
    "print(\"RG2 mean = \",np.mean(rg2))\n",
    "print(\"RG2 IQR = \",np.percentile(rg2,75)-np.percentile(rg2,25))\n",
    "pd.DataFrame(rg2).hist(bins=100)\n",
    "plt.title(\"RG2\")\n",
    "\n",
    "\n"
   ]
  },
  {
   "cell_type": "markdown",
   "metadata": {},
   "source": [
    "#### 2.B\n",
    "Draw a histogram of a third scenario with the same properties. <br>\n",
    "In addition, in this scenario the rent in SH should have a higher variance than the rent in RG."
   ]
  },
  {
   "cell_type": "code",
   "execution_count": 13,
   "metadata": {},
   "outputs": [
    {
     "name": "stdout",
     "output_type": "stream",
     "text": [
      "SH1 Variance: 10565454.545454545\n",
      "RG1 Variance: 7760000.0\n",
      "Is Var(SH1) > Var(RG1)? True\n",
      "\n",
      "\n",
      "\n",
      "SH3 median =  4600.0\n",
      "SH3 mean =  6300.0\n",
      "SH3 IQR =  3800.0\n",
      "RG3 median  =  4600.0\n",
      "RG3 mean =  4200.0\n",
      "RG3 IQR =  4300.0\n",
      "\n",
      "Is Var(SH3) > Var(RG3)? True\n",
      "\n",
      "\n",
      "\n"
     ]
    },
    {
     "data": {
      "image/png": "[encoded data removed]",
      "text/plain": [
       "<Figure size 432x288 with 1 Axes>"
      ]
     },
     "metadata": {
      "needs_background": "light"
     },
     "output_type": "display_data"
    },
    {
     "data": {
      "image/png": "[encoded data removed]",
      "text/plain": [
       "<Figure size 432x288 with 1 Axes>"
      ]
     },
     "metadata": {
      "needs_background": "light"
     },
     "output_type": "display_data"
    }
   ],
   "source": [
    "print(f'SH1 Variance: {np.var(sh1)}')\n",
    "print(f'RG1 Variance: {np.var(rg1)}')\n",
    "print(f'Is Var(SH1) > Var(RG1)? {np.var(sh1)>np.var(rg1)}\\n\\n\\n')\n",
    "\n",
    "\n",
    "# in case a third scenario is nessesarry\n",
    "sh3 = np.array(int(n_sh/11)*[3000,4000,4200,4500,4600,4600,5000,6000,8000,10400,15000])\n",
    "print(\"SH3 median = \" , np.median(sh3))\n",
    "print(\"SH3 mean = \" , np.mean(sh3))\n",
    "print(\"SH3 IQR = \",np.percentile(sh3,75)-np.percentile(sh3,25))\n",
    "pd.DataFrame(sh1).hist(bins=150)\n",
    "plt.title(\"SH1\")\n",
    "\n",
    "rg3 = np.array(int(n_rg/11)*[300,1000,1200,1500,4600,4600,4500,5000,5500,8000,10000])\n",
    "print(\"RG3 median  = \",np.median(rg3))\n",
    "print(\"RG3 mean = \",np.mean(rg3))\n",
    "print(\"RG3 IQR = \",np.percentile(rg3,75)-np.percentile(rg3,25))\n",
    "pd.DataFrame(rg3).hist(bins=100)\n",
    "plt.title(\"RG3\")\n",
    "\n",
    "print(f'\\nIs Var(SH3) > Var(RG3)? {np.var(sh3)>np.var(rg3)}\\n\\n\\n')"
   ]
  },
  {
   "cell_type": "markdown",
   "metadata": {},
   "source": [
    "The survey also examined the per household income (PHI) in these two places.<br>\n",
    "\n",
    "It found that:<br>\n",
    "* The mean of PHI in SH is 12500 and in RG is 8500.\n",
    "* The median is 12000 in SH and 8000 in RG.\n",
    "* The covariance of the rent and the PHI was observed to be as in the formula below with $\\alpha=97\\%$ and $\\alpha=89\\%$ in SH and in RG respectively.<br><br>\n",
    "$$Cov(rent, PHI) = \\alpha * \\sqrt{Var(rent)} * \\sqrt{Var(PHI)}$$\n",
    "\n",
    "#### 2.C\n",
    "Produce rent and PHI data for the two cities, that is consistent with these findings. The covariances in your data can deviate by up to 1% from the numbers given $\\alpha$."
   ]
  },
  {
   "cell_type": "code",
   "execution_count": 18,
   "metadata": {},
   "outputs": [
    {
     "name": "stdout",
     "output_type": "stream",
     "text": [
      "Mean PHI in SH = 12500.0\n",
      "Median PHI in SH = 12000.0\n",
      "Mean PHI in RP = 8500.0\n",
      "Median PHI in RP = 8000.0\n",
      "target cov for SH = 21246491.84479037\n",
      "target cov for RG = 7266753.507960385\n",
      "Cov(SH)/Target_Cov(SH) = 0.9976602253222318\n",
      "Cov(RG)/Target_Cov(RG) = 1.00962515304248\n"
     ]
    }
   ],
   "source": [
    "target_phi_mean_sh = 12500\n",
    "target_phi_median_sh = 12000\n",
    "\n",
    "\n",
    "#sh = np.array(int(n_sh/11)*[3800,4000,4200,4500,4600,4600,5000,6000,8000,9600,15000])\n",
    "phi_sh = np.array(int(n_sh/11)*[3500,7000,8000,9000,10000,12000,12000,12000,16000,18000,30000])\n",
    "\n",
    "print(f'Mean PHI in SH = {np.mean(phi_sh)}')\n",
    "print(f'Median PHI in SH = {np.median(phi_sh)}')\n",
    "\n",
    "target_phi_mean_rg = 8500\n",
    "target_phi_median_rg = 8000\n",
    "\n",
    "#rg1 = np.array(int(n_rg/11)*[800,1000,1200,1500,4600,4600,4500,5000,5500,7500,10000])\n",
    "phi_rg = np.array(int(n_rg/11)*[4000,5000,6000,6000,7000,8000,11000,11000,11000,12000,12500])\n",
    "\n",
    "print(f'Mean PHI in RP = {np.mean(phi_rg)}')\n",
    "print(f'Median PHI in RP = {np.median(phi_rg)}')\n",
    "\n",
    "target_cov_sh = 0.97*(np.var(phi_sh)**0.5)*(np.var(sh1)**0.5)\n",
    "print(f'target cov for SH = {target_cov_sh}')\n",
    "\n",
    "target_cov_rg = 0.89*(np.var(phi_rg)**0.5)*(np.var(rg1)**0.5)\n",
    "print(f'target cov for RG = {target_cov_rg}')\n",
    "\n",
    "cov_sh = np.cov(sh1,phi_sh)[0,1]\n",
    "print(f'Cov(SH)/Target_Cov(SH) = {cov_sh/target_cov_sh}')\n",
    "\n",
    "cov_rg = np.cov(rg1,phi_rg)[0,1]\n",
    "print(f'Cov(RG)/Target_Cov(RG) = {cov_rg/target_cov_rg}')\n",
    "\n"
   ]
  },
  {
   "cell_type": "markdown",
   "metadata": {},
   "source": [
    "#### 2.D\n",
    "Produce two heatmaps that describe these two bivariate joint distributions. Make sure you carefully consider the selected binning resolution."
   ]
  },
  {
   "cell_type": "code",
   "execution_count": 22,
   "metadata": {},
   "outputs": [
    {
     "data": {
      "text/plain": [
       "Text(0, 0.5, 'PHI')"
      ]
     },
     "execution_count": 22,
     "metadata": {},
     "output_type": "execute_result"
    },
    {
     "data": {
      "image/png": "[encoded data removed]",
      "text/plain": [
       "<Figure size 432x288 with 1 Axes>"
      ]
     },
     "metadata": {
      "needs_background": "light"
     },
     "output_type": "display_data"
    }
   ],
   "source": [
    "plt.hist2d(x=sh1 , y=phi_sh , bins=10)\n",
    "plt.title(\"SH\")\n",
    "plt.xlabel(\"Rent\")\n",
    "plt.ylabel(\"PHI\")"
   ]
  },
  {
   "cell_type": "code",
   "execution_count": 21,
   "metadata": {},
   "outputs": [
    {
     "data": {
      "text/plain": [
       "Text(0, 0.5, 'PHI')"
      ]
     },
     "execution_count": 21,
     "metadata": {},
     "output_type": "execute_result"
    },
    {
     "data": {
      "image/png": "[encoded data removed]",
      "text/plain": [
       "<Figure size 432x288 with 1 Axes>"
      ]
     },
     "metadata": {
      "needs_background": "light"
     },
     "output_type": "display_data"
    }
   ],
   "source": [
    "plt.hist2d(x=rg1 , y=phi_rg , bins=10)\n",
    "plt.title(\"RG\")\n",
    "plt.xlabel(\"Rent\")\n",
    "plt.ylabel(\"PHI\")"
   ]
  },
  {
   "cell_type": "markdown",
   "metadata": {},
   "source": [
    "### Question 3 - Covariance and independence"
   ]
  },
  {
   "cell_type": "markdown",
   "metadata": {},
   "source": [
    "#### a) What is the variance of the sum X +Y + Z of three random variables in terms of the variances of X, Y and Z and the covariances between each pair of random variables?"
   ]
  },
  {
   "cell_type": "markdown",
   "metadata": {},
   "source": [
    "\n",
    "\\begin{align*}\n",
    "Var(X+Y+Z) & \\stackrel{*}{=} Var(X+Y) + Var(Z) + 2Cov(X+Y,Z) = Var(X) + Var(Y) + 2Conv(X,Y) + Var(Z) + 2Cov(X+Y,Z) \\Rightarrow \\\\\n",
    "\\newline\n",
    "& \\stackrel{**}{=} Var(X) + Var(Y) + Var(Z) + 2Cov(X,Y) + 2Cov(Y,Z) + 2Cov(X,Z)\n",
    "\\end{align*}\n",
    "\n",
    "\\begin{align*}\n",
    "* &Var(X + Y) = Var(X) + Var(Y) + 2Cov(X,Y) \\Rightarrow Var(X + Y + Z) = Var((X + Y) + Z) = Var(X + Y) + Var(Z) + 2Cov(X + Y,Z)\n",
    "\\newline\n",
    "** &Cov(X + Y,Z) = E((X + Y),Z) - E(X + Y)E(Z) \\stackrel{***}{=} E(XZ) + E(YZ) - E(X)E(Z) - E(Y)E(Z) = Cov(X,Z) + Cov(Y,Z)\n",
    "\\newline\n",
    "*** &Cov(X,Y) = E(XY) - E(X)E(Y)\n",
    "\\end{align*}"
   ]
  },
  {
   "cell_type": "markdown",
   "metadata": {},
   "source": [
    "#### b) What happens if X,Y,Z are pairwise independent?"
   ]
  },
  {
   "cell_type": "markdown",
   "metadata": {},
   "source": [
    "If X,Y,Z are pairwise independent than:\n",
    "$$Cov(X,Y)=Cov(X,Z)=Cov(Y,Z) = 0$$\n",
    "Plugging this results into equation of part (a) we get:\n",
    "$$Var(X+Y+Z) = Var(X) + Var(Y) + Var(Z)$$"
   ]
  },
  {
   "cell_type": "markdown",
   "metadata": {},
   "source": [
    "#### c) If X,Y,Z are pairwise independent, are they necessarily collectively independent? Prove your answer."
   ]
  },
  {
   "cell_type": "markdown",
   "metadata": {},
   "source": [
    "No, let's take for example tossing 3 fair coins.\n",
    "We define 3 events: A, B, C as follows:\n",
    "𝐴 - be the event that the first two tosses returned the exact same value.\n",
    "B - be the event that the last two tosses returned the exact same value.\n",
    "C - be the event that the first and last tosses returned the exact same value.\n",
    "\n",
    "To Proove that they are pair independent, we need to show that:\n",
    "<br/>\n",
    "$P(A|B) = P(A) $\n",
    "<br/>\n",
    "$P(A|C) = P(A)$\n",
    "<br/>\n",
    "$P(B|A) = P(B)$\n",
    "<br/>\n",
    "$P(B|C) = P(B)$\n",
    "<br/>\n",
    "$P(C|A) = P(C)$\n",
    "<br/>\n",
    "$P(C|B) = P(C)$\n",
    "<br/>\n",
    "<br/>\n",
    "proof:\n",
    "$P(A) = P(B) = P(C) = \\frac{1}{2}$\n",
    "<br/>\n",
    "$P(A|B) = P(A|B) = P(A|B) = P(A|B) = P(A|B) = P(A|B) = \\frac{1}{2}$\n",
    "<br/>\n",
    "**Q.E.D.**\n",
    "\n",
    "Now we need to show that they are not mutually independent, in the same way, meaning:\n",
    "<br/>\n",
    "$P(A|BC) \\neq P(A) $\n",
    "<br/>\n",
    "$P(B|AC) \\neq P(B)$\n",
    "<br/>\n",
    "$P(C|AB) \\neq P(C)$\n",
    "<br/>\n",
    "\n",
    "$P(A|BC) = P(B|AC) = P(C|AB) = 1$, but as we seen $P(A) = P(B) = P(C) = \\frac{1}{2}$\n",
    "<br/>\n",
    "And so, not mutually independent.\n",
    "<br/>\n",
    "**Q.E.D.**"
   ]
  },
  {
   "cell_type": "markdown",
   "metadata": {},
   "source": [
    "### Question 4 - Convolutions"
   ]
  },
  {
   "cell_type": "markdown",
   "metadata": {},
   "source": [
    "#### 4.A\n",
    "Write a program, `Q = NFoldConv(P , n)`, that takes as input:\n",
    "* A distribution, P, of a random variable that takes finitely many integer values\n",
    "* An integer n\n",
    "\n",
    "and produces the distribution, Q, of the sum of n independent repeats of random variables, each of which has the distribution P."
   ]
  },
  {
   "cell_type": "code",
   "execution_count": 24,
   "metadata": {},
   "outputs": [
    {
     "data": {
      "text/plain": [
       "{2: 0.027777777777777776,\n",
       " 3: 0.05555555555555555,\n",
       " 4: 0.08333333333333333,\n",
       " 5: 0.1111111111111111,\n",
       " 6: 0.1388888888888889,\n",
       " 7: 0.16666666666666669,\n",
       " 8: 0.1388888888888889,\n",
       " 9: 0.1111111111111111,\n",
       " 10: 0.08333333333333333,\n",
       " 11: 0.05555555555555555,\n",
       " 12: 0.027777777777777776}"
      ]
     },
     "execution_count": 24,
     "metadata": {},
     "output_type": "execute_result"
    }
   ],
   "source": [
    "\n",
    "P1 = [[1,2,3,4,5,6],[1.0/6 for i in range(6)]]\n",
    "\n",
    "def NFoldConv(P=None, n=2):\n",
    "    if not P:\n",
    "        P = P1\n",
    "    if n<= 0:\n",
    "        return dict()\n",
    "  \n",
    "    Q=dict() # output dictionary\n",
    "    length = len(P[0])\n",
    "    if n > 1:\n",
    "        Q_before = NFoldConv(P,n-1)\n",
    "\n",
    "        # set as zeros\n",
    "        for i in Q_before:\n",
    "            for j in range(length):\n",
    "                Q[P[0][j]+i] = 0\n",
    "        # add the option\n",
    "        for i in Q_before: # dictionary\n",
    "            for j in range(length): #current arr\n",
    "                Q[P[0][j]+i] += P[1][j]*Q_before[i]\n",
    "    # the first dist -> change into dictionary format\n",
    "    else:\n",
    "        for i in range(length):\n",
    "            Q[P[0][i]] = P[1][i]\n",
    "    return Q\n",
    "\n",
    "NFoldConv(P1,2)\n",
    "\n"
   ]
  },
  {
   "cell_type": "markdown",
   "metadata": {},
   "source": [
    "#### 4.B\n",
    "Compute the distribution of the sum of the results of rolling a fair octahedron 17 times.\n",
    "\n",
    "<img src=\"https://upload.wikimedia.org/wikipedia/commons/2/27/Octahedron.jpg\" width=\"200\">\n"
   ]
  },
  {
   "cell_type": "code",
   "execution_count": 25,
   "metadata": {},
   "outputs": [
    {
     "data": {
      "text/plain": [
       "{17: 4.440892098500626e-16,\n",
       " 18: 7.549516567451064e-15,\n",
       " 19: 6.794564910705958e-14,\n",
       " 20: 4.303224443447107e-13,\n",
       " 21: 2.1516122217235534e-12,\n",
       " 22: 9.036771331238924e-12,\n",
       " 23: 3.313482821454272e-11,\n",
       " 24: 1.088715784192118e-10,\n",
       " 25: 3.2660718574106795e-10,\n",
       " 26: 9.07134811711785e-10,\n",
       " 27: 2.3577291230481023e-09,\n",
       " 28: 5.782673007104222e-09,\n",
       " 29: 1.3473395732432891e-08,\n",
       " 30: 2.998400727705075e-08,\n",
       " 31: 6.401734875538523e-08,\n",
       " 32: 1.3161584089260714e-07,\n",
       " 33: 2.613809253482202e-07,\n",
       " 34: 5.027422242953605e-07,\n",
       " 35: 9.38663699212583e-07,\n",
       " 36: 1.7045993589981379e-06,\n",
       " 37: 3.015970226893927e-06,\n",
       " 38: 5.206881849684208e-06,\n",
       " 39: 8.783168114145923e-06,\n",
       " 40: 1.449303744882613e-05,\n",
       " 41: 2.3418493098503745e-05,\n",
       " 42: 3.7090165106334894e-05,\n",
       " 43: 5.762708941681183e-05,\n",
       " 44: 8.790117605705916e-05,\n",
       " 45: 0.00013172354057466862,\n",
       " 46: 0.0001940465160554794,\n",
       " 47: 0.000281171099826949,\n",
       " 48: 0.00040094502474907756,\n",
       " 49: 0.0005629319236253316,\n",
       " 50: 0.0007785276598544222,\n",
       " 51: 0.0010609964316725673,\n",
       " 52: 0.0014253974040241424,\n",
       " 53: 0.0018883730784566843,\n",
       " 54: 0.002467774003582779,\n",
       " 55: 0.0031821012120212266,\n",
       " 56: 0.004049758126849046,\n",
       " 57: 0.005088117430610772,\n",
       " 58: 0.006312424925249083,\n",
       " 59: 0.007734580675745839,\n",
       " 60: 0.009361856250110101,\n",
       " 61: 0.011195623843158309,\n",
       " 62: 0.013230186524219256,\n",
       " 63: 0.015451806826463077,\n",
       " 64: 0.017838031700777357,\n",
       " 65: 0.02035740428456334,\n",
       " 66: 0.022969636481963374,\n",
       " 67: 0.025626291369178045,\n",
       " 68: 0.028271992206021945,\n",
       " 69: 0.030846137527832607,\n",
       " 70: 0.033285062338742843,\n",
       " 71: 0.03552454726152865,\n",
       " 72: 0.03750254422783916,\n",
       " 73: 0.03916196231819313,\n",
       " 74: 0.0404533435000225,\n",
       " 75: 0.041337257154996365,\n",
       " 76: 0.04178625514552792,\n",
       " 77: 0.04178625514552792,\n",
       " 78: 0.041337257154996365,\n",
       " 79: 0.0404533435000225,\n",
       " 80: 0.03916196231819313,\n",
       " 81: 0.03750254422783916,\n",
       " 82: 0.03552454726152865,\n",
       " 83: 0.033285062338742843,\n",
       " 84: 0.030846137527832607,\n",
       " 85: 0.028271992206021945,\n",
       " 86: 0.025626291369178045,\n",
       " 87: 0.022969636481963374,\n",
       " 88: 0.02035740428456334,\n",
       " 89: 0.017838031700777357,\n",
       " 90: 0.015451806826463077,\n",
       " 91: 0.013230186524219256,\n",
       " 92: 0.011195623843158309,\n",
       " 93: 0.009361856250110101,\n",
       " 94: 0.007734580675745839,\n",
       " 95: 0.006312424925249083,\n",
       " 96: 0.005088117430610772,\n",
       " 97: 0.004049758126849046,\n",
       " 98: 0.0031821012120212266,\n",
       " 99: 0.002467774003582779,\n",
       " 100: 0.0018883730784566843,\n",
       " 101: 0.0014253974040241424,\n",
       " 102: 0.0010609964316725673,\n",
       " 103: 0.0007785276598544222,\n",
       " 104: 0.0005629319236253316,\n",
       " 105: 0.00040094502474907756,\n",
       " 106: 0.000281171099826949,\n",
       " 107: 0.0001940465160554794,\n",
       " 108: 0.00013172354057466862,\n",
       " 109: 8.790117605705916e-05,\n",
       " 110: 5.762708941681183e-05,\n",
       " 111: 3.7090165106334894e-05,\n",
       " 112: 2.3418493098503745e-05,\n",
       " 113: 1.449303744882613e-05,\n",
       " 114: 8.783168114145923e-06,\n",
       " 115: 5.206881849684208e-06,\n",
       " 116: 3.015970226893927e-06,\n",
       " 117: 1.7045993589981379e-06,\n",
       " 118: 9.38663699212583e-07,\n",
       " 119: 5.027422242953605e-07,\n",
       " 120: 2.613809253482202e-07,\n",
       " 121: 1.3161584089260714e-07,\n",
       " 122: 6.401734875538523e-08,\n",
       " 123: 2.998400727705075e-08,\n",
       " 124: 1.3473395732432891e-08,\n",
       " 125: 5.782673007104222e-09,\n",
       " 126: 2.3577291230481023e-09,\n",
       " 127: 9.07134811711785e-10,\n",
       " 128: 3.2660718574106795e-10,\n",
       " 129: 1.088715784192118e-10,\n",
       " 130: 3.313482821454272e-11,\n",
       " 131: 9.036771331238924e-12,\n",
       " 132: 2.1516122217235534e-12,\n",
       " 133: 4.303224443447107e-13,\n",
       " 134: 6.794564910705958e-14,\n",
       " 135: 7.549516567451064e-15,\n",
       " 136: 4.440892098500626e-16}"
      ]
     },
     "execution_count": 25,
     "metadata": {},
     "output_type": "execute_result"
    }
   ],
   "source": [
    "P2 = [[1,2,3,4,5,6,7,8],[1.0/8.0 for i in range(8)]]\n",
    "NFoldConv(P2,17)"
   ]
  },
  {
   "cell_type": "markdown",
   "metadata": {},
   "source": [
    "#### 4.C\n",
    "Assume that the price of a stock changes in any given day according to (in NIS):\n",
    "\n",
    "$$P=\\begin{pmatrix}\n",
    "-1 & 0 & 1 & 2 & 3 \\\\\n",
    "0.3 & 0.15 & 0.15 & 0.15 & 0.25\n",
    "\\end{pmatrix}$$\n",
    "\n",
    "1. What is the distribution of the change in stock after 2 consecutive days of (independent) changes? After 5 consecutive days? "
   ]
  },
  {
   "cell_type": "code",
   "execution_count": 26,
   "metadata": {},
   "outputs": [
    {
     "data": {
      "text/plain": [
       "{-2: 0.09,\n",
       " -1: 0.09,\n",
       " 0: 0.1125,\n",
       " 1: 0.135,\n",
       " 2: 0.21749999999999997,\n",
       " 3: 0.12,\n",
       " 4: 0.0975,\n",
       " 5: 0.075,\n",
       " 6: 0.0625}"
      ]
     },
     "execution_count": 26,
     "metadata": {},
     "output_type": "execute_result"
    }
   ],
   "source": [
    "# After 2 days\n",
    "P3 = [[-1,0,1,2,3],[0.3,0.15,0.15,0.15,0.25]]\n",
    "NFoldConv(P3,2)"
   ]
  },
  {
   "cell_type": "code",
   "execution_count": 28,
   "metadata": {},
   "outputs": [
    {
     "data": {
      "text/plain": [
       "{-5: 0.00243,\n",
       " -4: 0.006075,\n",
       " -3: 0.012149999999999998,\n",
       " -2: 0.021262499999999997,\n",
       " -1: 0.038221874999999995,\n",
       " 0: 0.053738437499999986,\n",
       " 1: 0.07074843749999998,\n",
       " 2: 0.08720156249999998,\n",
       " 3: 0.10407656249999997,\n",
       " 4: 0.10719843749999998,\n",
       " 5: 0.10638843749999999,\n",
       " 6: 0.09968906249999998,\n",
       " 7: 0.08860781249999998,\n",
       " 8: 0.0683578125,\n",
       " 9: 0.0517078125,\n",
       " 10: 0.0363571875,\n",
       " 11: 0.0233671875,\n",
       " 12: 0.0120703125,\n",
       " 13: 0.0064453125,\n",
       " 14: 0.0029296875,\n",
       " 15: 0.0009765625}"
      ]
     },
     "execution_count": 28,
     "metadata": {},
     "output_type": "execute_result"
    }
   ],
   "source": [
    "# After 5 days\n",
    "NFoldConv(P3,5)"
   ]
  },
  {
   "cell_type": "markdown",
   "metadata": {},
   "source": [
    "2. What is the probability that the stock has gained strictly more than 7NIS after 5 days? Has lost strictly more than 4NIS? Explain your answers."
   ]
  },
  {
   "cell_type": "code",
   "execution_count": 32,
   "metadata": {},
   "outputs": [
    {
     "name": "stdout",
     "output_type": "stream",
     "text": [
      "Gained more than 7 in 5 days 0.202211875\n",
      "Lost more than 4 in 5 days 0.00243\n"
     ]
    }
   ],
   "source": [
    "def gainedMoreThan(P,time, amount):\n",
    "    return sum([val for key, val in NFoldConv(P, time).items() if key > amount])\n",
    "\n",
    "def gainedLessThan(P, time, amount):\n",
    "    return sum([val for key, val in NFoldConv(P, time).items() if key < amount])\n",
    "\n",
    "print(\"Gained more than 7 in 5 days\",gainedMoreThan(P3,5,7))\n",
    "# should be the same as the only option in distrubtion of Q[-5] = 0.00243 in this case\n",
    "print(\"Lost more than 4 in 5 days\",gainedLessThan(P3,5,-4)) \n"
   ]
  },
  {
   "cell_type": "code",
   "execution_count": null,
   "metadata": {},
   "outputs": [],
   "source": []
  }
 ],
 "metadata": {
  "kernelspec": {
   "display_name": "Python 3",
   "language": "python",
   "name": "python3"
  },
  "language_info": {
   "codemirror_mode": {
    "name": "ipython",
    "version": 3
   },
   "file_extension": ".py",
   "mimetype": "text/x-python",
   "name": "python",
   "nbconvert_exporter": "python",
   "pygments_lexer": "ipython3",
   "version": "3.8.5"
  }
 },
 "nbformat": 4,
 "nbformat_minor": 4
}
