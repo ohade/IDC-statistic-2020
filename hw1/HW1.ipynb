{
 "cells": [
  {
   "cell_type": "markdown",
   "metadata": {},
   "source": [
    "### IDs:\n",
    "Insert yours IDs to the cell below"
   ]
  },
  {
   "cell_type": "markdown",
   "metadata": {},
   "source": [
    "ID #1:\n",
    "\n",
    "ID #2:\n"
   ]
  },
  {
   "cell_type": "markdown",
   "metadata": {},
   "source": [
    "## Read the following instructions carefully:\n",
    "\n",
    "1. This jupyter notebook contains all the step by step instructions needed for this exercise.\n",
    "1. You are free to add cells.\n",
    "1. Write your functions and your answers in this jupyter notebook only.\n",
    "1. Answers to theoretical questions should be written in **markdown cells (with $\\LaTeX$ support)**.\n",
    "1. Submit this jupyter notebook only using your ID as a filename. Not to use ZIP or RAR. For example, your Moodle submission file name should look like this (two id numbers): `123456789_987654321.ipynb`."
   ]
  },
  {
   "cell_type": "markdown",
   "metadata": {},
   "source": [
    "### Question 1 - Defective products"
   ]
  },
  {
   "cell_type": "markdown",
   "metadata": {},
   "source": [
    "In a manufacturing pipeline products are 3% defective. We are interested in examining a defective product to see what goes wrong on the belt. We need to ask the facility manager to send us a set of independent samples for examination."
   ]
  },
  {
   "cell_type": "markdown",
   "metadata": {},
   "source": [
    "#### 1.A\n",
    "\n",
    "How many independent samples should we ask for in order to have a 85% probability of having at least one defective product in the batch sent? You should write a function."
   ]
  },
  {
   "cell_type": "code",
   "execution_count": 26,
   "metadata": {},
   "outputs": [],
   "source": [
    "import numpy as np\n",
    "from scipy.stats import binom, nbinom\n"
   ]
  },
  {
   "cell_type": "code",
   "execution_count": 20,
   "metadata": {},
   "outputs": [
    {
     "data": {
      "text/plain": [
       "63"
      ]
     },
     "execution_count": 20,
     "metadata": {},
     "output_type": "execute_result"
    }
   ],
   "source": [
    "def math_calc(prob_of_defect=0.03, level_of_certainty=0.85):\n",
    "    return int(np.ceil(np.log(1-level_of_certainty)/np.log(1-prob_of_defect)))\n",
    "math_calc()"
   ]
  },
  {
   "cell_type": "code",
   "execution_count": 16,
   "metadata": {},
   "outputs": [
    {
     "data": {
      "text/plain": [
       "63"
      ]
     },
     "execution_count": 16,
     "metadata": {},
     "output_type": "execute_result"
    }
   ],
   "source": [
    "# we want to calc p(x >= 1) so we will calc 1 - p(x < 1) => 1 - p(x = 0)\n",
    "def iterative_calc_binom(number_of_defect=1, prob_of_defect=0.03, level_of_certainty=0.85):\n",
    "    sample_size = 1\n",
    "    while (1 - binom.cdf(number_of_defect-1, sample_size, prob_of_defect)) < level_of_certainty:\n",
    "        sample_size += 1\n",
    "    return sample_size\n",
    "iterative_calc_binom()"
   ]
  },
  {
   "cell_type": "code",
   "execution_count": 27,
   "metadata": {},
   "outputs": [
    {
     "data": {
      "text/plain": [
       "63"
      ]
     },
     "execution_count": 27,
     "metadata": {},
     "output_type": "execute_result"
    }
   ],
   "source": [
    "def iterative_calc_nbinom(number_of_defect=1, prob_of_defect=0.03, level_of_certainty=0.85):\n",
    "    sample_size = 1\n",
    "    while nbinom.cdf(sample_size, number_of_defect, prob_of_defect, number_of_defect) < level_of_certainty:\n",
    "        sample_size += 1\n",
    "    return sample_size\n",
    "iterative_calc_nbinom()"
   ]
  },
  {
   "cell_type": "markdown",
   "metadata": {},
   "source": [
    "#### 1.B\n",
    "Answer this part again with the following changes: products are 4% defective and we want a 95% probability of at least one defective product in the batch."
   ]
  },
  {
   "cell_type": "code",
   "execution_count": 22,
   "metadata": {},
   "outputs": [
    {
     "name": "stdout",
     "output_type": "stream",
     "text": [
      "74\n",
      "74\n"
     ]
    }
   ],
   "source": [
    "print(math_calc(0.04, 0.95))\n",
    "print(iterative_calc_binom(prob_of_defect=0.04, level_of_certainty=0.95))"
   ]
  },
  {
   "cell_type": "markdown",
   "metadata": {},
   "source": [
    "#### 1.C \n",
    "\n",
    "Consider the following cases and calculate how many independent samples are required: \n",
    "\n",
    "1. Products are 10% defective and we want a 90% probability of at least 5 defective products in the batch.\n",
    "1. Products are 30% defective and we want a 90% probability of at least 15 defective products in the batch.\n",
    "\n",
    "Explain the difference between the two results. You should use mathematical reasoning based on the properties of distributions you saw in class and visualizations in your answer."
   ]
  },
  {
   "cell_type": "code",
   "execution_count": 29,
   "metadata": {},
   "outputs": [
    {
     "name": "stdout",
     "output_type": "stream",
     "text": [
      "case1, using binom: 78, using nbinom: 78\n",
      "case2, using binom: 64, using nbinom: 64\n"
     ]
    }
   ],
   "source": [
    "print(f\"case1, using binom: {iterative_calc_binom(5,0.1,0.9)}, using nbinom: {iterative_calc_nbinom(5,0.1,0.9)}\")\n",
    "print(f\"case2, using binom: {iterative_calc_binom(15,0.3,0.9)}, using nbinom: {iterative_calc_nbinom(15,0.3,0.9)}\")\n"
   ]
  },
  {
   "cell_type": "markdown",
   "metadata": {},
   "source": [
    "### Explaining the difference:"
   ]
  },
  {
   "cell_type": "markdown",
   "metadata": {},
   "source": [
    "Define two RV's for the two use cases.\n",
    "\n",
    "$Y_1$ for the first case, and $Y_2$ for the second case.\n",
    "\n",
    "$Y_1 \\sim \\text{NBin}(5, 0.1)$<br />\n",
    "$Y_2 \\sim \\text{NBin}(15, 0.3)$\n",
    "<br /><br />\n",
    "\n",
    "Lets calculate their Expectation, using NBin Expectation formula: $E[Y] = {r \\over p}$:<br />\n",
    "$E[Y_1] = {5 \\over 0.1} = 50$<br />\n",
    "$E[Y_2] = {15 \\over 0.3} = 50$\n",
    "\n",
    "Lets calculate their Variance, using NBin Variance formula: $Var[Y] = {r(1-p) \\over p^2}$:<br />\n",
    "$Var[Y_1] = {5(1-0.1) \\over 0.1^2} = 450$<br />\n",
    "$Var[Y_2] = {15(1-0.3) \\over 0.3^2} = 116.66$\n",
    "\n",
    "And so, even though they have similar expectation the different variance causes the calculated cdf to produce such a difference in the results"
   ]
  },
  {
   "cell_type": "markdown",
   "metadata": {},
   "source": [
    "\n",
    "### Question 2 - Rent distributions in Randomistan"
   ]
  },
  {
   "cell_type": "markdown",
   "metadata": {},
   "source": [
    "The state of Randomistan conducted a survey to study the distribution of rent paid in two neighboring towns, Stochastic Heights and Random Grove, to be denoted SH and RG.<br> \n",
    "\n",
    "Here are some findings of the survey:\n",
    "* The population of SH and RG is 16,000 and 22,000 respectively. <br>\n",
    "* The mean rent in SH and RG is 6300RCU and 4200RCU respectively.\n",
    "* The median rent is 4600RCU in both towns.\n",
    "* The IQR of the rent is smaller in SH than in RG.\n",
    "\n",
    "All data generated in this question needs to be consistent with these findings."
   ]
  },
  {
   "cell_type": "markdown",
   "metadata": {},
   "source": [
    "c = np.random.normal(mean1, sd1, 3000)n // 2#### 2.A\n",
    "Draw histograms that describe 2 different scenarii of possible distributions of rent in the two towns.\u000b",
    "Your histograms should:<br>\n",
    "* Use bins of 100RCU each.\n",
    "* Have at least 10 non zero bins."
   ]
  },
  {
   "cell_type": "markdown",
   "metadata": {},
   "source": [
    "#### 2.B\n",
    "Draw a histogram of a third scenario with the same properties. <br>\n",
    "In addition, in this scenario the rent in SH should have a higher variance than the rent in RG."
   ]
  },
  {
   "cell_type": "code",
   "execution_count": null,
   "metadata": {},
   "outputs": [],
   "source": []
  },
  {
   "cell_type": "markdown",
   "metadata": {},
   "source": [
    "The survey also examined the per household income (PHI) in these two places.<br>\n",
    "\n",
    "It found that:<br>\n",
    "* The mean of PHI in SH is 12500 and in RG is 8500.\n",
    "* The median is 12000 in SH and 8000 in RG.\n",
    "* The covariance of the rent and the PHI was observed to be as in the formula below with $\\alpha=97\\%$ and $\\alpha=89\\%$ in SH and in RG respectively.<br><br>\n",
    "$$Cov(rent, PHI) = \\alpha * \\sqrt{Var(rent)} * \\sqrt{Var(PHI)}$$\n",
    "\n",
    "#### 2.C\n",
    "Produce rent and PHI data for the two cities, that is consistent with these findings. The covariances in your data can deviate by up to 1% from the numbers given $\\alpha$."
   ]
  },
  {
   "cell_type": "code",
   "execution_count": null,
   "metadata": {},
   "outputs": [],
   "source": []
  },
  {
   "cell_type": "markdown",
   "metadata": {},
   "source": [
    "#### 2.D\n",
    "Produce two heatmaps that describe these two bivariate joint distributions. Make sure you carefully consider the selected binning resolution."
   ]
  },
  {
   "cell_type": "code",
   "execution_count": null,
   "metadata": {},
   "outputs": [],
   "source": []
  },
  {
   "cell_type": "markdown",
   "metadata": {},
   "source": [
    "### Question 3 - Covariance and independence"
   ]
  },
  {
   "cell_type": "markdown",
   "metadata": {},
   "source": [
    "#### a) What is the variance of the sum X +Y + Z of three random variables in terms of the variances of X, Y and Z and the covariances between each pair of random variables?"
   ]
  },
  {
   "cell_type": "markdown",
   "metadata": {},
   "source": [
    "\n",
    "\\begin{align*}\n",
    "Var(X+Y+Z) & \\stackrel{*}{=} Var(X+Y) + Var(Z) + 2Cov(X+Y,Z) = Var(X) + Var(Y) + 2Conv(X,Y) + Var(Z) + 2Cov(X+Y,Z) \\Rightarrow \\\\\n",
    "\\newline\n",
    "& \\stackrel{**}{=} Var(X) + Var(Y) + Var(Z) + 2Cov(X,Y) + 2Cov(Y,Z) + 2Cov(X,Z)\n",
    "\\end{align*}\n",
    "\n",
    "\\begin{align*}\n",
    "* &Var(X + Y) = Var(X) + Var(Y) + 2Cov(X,Y) \\Rightarrow Var(X + Y + Z) = Var((X + Y) + Z) = Var(X + Y) + Var(Z) + 2Cov(X + Y,Z)\n",
    "\\newline\n",
    "** &Cov(X + Y,Z) = E((X + Y),Z) - E(X + Y)E(Z) \\stackrel{***}{=} E(XZ) + E(YZ) - E(X)E(Z) - E(Y)E(Z) = Cov(X,Z) + Cov(Y,Z)\n",
    "\\newline\n",
    "*** &Cov(X,Y) = E(XY) - E(X)E(Y)\n",
    "\\end{align*}"
   ]
  },
  {
   "cell_type": "markdown",
   "metadata": {},
   "source": [
    "#### b) What happens if X,Y,Z are pairwise independent?"
   ]
  },
  {
   "cell_type": "markdown",
   "metadata": {},
   "source": [
    "If X,Y,Z are pairwise independent than:\n",
    "$$Cov(X,Y)=Cov(X,Z)=Cov(Y,Z) = 0$$\n",
    "Plugging this results into equation of part (a) we get:\n",
    "$$Var(X+Y+Z) = Var(X) + Var(Y) + Var(Z)$$"
   ]
  },
  {
   "cell_type": "markdown",
   "metadata": {},
   "source": [
    "#### c) If X,Y,Z are pairwise independent, are they necessarily collectively independent? Prove your answer."
   ]
  },
  {
   "cell_type": "markdown",
   "metadata": {},
   "source": [
    "No, let's take for example tossing 3 fair coins.\n",
    "We define 3 events: A, B, C as follows:\n",
    "𝐴 - be the event that the first two tosses returned the exact same value.\n",
    "B - be the event that the last two tosses returned the exact same value.\n",
    "C - be the event that the first and last tosses returned the exact same value.\n",
    "\n",
    "To Proove that they are pair independent, we need to show that:\n",
    "<br/>\n",
    "$P(A|B) = P(A) $\n",
    "<br/>\n",
    "$P(A|C) = P(A)$\n",
    "<br/>\n",
    "$P(B|A) = P(B)$\n",
    "<br/>\n",
    "$P(B|C) = P(B)$\n",
    "<br/>\n",
    "$P(C|A) = P(C)$\n",
    "<br/>\n",
    "$P(C|B) = P(C)$\n",
    "<br/>\n",
    "<br/>\n",
    "proof:\n",
    "$P(A) = P(B) = P(C) = \\frac{1}{2}$\n",
    "<br/>\n",
    "$P(A|B) = P(A|B) = P(A|B) = P(A|B) = P(A|B) = P(A|B) = \\frac{1}{2}$\n",
    "<br/>\n",
    "**Q.E.D.**\n",
    "\n",
    "Now we need to show that they are not mutually independent, in the same way, meaning:\n",
    "<br/>\n",
    "$P(A|BC) \\neq P(A) $\n",
    "<br/>\n",
    "$P(B|AC) \\neq P(B)$\n",
    "<br/>\n",
    "$P(C|AB) \\neq P(C)$\n",
    "<br/>\n",
    "\n",
    "$P(A|BC) = P(B|AC) = P(C|AB) = 1$, but as we seen $P(A) = P(B) = P(C) = \\frac{1}{2}$\n",
    "<br/>\n",
    "And so, not mutually independent.\n",
    "<br/>\n",
    "**Q.E.D.**"
   ]
  },
  {
   "cell_type": "markdown",
   "metadata": {},
   "source": [
    "### Question 4 - Convolutions"
   ]
  },
  {
   "cell_type": "markdown",
   "metadata": {},
   "source": [
    "#### 4.A\n",
    "Write a program, `Q = NFoldConv(P , n)`, that takes as input:\n",
    "* A distribution, P, of a random variable that takes finitely many integer values\n",
    "* An integer n\n",
    "\n",
    "and produces the distribution, Q, of the sum of n independent repeats of random variables, each of which has the distribution P."
   ]
  },
  {
   "cell_type": "code",
   "execution_count": null,
   "metadata": {},
   "outputs": [],
   "source": []
  },
  {
   "cell_type": "markdown",
   "metadata": {},
   "source": [
    "#### 4.B\n",
    "Compute the distribution of the sum of the results of rolling a fair octahedron 17 times.\n",
    "\n",
    "<img src=\"https://upload.wikimedia.org/wikipedia/commons/2/27/Octahedron.jpg\" width=\"200\">\n"
   ]
  },
  {
   "cell_type": "code",
   "execution_count": null,
   "metadata": {},
   "outputs": [],
   "source": []
  },
  {
   "cell_type": "markdown",
   "metadata": {},
   "source": [
    "#### 4.C\n",
    "Assume that the price of a stock changes in any given day according to (in NIS):\n",
    "\n",
    "$$P=\\begin{pmatrix}\n",
    "-1 & 0 & 1 & 2 & 3 \\\\\n",
    "0.3 & 0.15 & 0.15 & 0.15 & 0.25\n",
    "\\end{pmatrix}$$\n",
    "\n",
    "1. What is the distribution of the change in stock after 2 consecutive days of (independent) changes? After 5 consecutive days? "
   ]
  },
  {
   "cell_type": "code",
   "execution_count": null,
   "metadata": {},
   "outputs": [],
   "source": []
  },
  {
   "cell_type": "markdown",
   "metadata": {},
   "source": [
    "2. What is the probability that the stock has gained strictly more than 7NIS after 5 days? Has lost strictly more than 4NIS? Explain your answers."
   ]
  },
  {
   "cell_type": "code",
   "execution_count": null,
   "metadata": {},
   "outputs": [],
   "source": []
  }
 ],
 "metadata": {
  "kernelspec": {
   "display_name": "Python 3",
   "language": "python",
   "name": "python3"
  },
  "language_info": {
   "codemirror_mode": {
    "name": "ipython",
    "version": 3
   },
   "file_extension": ".py",
   "mimetype": "text/x-python",
   "name": "python",
   "nbconvert_exporter": "python",
   "pygments_lexer": "ipython3",
   "version": "3.8.5"
  }
 },
 "nbformat": 4,
 "nbformat_minor": 4
}
