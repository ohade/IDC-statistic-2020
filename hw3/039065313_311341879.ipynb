{
 "cells": [
  {
   "cell_type": "markdown",
   "metadata": {},
   "source": [
    "### IDs:\n",
    "Insert yours IDs to the cell below"
   ]
  },
  {
   "cell_type": "markdown",
   "metadata": {},
   "source": [
    "ID #1:\n",
    "\n",
    "ID #2:\n"
   ]
  },
  {
   "cell_type": "code",
   "execution_count": 7,
   "metadata": {},
   "outputs": [],
   "source": [
    "import warnings\n",
    "import numpy as np\n",
    "import scipy\n",
    "from scipy import stats, log\n",
    "import matplotlib.pyplot as plt\n",
    "from scipy.stats import lognorm, kendalltau, pearsonr, spearmanr\n",
    "import random\n",
    "import matplotlib.mlab as mlab\n",
    "import seaborn as sns\n",
    "from scipy.stats import norm\n",
    "import matplotlib.mlab as mlab\n",
    "import pandas as pd\n",
    "\n",
    "\n",
    "warnings.filterwarnings('ignore')\n"
   ]
  },
  {
   "cell_type": "markdown",
   "metadata": {},
   "source": [
    "## Read the following instructions carefully:\n",
    "\n",
    "1. This jupyter notebook contains all the step by step instructions needed for this exercise.\n",
    "1. You are free to add cells.\n",
    "1. Write your functions and your answers in this jupyter notebook only.\n",
    "1. Answers to theoretical questions should be written in **markdown cells (with $\\LaTeX$ support)**.\n",
    "1. Submit this jupyter notebook only using your ID as a filename. Not to use ZIP or RAR. For example, your Moodle submission file name should look like this (two id numbers): `123456789_987654321.ipynb`."
   ]
  },
  {
   "cell_type": "markdown",
   "metadata": {},
   "source": [
    "### Question 1 - Correlations (15 points)"
   ]
  },
  {
   "cell_type": "markdown",
   "metadata": {},
   "source": [
    "Provide example datapoints matching the following descriptions. Each example should be constructed over n=50 datapoints. Provide a table description of the example data as well as a jointplot (see example below). \n",
    "If you think that the situation described is impossible then clearly explain why (you don’t need to give a rigorous proof).<br>\n",
    "Pearson(x,y) = Pearson correlation<br>\n",
    "τ(x,y) = Kendall rank correlation<br>\n",
    "ρ(x,y) = Spearman rank correlation <br>\n",
    "<img src=\"jointplot.png\">"
   ]
  },
  {
   "cell_type": "markdown",
   "metadata": {},
   "source": [
    "#### 1.A\n",
    "Data in which  $Pearson(x,y) < -0.9$ but where $n-1$ points can be selected so that for the vectors restricted to those we have $Pearson(x_{n-1},y_{n-1}) > -0.2$"
   ]
  },
  {
   "cell_type": "markdown",
   "metadata": {},
   "source": [
    "#### 1.B\n",
    "Data with τ(x,y) > ρ(x,y) + 0.45"
   ]
  },
  {
   "cell_type": "markdown",
   "metadata": {},
   "source": [
    "#### 1.C\n",
    "Data with τ(x,y) < ρ(x,y) – 0.45"
   ]
  },
  {
   "cell_type": "markdown",
   "metadata": {},
   "source": [
    "#### 1.D\n",
    "Data with Pearson(x,y) < ρ(x,y) – 0.6"
   ]
  },
  {
   "cell_type": "markdown",
   "metadata": {},
   "source": [
    "#### 1.E\n",
    "Data with Pearson(x,y) > ρ(x,y) + 1.2"
   ]
  },
  {
   "cell_type": "markdown",
   "metadata": {},
   "source": [
    "#### 1.F\n",
    "Data with τ(x,y) < ρ(x,y) – 1.2 "
   ]
  },
  {
   "cell_type": "markdown",
   "metadata": {},
   "source": [
    "### Question 2 - Analysis of the UCI Heart Disease dataset  (40 points)"
   ]
  },
  {
   "cell_type": "markdown",
   "metadata": {},
   "source": [
    "Perform data analysis on the UCI Heart Disease Dataset\n",
    "References:\n",
    "1. Detrano, R., Janosi, A., Steinbrunn, W., Pfisterer, M., Schmid, J., Sandhu, S., Guppy, K., Lee, S., & Froelicher, V. (1989). International application of a new probability algorithm for the diagnosis of coronary artery disease. American Journal of Cardiology, 64,304--310.\n",
    "2. David W. Aha & Dennis Kibler. \"Instance-based prediction of heart-disease presence with the Cleveland database.\"\n",
    "3. Gennari, J.H., Langley, P, & Fisher, D. (1989). Models of incremental concept formation. Artificial Intelligence, 40, 11--61.\n",
    "\n",
    "Use the following links to find the details of the data: \n",
    "1. https://archive.ics.uci.edu/ml/datasets/heart+disease\n",
    "2. https://www.kaggle.com/ronitf/heart-disease-uci\n",
    "\n",
    "In the follwong cells write a report for your analysis. In your report provide a clear description of the analysis methods and of the results. This should include a graphical representation of the results and the conclusions. Provide p-values or other indicators of the statistical significance where appropriate. <br>\n",
    "Design your report to be concise but still cover interesting findings.\n",
    "\n",
    "There are missing values in the data. Find them and impute them by using the median (for numerical features) or the mode (for categorical features) value of the relevant feature (column).\n",
    "Address the following questions:\n",
    "* Using confidence intervals determine for which numerical features you can state with confidence of 95% that the healthy population (target = 0) mean is larger/smaller than the disease population (target = 1) mean. \n",
    "* Draw histograms for each numerical feature. Inspect the observed distributions and then use MLE to plot, on the same figures, fits of the distributions.\n",
    "* For each pair of numerical feature, calculate correlations and indicate whether you find them significant. For select pairs, with significant correlations, draw joint plot with marginal histograms (see Seaborn joint plot) and find bivariate normal fits. Then use the example code below to draw plots of the bivariate pdfs (you may edit the code as you see fit).\n",
    "* Are there pairs that are significantly correlated in males but not in females? The opposite? How about healthy vs disease? Can you graphically represent this?\n",
    "* For each numerical feature, except age, plot the distribution for this feature against bins of age. In each bin provide a split violin plot, with different colors for healthy and disease.\n",
    "\n",
    "Suggest, state and address at least one original question.\n"
   ]
  },
  {
   "cell_type": "code",
   "execution_count": 1,
   "metadata": {},
   "outputs": [
    {
     "data": {
      "image/png": "[encoded data removed]",
      "text/plain": [
       "<Figure size 432x288 with 1 Axes>"
      ]
     },
     "metadata": {
      "needs_background": "light"
     },
     "output_type": "display_data"
    }
   ],
   "source": [
    "# Example code for bivariate pdfs\n",
    "from scipy.stats import multivariate_normal as mn\n",
    "import numpy as np\n",
    "import matplotlib.pyplot as plt\n",
    "%matplotlib inline\n",
    "\n",
    "def plot_2d_Gaussian_pdf(means, cov):\n",
    "    n = 100\n",
    "    x1 = np.linspace(means[0] - 3 * np.sqrt(cov[0][0]), means[0] + 3 * np.sqrt(cov[0][0]), n)\n",
    "    x2 = np.linspace(means[1] - 3 * np.sqrt(cov[1][1]), means[1] + 3 * np.sqrt(cov[1][1]), n)\n",
    "    x1_v, x2_v = np.meshgrid(x1, x2)\n",
    "    Xgrid = np.vstack([x1_v.ravel(), x2_v.ravel()]).T\n",
    "    Y = mn.pdf(Xgrid, means, cov)\n",
    "    fig, ax = plt.subplots()\n",
    "    ax.pcolorfast(x1, x2, Y.reshape(x1_v.shape), alpha=0.5, cmap='Blues')\n",
    "    ax.contour(x1_v, x2_v, Y.reshape(x1_v.shape),\n",
    "               levels=[0.05, 0.1, 0.15, 0.2], alpha=0.3, colors='b')\n",
    "    ax.axis('equal')\n",
    "    ax.grid(alpha=0.2)\n",
    "    plt.show()\n",
    "    \n",
    "means = [3, 2]\n",
    "cov = [[1, 0.5], [0.5, 0.8]]\n",
    "plot_2d_Gaussian_pdf(means, cov)"
   ]
  },
  {
   "cell_type": "markdown",
   "metadata": {},
   "source": [
    "### Question 3 - Heavy Tailed distributions (10 points)"
   ]
  },
  {
   "cell_type": "markdown",
   "metadata": {},
   "source": [
    "Recall the definition of Heavy Tailed distribtion from the lectures.\n",
    "\n",
    "*A distribution is said to have a heavy right tail if its tail probabilities vanish slower than any exponential*\n",
    "$$ \\forall t>0, \\lim_{x\\to\\infty} e^{tx}P(X>x)=\\infty $$"
   ]
  },
  {
   "cell_type": "markdown",
   "metadata": {},
   "source": [
    "#### 3.A\n",
    "Does the standard normal distribution have a heavy right tail? prove your answer."
   ]
  },
  {
   "cell_type": "markdown",
   "metadata": {},
   "source": [
    "Answer: No\n",
    "\n",
    "Standard normal distribution: $f(x)=\\frac{1}{\\sqrt{2\\pi}}e^{-\\frac{x^2}{2}}$\n"
   ]
  },
  {
   "cell_type": "markdown",
   "metadata": {},
   "source": [
    "#### 3.B\n",
    "Does the standard log-normal distribution have a heavy right tail? prove your answer."
   ]
  },
  {
   "cell_type": "markdown",
   "metadata": {},
   "source": [
    "Answer: Yes\n",
    "\n",
    "Standard log-normal distribution: $f(x)=\\frac{1}{x\\sqrt{2\\pi}}e^{-\\frac{(\\ln{x})^2}{2}}$    "
   ]
  },
  {
   "cell_type": "markdown",
   "metadata": {},
   "source": [
    "### Question 4 - CLT for Markov chains (20 points)"
   ]
  },
  {
   "cell_type": "markdown",
   "metadata": {},
   "source": [
    "In this exercise you will construct trajectories of Markovian dice rolling results in the following way.<br>\n",
    "The first roll, $X_0$, is $U(1...6)$, i.e. $P(X_0=i)=temp_T[0]*6\\pi_0(i)=1/6, \\forall i\\in{\\{1,..,6\\}}$<br>\n",
    "After i rolls are determined the $i+1^{st}, X_{i+1},$ is drawn according to the row that corresponds to the value of $X_i$ in the matrix $T$ below. <br>\n",
    "In other words, $T$ is the transition matrix of a Markov chain and the initial distribution is uniform.\n",
    "\n",
    "\\begin{equation*}\n",
    "T = \n",
    "\\begin{pmatrix}\n",
    "0.4 & 0.2 & 0.1 & 0 & 0.1 & 0.2 \\\\\n",
    "0.2 & 0.4 & 0.2 & 0.1 & 0 & 0.1 \\\\\n",
    "0.1 & 0.2 & 0.4 & 0.2 & 0.1 & 0 \\\\\n",
    "0 & 0.1 & 0.2 & 0.4 & 0.2 & 0.1 \\\\\n",
    "0.1 & 0 & 0.1 & 0.2 & 0.4 & 0.2 \\\\\n",
    "0.2 & 0.1 & 0 & 0.1 & 0.2 & 0.4\n",
    "\\end{pmatrix}\n",
    "\\end{equation*}"
   ]
  },
  {
   "cell_type": "code",
   "execution_count": 115,
   "metadata": {},
   "outputs": [],
   "source": [
    "def round_state(p_list):\n",
    "    return np.array([round(p,3) for p in p_list])"
   ]
  },
  {
   "cell_type": "code",
   "execution_count": 120,
   "metadata": {},
   "outputs": [],
   "source": [
    "T = np.array([[0.4, 0.2, 0.1, 0, 0.1, 0.2],\n",
    "              [0.2, 0.4, 0.2, 0.1, 0, 0.1],\n",
    "              [0.1, 0.2, 0.4, 0.2, 0.1, 0],\n",
    "              [0, 0.1, 0.2, 0.4, 0.2, 0.1],\n",
    "              [0.1, 0, 0.1, 0.2, 0.4, 0.2],\n",
    "              [0.2, 0.1, 0, 0.1, 0.2, 0.4]])\n",
    "pi_0 = np.array([1/6]*6)\n",
    "    \n",
    "values = np.array(list(range(1, 6+1)))"
   ]
  },
  {
   "cell_type": "markdown",
   "metadata": {},
   "source": [
    "#### First we wanted to see if p is a stationary state\n",
    "We did it, like we saw in class, by taking the initial state and dot product it by T.\n",
    "If the result we get is again p, than we know that p is indeed a stationary state."
   ]
  },
  {
   "cell_type": "code",
   "execution_count": 124,
   "metadata": {},
   "outputs": [
    {
     "name": "stderr",
     "output_type": "stream",
     "text": [
      "ic| pi_next: array([0.167, 0.167, 0.167, 0.167, 0.167, 0.167])\n"
     ]
    },
    {
     "name": "stdout",
     "output_type": "stream",
     "text": [
      "pi_0 is the stationary state\n"
     ]
    }
   ],
   "source": [
    "pi_next = round_state(pi_0.dot(T))\n",
    "ic(pi_next)\n",
    "if list(round_state(pi_0)) == list(round_state(pi_next)):\n",
    "    print(\"pi_0 is the stationary state\")"
   ]
  },
  {
   "cell_type": "code",
   "execution_count": 126,
   "metadata": {},
   "outputs": [],
   "source": [
    "def create_trajectory_generator(length):\n",
    "    def trajectory_generator():\n",
    "        while True:\n",
    "            yield stats.rv_discrete(name=\"curr pi\", values=(values, pi_0)).rvs(size=length)\n",
    "    return trajectory_generator()\n",
    "            \n",
    "\n",
    "def trajectory_estimator(num_of_trajectories, length):\n",
    "    trajectory_generator = create_trajectory_generator(length)\n",
    "    return [np.average(np.array(next(trajectory_generator))) for _ in range(num_of_trajectories)]\n",
    "\n",
    "\n",
    "def experiment(num_of_trajectories, length, bins=20):\n",
    "    avgs = trajectory_estimator(num_of_trajectories, length)\n",
    "    \n",
    "    n, bins, patches = plt.hist(avgs, bins, alpha=0.75)\n",
    "    (mu, sigma) = norm.fit(avgs)\n",
    "    print(\"Empirical Mean = {} STD = {}\".format(round(mu,3), round(sigma,3)))\n",
    "    plt.show()\n",
    "    \n",
    "    return avgs, mu, sigma\n",
    "\n",
    "\n",
    "def fit_curve_plot(avgs, mu, sigma):\n",
    "    ax = sns.distplot(avgs, bins=25, kde_kws=dict(bw=0.5), hist_kws= dict(edgecolor=\"k\"))\n",
    "    ax.set(xlabel='bins', ylabel='Frequency')\n",
    "    plt.show()"
   ]
  },
  {
   "cell_type": "markdown",
   "metadata": {},
   "source": [
    "#### 4.A\n",
    "Construct 1000 trajectories, each of length 30.\n",
    "1. What do you expect the average value of all 30 numbers in a trajectory to be?\n",
    "2. Compute the average value of each such trajectory. Draw a histogram of the 1000 numbers you received, using 20 bins.\n",
    "3. What does the distribution look like? What are the empirical mean and the std?"
   ]
  },
  {
   "cell_type": "markdown",
   "metadata": {},
   "source": [
    "1. Since we saw that this is a stationary process, we expect that the distribution to remain uniform in all states, and so the expectation should be: 3.5 \n",
    "2. See graph below.\n",
    "3. We have here basically a 1000 RV that are independent of each other, and so by the CLT, the distribution should be Normal distribution with mean 3.5"
   ]
  },
  {
   "cell_type": "code",
   "execution_count": 127,
   "metadata": {},
   "outputs": [
    {
     "name": "stdout",
     "output_type": "stream",
     "text": [
      "Empirical Mean = 3.484 STD = 0.312\n"
     ]
    },
    {
     "data": {
      "image/png": "[encoded data removed]",
      "text/plain": [
       "<Figure size 432x288 with 1 Axes>"
      ]
     },
     "metadata": {
      "needs_background": "light"
     },
     "output_type": "display_data"
    }
   ],
   "source": [
    "avgs_a, mu_a, sigma_a = experiment(1000, 30)"
   ]
  },
  {
   "cell_type": "markdown",
   "metadata": {},
   "source": [
    "##### 4.B\n",
    "Construct 1000 trajectories, each of length 500.\n",
    "1. What do you expect the average value of all 500 numbers in a trajectory to be?\n",
    "2. Compute the average value of each such trajectory. Draw a histogram of the 1000 numbers you received, using 20 bins.\n",
    "3. What does the distribution look like? What are the empirical mean and the std?"
   ]
  },
  {
   "cell_type": "markdown",
   "metadata": {},
   "source": [
    "1. Since we saw that this is a stationary process, we expect that the distribution to remain uniform in all states, and so the expectation should be: 3.5 \n",
    "2. See graph below.\n",
    "3. We have here basically a 1000 RV that are independent of each other, and so by the CLT, the distribution should be Normal distribution with mean 3.5"
   ]
  },
  {
   "cell_type": "code",
   "execution_count": 95,
   "metadata": {},
   "outputs": [
    {
     "name": "stdout",
     "output_type": "stream",
     "text": [
      "Empirical Mean = 3.502 STD = 0.077\n"
     ]
    },
    {
     "data": {
      "image/png": "[encoded data removed]",
      "text/plain": [
       "<Figure size 432x288 with 1 Axes>"
      ]
     },
     "metadata": {
      "needs_background": "light"
     },
     "output_type": "display_data"
    }
   ],
   "source": [
    "avgs_b, mu_b, sigma_b = experiment(1000, 500)"
   ]
  },
  {
   "cell_type": "markdown",
   "metadata": {},
   "source": [
    "#### 4.C\n",
    "Draw normal fit curves on your two histograms."
   ]
  },
  {
   "cell_type": "code",
   "execution_count": 97,
   "metadata": {},
   "outputs": [
    {
     "data": {
      "image/png": "[encoded data removed]",
      "text/plain": [
       "<Figure size 432x288 with 1 Axes>"
      ]
     },
     "metadata": {
      "needs_background": "light"
     },
     "output_type": "display_data"
    }
   ],
   "source": [
    "fit_curve_plot(avgs_a, mu_a, sigma_a)"
   ]
  },
  {
   "cell_type": "code",
   "execution_count": 98,
   "metadata": {},
   "outputs": [
    {
     "data": {
      "image/png": "[encoded data removed]",
      "text/plain": [
       "<Figure size 432x288 with 1 Axes>"
      ]
     },
     "metadata": {
      "needs_background": "light"
     },
     "output_type": "display_data"
    }
   ],
   "source": [
    "fit_curve_plot(avgs_b, mu_b, sigma_b)"
   ]
  },
  {
   "cell_type": "markdown",
   "metadata": {},
   "source": [
    "#### 4.D\n",
    "Write a python code to calculate $Cov(X_0,X_i)$ for $i=1,..,500$ based on $\\pi_0$ and $T$. \n",
    "\n",
    "Compute the values for our case."
   ]
  },
  {
   "cell_type": "markdown",
   "metadata": {},
   "source": [
    "answer:</br>\n",
    "    We will use the formula: $Cov(X,Y)=E(XY)-E(X) \\cdot E(Y)$"
   ]
  },
  {
   "cell_type": "code",
   "execution_count": 133,
   "metadata": {
    "collapsed": true,
    "jupyter": {
     "outputs_hidden": true
    }
   },
   "outputs": [
    {
     "name": "stdout",
     "output_type": "stream",
     "text": [
      "1 13.366666666666667\n",
      "2 12.766666666666667\n",
      "3 12.502666666666666\n",
      "4 12.375466666666668\n",
      "5 12.312586666666668\n",
      "6 12.28126666666667\n",
      "7 12.265628266666672\n",
      "8 12.257813146666669\n",
      "9 12.25390637866667\n",
      "10 12.251953150666674\n",
      "11 12.250976567626674\n",
      "12 12.250488282274675\n",
      "13 12.250244140829873\n",
      "14 12.250122070353475\n",
      "15 12.250061035164451\n",
      "16 12.250030517579773\n",
      "17 12.2500152587894\n",
      "18 12.250007629394608\n",
      "19 12.25000381469729\n",
      "20 12.250001907348647\n",
      "21 12.25000095367433\n",
      "22 12.250000476837172\n",
      "23 12.250000238418592\n",
      "24 12.250000119209304\n",
      "25 12.25000005960466\n",
      "26 12.25000002980234\n",
      "27 12.250000014901179\n",
      "28 12.250000007450598\n",
      "29 12.250000003725306\n",
      "30 12.250000001862663\n",
      "31 12.250000000931342\n",
      "32 12.250000000465683\n",
      "33 12.25000000023285\n",
      "34 12.250000000116437\n",
      "35 12.250000000058233\n",
      "36 12.250000000029125\n",
      "37 12.250000000014573\n",
      "38 12.250000000007299\n",
      "39 12.250000000003663\n",
      "40 12.250000000001846\n",
      "41 12.250000000000936\n",
      "42 12.250000000000481\n",
      "43 12.250000000000254\n",
      "44 12.250000000000142\n",
      "45 12.250000000000083\n",
      "46 12.250000000000059\n",
      "47 12.250000000000044\n",
      "48 12.250000000000039\n",
      "49 12.250000000000037\n",
      "50 12.250000000000032\n",
      "51 12.250000000000032\n",
      "52 12.250000000000034\n",
      "53 12.250000000000034\n",
      "54 12.250000000000034\n",
      "55 12.250000000000034\n",
      "56 12.250000000000034\n",
      "57 12.250000000000034\n",
      "58 12.250000000000037\n",
      "59 12.250000000000037\n",
      "60 12.250000000000037\n",
      "61 12.250000000000037\n",
      "62 12.250000000000037\n",
      "63 12.25000000000004\n",
      "64 12.25000000000004\n",
      "65 12.25000000000004\n",
      "66 12.250000000000043\n",
      "67 12.250000000000043\n",
      "68 12.250000000000044\n",
      "69 12.250000000000043\n",
      "70 12.250000000000043\n",
      "71 12.250000000000046\n",
      "72 12.250000000000046\n",
      "73 12.250000000000046\n",
      "74 12.250000000000046\n",
      "75 12.25000000000005\n",
      "76 12.25000000000005\n",
      "77 12.25000000000005\n",
      "78 12.25000000000005\n",
      "79 12.250000000000052\n",
      "80 12.250000000000052\n",
      "81 12.250000000000052\n",
      "82 12.250000000000053\n",
      "83 12.250000000000055\n",
      "84 12.250000000000057\n",
      "85 12.250000000000055\n",
      "86 12.250000000000057\n",
      "87 12.250000000000057\n",
      "88 12.250000000000057\n",
      "89 12.250000000000057\n",
      "90 12.250000000000059\n",
      "91 12.250000000000059\n",
      "92 12.250000000000059\n",
      "93 12.250000000000057\n",
      "94 12.250000000000059\n",
      "95 12.25000000000006\n",
      "96 12.25000000000006\n",
      "97 12.25000000000006\n",
      "98 12.25000000000006\n",
      "99 12.250000000000064\n",
      "100 12.250000000000062\n",
      "101 12.250000000000064\n",
      "102 12.25000000000006\n",
      "103 12.250000000000064\n",
      "104 12.250000000000064\n",
      "105 12.250000000000068\n",
      "106 12.250000000000068\n",
      "107 12.250000000000068\n",
      "108 12.25000000000007\n",
      "109 12.250000000000068\n",
      "110 12.25000000000007\n",
      "111 12.250000000000073\n",
      "112 12.250000000000071\n",
      "113 12.250000000000075\n",
      "114 12.250000000000076\n",
      "115 12.250000000000075\n",
      "116 12.250000000000078\n",
      "117 12.250000000000078\n",
      "118 12.250000000000078\n",
      "119 12.250000000000078\n",
      "120 12.250000000000078\n",
      "121 12.250000000000078\n",
      "122 12.250000000000082\n",
      "123 12.250000000000082\n",
      "124 12.250000000000082\n",
      "125 12.250000000000082\n",
      "126 12.250000000000082\n",
      "127 12.250000000000083\n",
      "128 12.250000000000082\n",
      "129 12.250000000000082\n",
      "130 12.250000000000083\n",
      "131 12.250000000000085\n",
      "132 12.250000000000085\n",
      "133 12.250000000000085\n",
      "134 12.250000000000085\n",
      "135 12.250000000000087\n",
      "136 12.250000000000087\n",
      "137 12.250000000000087\n",
      "138 12.250000000000087\n",
      "139 12.250000000000089\n",
      "140 12.250000000000089\n",
      "141 12.250000000000089\n",
      "142 12.250000000000089\n",
      "143 12.25000000000009\n",
      "144 12.250000000000092\n",
      "145 12.25000000000009\n",
      "146 12.250000000000092\n",
      "147 12.250000000000092\n",
      "148 12.250000000000092\n",
      "149 12.250000000000096\n",
      "150 12.250000000000096\n",
      "151 12.250000000000096\n",
      "152 12.250000000000096\n",
      "153 12.250000000000098\n",
      "154 12.250000000000098\n",
      "155 12.250000000000098\n",
      "156 12.250000000000098\n",
      "157 12.250000000000098\n",
      "158 12.250000000000098\n",
      "159 12.250000000000103\n",
      "160 12.250000000000103\n",
      "161 12.250000000000103\n",
      "162 12.250000000000107\n",
      "163 12.250000000000107\n",
      "164 12.250000000000107\n",
      "165 12.250000000000108\n",
      "166 12.250000000000108\n",
      "167 12.250000000000108\n",
      "168 12.250000000000108\n",
      "169 12.25000000000011\n",
      "170 12.250000000000108\n",
      "171 12.25000000000011\n",
      "172 12.25000000000011\n",
      "173 12.25000000000011\n",
      "174 12.250000000000114\n",
      "175 12.250000000000114\n",
      "176 12.250000000000114\n",
      "177 12.250000000000114\n",
      "178 12.250000000000114\n",
      "179 12.250000000000115\n",
      "180 12.250000000000115\n",
      "181 12.250000000000115\n",
      "182 12.250000000000119\n",
      "183 12.250000000000119\n",
      "184 12.250000000000119\n",
      "185 12.250000000000119\n",
      "186 12.25000000000012\n",
      "187 12.250000000000123\n",
      "188 12.250000000000123\n",
      "189 12.25000000000012\n",
      "190 12.250000000000123\n",
      "191 12.250000000000123\n",
      "192 12.250000000000123\n",
      "193 12.250000000000123\n",
      "194 12.250000000000123\n",
      "195 12.250000000000124\n",
      "196 12.250000000000124\n",
      "197 12.250000000000126\n",
      "198 12.250000000000126\n",
      "199 12.250000000000128\n",
      "200 12.250000000000128\n",
      "201 12.250000000000128\n",
      "202 12.250000000000128\n",
      "203 12.250000000000131\n",
      "204 12.250000000000131\n",
      "205 12.250000000000128\n",
      "206 12.250000000000131\n",
      "207 12.250000000000131\n",
      "208 12.250000000000133\n",
      "209 12.250000000000135\n",
      "210 12.250000000000137\n",
      "211 12.250000000000137\n",
      "212 12.250000000000137\n",
      "213 12.250000000000137\n",
      "214 12.250000000000137\n",
      "215 12.25000000000014\n",
      "216 12.25000000000014\n",
      "217 12.25000000000014\n",
      "218 12.25000000000014\n",
      "219 12.250000000000142\n",
      "220 12.250000000000144\n",
      "221 12.250000000000142\n",
      "222 12.25000000000014\n",
      "223 12.250000000000146\n",
      "224 12.250000000000146\n",
      "225 12.250000000000146\n",
      "226 12.250000000000147\n",
      "227 12.250000000000147\n",
      "228 12.250000000000146\n",
      "229 12.25000000000015\n",
      "230 12.25000000000015\n",
      "231 12.25000000000015\n",
      "232 12.25000000000015\n",
      "233 12.25000000000015\n",
      "234 12.25000000000015\n",
      "235 12.250000000000151\n",
      "236 12.250000000000151\n",
      "237 12.25000000000015\n",
      "238 12.250000000000151\n",
      "239 12.250000000000156\n",
      "240 12.250000000000155\n",
      "241 12.250000000000156\n",
      "242 12.250000000000158\n",
      "243 12.250000000000156\n",
      "244 12.250000000000156\n",
      "245 12.250000000000158\n",
      "246 12.25000000000016\n",
      "247 12.25000000000016\n",
      "248 12.25000000000016\n",
      "249 12.25000000000016\n",
      "250 12.250000000000162\n",
      "251 12.250000000000162\n",
      "252 12.250000000000162\n",
      "253 12.250000000000162\n",
      "254 12.250000000000162\n",
      "255 12.250000000000165\n",
      "256 12.250000000000165\n",
      "257 12.250000000000165\n",
      "258 12.250000000000167\n",
      "259 12.250000000000167\n",
      "260 12.250000000000169\n",
      "261 12.250000000000169\n",
      "262 12.25000000000017\n",
      "263 12.25000000000017\n",
      "264 12.25000000000017\n",
      "265 12.25000000000017\n",
      "266 12.25000000000017\n",
      "267 12.250000000000172\n",
      "268 12.250000000000172\n",
      "269 12.25000000000017\n",
      "270 12.250000000000174\n",
      "271 12.250000000000176\n",
      "272 12.250000000000176\n",
      "273 12.250000000000176\n",
      "274 12.250000000000176\n",
      "275 12.250000000000178\n",
      "276 12.25000000000018\n",
      "277 12.250000000000178\n",
      "278 12.25000000000018\n",
      "279 12.25000000000018\n",
      "280 12.25000000000018\n",
      "281 12.25000000000018\n",
      "282 12.250000000000183\n",
      "283 12.250000000000183\n",
      "284 12.250000000000183\n",
      "285 12.250000000000183\n",
      "286 12.250000000000183\n",
      "287 12.250000000000187\n",
      "288 12.250000000000187\n",
      "289 12.250000000000187\n",
      "290 12.250000000000188\n",
      "291 12.250000000000188\n",
      "292 12.25000000000019\n",
      "293 12.250000000000188\n",
      "294 12.250000000000188\n",
      "295 12.25000000000019\n",
      "296 12.25000000000019\n",
      "297 12.25000000000019\n",
      "298 12.25000000000019\n",
      "299 12.250000000000192\n",
      "300 12.250000000000192\n",
      "301 12.250000000000192\n",
      "302 12.250000000000192\n",
      "303 12.250000000000194\n",
      "304 12.250000000000192\n",
      "305 12.250000000000195\n",
      "306 12.250000000000195\n",
      "307 12.250000000000195\n",
      "308 12.250000000000195\n",
      "309 12.250000000000195\n",
      "310 12.250000000000199\n",
      "311 12.250000000000199\n",
      "312 12.2500000000002\n",
      "313 12.2500000000002\n",
      "314 12.2500000000002\n",
      "315 12.250000000000203\n",
      "316 12.2500000000002\n",
      "317 12.2500000000002\n",
      "318 12.250000000000204\n",
      "319 12.250000000000208\n",
      "320 12.250000000000208\n",
      "321 12.25000000000021\n",
      "322 12.25000000000021\n",
      "323 12.250000000000211\n",
      "324 12.25000000000021\n",
      "325 12.250000000000211\n",
      "326 12.250000000000211\n",
      "327 12.250000000000213\n",
      "328 12.250000000000213\n",
      "329 12.250000000000213\n",
      "330 12.250000000000215\n",
      "331 12.250000000000215\n",
      "332 12.250000000000215\n",
      "333 12.250000000000215\n",
      "334 12.250000000000215\n",
      "335 12.250000000000217\n",
      "336 12.250000000000217\n",
      "337 12.250000000000217\n",
      "338 12.250000000000217\n",
      "339 12.25000000000022\n",
      "340 12.25000000000022\n",
      "341 12.25000000000022\n",
      "342 12.25000000000022\n",
      "343 12.25000000000022\n",
      "344 12.25000000000022\n",
      "345 12.25000000000022\n",
      "346 12.250000000000222\n",
      "347 12.250000000000224\n",
      "348 12.250000000000222\n",
      "349 12.250000000000224\n",
      "350 12.250000000000224\n",
      "351 12.250000000000224\n",
      "352 12.250000000000226\n",
      "353 12.250000000000226\n",
      "354 12.250000000000226\n",
      "355 12.25000000000023\n",
      "356 12.250000000000227\n",
      "357 12.25000000000023\n",
      "358 12.25000000000023\n",
      "359 12.250000000000231\n",
      "360 12.250000000000231\n",
      "361 12.250000000000233\n",
      "362 12.250000000000233\n",
      "363 12.250000000000236\n",
      "364 12.250000000000233\n",
      "365 12.250000000000236\n",
      "366 12.250000000000233\n",
      "367 12.250000000000236\n",
      "368 12.250000000000238\n",
      "369 12.250000000000238\n",
      "370 12.25000000000024\n",
      "371 12.25000000000024\n",
      "372 12.250000000000242\n",
      "373 12.250000000000242\n",
      "374 12.250000000000242\n",
      "375 12.250000000000242\n",
      "376 12.250000000000243\n",
      "377 12.250000000000243\n",
      "378 12.250000000000245\n",
      "379 12.250000000000245\n",
      "380 12.250000000000245\n",
      "381 12.250000000000245\n",
      "382 12.250000000000245\n",
      "383 12.250000000000247\n",
      "384 12.250000000000247\n",
      "385 12.250000000000249\n",
      "386 12.25000000000025\n",
      "387 12.25000000000025\n",
      "388 12.25000000000025\n",
      "389 12.25000000000025\n",
      "390 12.25000000000025\n",
      "391 12.250000000000254\n",
      "392 12.250000000000252\n",
      "393 12.250000000000254\n",
      "394 12.250000000000254\n",
      "395 12.250000000000254\n",
      "396 12.250000000000254\n",
      "397 12.250000000000254\n",
      "398 12.250000000000254\n",
      "399 12.250000000000258\n",
      "400 12.250000000000258\n",
      "401 12.25000000000026\n",
      "402 12.250000000000258\n",
      "403 12.250000000000261\n",
      "404 12.25000000000026\n",
      "405 12.25000000000026\n",
      "406 12.250000000000261\n",
      "407 12.250000000000261\n",
      "408 12.250000000000263\n",
      "409 12.250000000000263\n",
      "410 12.250000000000265\n",
      "411 12.250000000000266\n",
      "412 12.250000000000265\n",
      "413 12.250000000000265\n",
      "414 12.250000000000265\n",
      "415 12.250000000000268\n",
      "416 12.250000000000268\n",
      "417 12.25000000000027\n",
      "418 12.250000000000272\n",
      "419 12.250000000000272\n",
      "420 12.250000000000272\n",
      "421 12.250000000000272\n",
      "422 12.250000000000274\n",
      "423 12.250000000000274\n",
      "424 12.250000000000274\n",
      "425 12.250000000000274\n",
      "426 12.250000000000274\n",
      "427 12.250000000000274\n",
      "428 12.250000000000275\n",
      "429 12.250000000000274\n",
      "430 12.250000000000275\n",
      "431 12.250000000000277\n",
      "432 12.250000000000277\n",
      "433 12.250000000000277\n",
      "434 12.250000000000277\n",
      "435 12.25000000000028\n",
      "436 12.25000000000028\n",
      "437 12.250000000000279\n",
      "438 12.25000000000028\n",
      "439 12.25000000000028\n",
      "440 12.250000000000284\n",
      "441 12.250000000000284\n",
      "442 12.250000000000284\n",
      "443 12.250000000000288\n",
      "444 12.250000000000288\n",
      "445 12.250000000000284\n",
      "446 12.250000000000284\n",
      "447 12.250000000000288\n",
      "448 12.25000000000029\n",
      "449 12.25000000000029\n",
      "450 12.25000000000029\n",
      "451 12.250000000000293\n",
      "452 12.250000000000293\n",
      "453 12.250000000000293\n",
      "454 12.250000000000293\n",
      "455 12.250000000000295\n",
      "456 12.250000000000295\n",
      "457 12.250000000000295\n",
      "458 12.250000000000297\n",
      "459 12.250000000000297\n",
      "460 12.250000000000297\n",
      "461 12.250000000000297\n",
      "462 12.250000000000297\n",
      "463 12.2500000000003\n",
      "464 12.2500000000003\n",
      "465 12.2500000000003\n",
      "466 12.2500000000003\n",
      "467 12.2500000000003\n",
      "468 12.250000000000302\n",
      "469 12.250000000000302\n",
      "470 12.250000000000304\n",
      "471 12.250000000000304\n",
      "472 12.250000000000304\n",
      "473 12.250000000000304\n",
      "474 12.250000000000306\n",
      "475 12.250000000000306\n",
      "476 12.250000000000306\n",
      "477 12.250000000000306\n",
      "478 12.250000000000307\n",
      "479 12.250000000000309\n",
      "480 12.25000000000031\n",
      "481 12.250000000000309\n",
      "482 12.25000000000031\n",
      "483 12.250000000000313\n",
      "484 12.25000000000031\n",
      "485 12.250000000000314\n",
      "486 12.250000000000314\n",
      "487 12.250000000000314\n",
      "488 12.250000000000314\n",
      "489 12.250000000000316\n",
      "490 12.250000000000316\n",
      "491 12.250000000000318\n",
      "492 12.250000000000316\n",
      "493 12.250000000000316\n",
      "494 12.250000000000318\n",
      "495 12.25000000000032\n",
      "496 12.250000000000318\n",
      "497 12.25000000000032\n",
      "498 12.25000000000032\n",
      "499 12.250000000000322\n",
      "500 12.25000000000032\n"
     ]
    }
   ],
   "source": [
    "from icecream import ic\n",
    "import time\n",
    "from math import log\n",
    "\n",
    "def cov_i(values, i, p0, T):\n",
    "    assert(i > 0)\n",
    "    xy = values*values.reshape((6, -1))\n",
    "    exp_x = exp_x_i = values.dot(p0)\n",
    "    p0_Ts = p0*np.linalg.matrix_power(T, i)\n",
    "    exp_xy = np.einsum('ij,ij',p0_Ts,xy)\n",
    "    print(i, exp_xy)\n",
    "    return exp_xy - exp_x*exp_x_i\n",
    "\n",
    "res = [cov_i(values,i,pi_0,T) for i in range(1, 500+1)]"
   ]
  },
  {
   "cell_type": "markdown",
   "metadata": {},
   "source": [
    "### Analyze the result\n",
    "Looking at the graph below, we see a sharp drop in the covariance value to around zero.\n",
    "This is the clear indication of a stationary process.\n",
    "\n",
    "If we look at the output of the T^k, we can see that starting at a certain k (~31) T becomes a uniform distribution in every row."
   ]
  },
  {
   "cell_type": "code",
   "execution_count": 131,
   "metadata": {},
   "outputs": [
    {
     "data": {
      "text/plain": [
       "<AxesSubplot:xlabel='i', ylabel='cov'>"
      ]
     },
     "execution_count": 131,
     "metadata": {},
     "output_type": "execute_result"
    },
    {
     "data": {
      "image/png": "[encoded data removed]",
      "text/plain": [
       "<Figure size 432x288 with 1 Axes>"
      ]
     },
     "metadata": {
      "needs_background": "light"
     },
     "output_type": "display_data"
    }
   ],
   "source": [
    "import seaborn as sns\n",
    "\n",
    "data = pd.DataFrame(data=zip([*range(1, 501)],res), columns=['i', 'cov'])\n",
    "sns.lineplot(data=data, x=\"i\", y=\"cov\")"
   ]
  },
  {
   "cell_type": "code",
   "execution_count": 135,
   "metadata": {},
   "outputs": [
    {
     "data": {
      "text/plain": [
       "array([[0.16666667, 0.16666667, 0.16666667, 0.16666667, 0.16666667,\n",
       "        0.16666667],\n",
       "       [0.16666667, 0.16666667, 0.16666667, 0.16666667, 0.16666667,\n",
       "        0.16666667],\n",
       "       [0.16666667, 0.16666667, 0.16666667, 0.16666667, 0.16666667,\n",
       "        0.16666667],\n",
       "       [0.16666667, 0.16666667, 0.16666667, 0.16666667, 0.16666667,\n",
       "        0.16666667],\n",
       "       [0.16666667, 0.16666667, 0.16666667, 0.16666667, 0.16666667,\n",
       "        0.16666667],\n",
       "       [0.16666667, 0.16666667, 0.16666667, 0.16666667, 0.16666667,\n",
       "        0.16666667]])"
      ]
     },
     "execution_count": 135,
     "metadata": {},
     "output_type": "execute_result"
    }
   ],
   "source": [
    "np.linalg.matrix_power(T, 31)"
   ]
  },
  {
   "cell_type": "markdown",
   "metadata": {},
   "source": [
    "#### 4.E - Bonus\n",
    "Let $\\bar{X_n}$ be the sample average for a single trajectory of length $n$.\n",
    "1. Show that **in our case**:\n",
    "$$E(\\bar{X_n}) =E(X_0)$$\n",
    "What is it in our case ($\\pi_0$ and $T$ as defined above)?\n",
    "2. Show that \n",
    "$$Var(\\bar{X_n}) = \\frac{1}{n}\\sigma_0^2 + \\frac{2}{n^2}\\sum_{d=1}^{n-1}(n-d)Cov(X_0, X_d)$$\n",
    "Calculate it for our case.\n",
    "3. Formulate the CLT for Markov Chains.\n",
    "4. Graphically show that the CLT holds for n=500 in our case."
   ]
  },
  {
   "cell_type": "markdown",
   "metadata": {},
   "source": [
    "### Question 5 - Sampling of Kendall correlation (15 points)"
   ]
  },
  {
   "cell_type": "markdown",
   "metadata": {},
   "source": [
    "Recall that the Naive time complexity of computing Kendall correlation is $O(n^2)$. We will investigate a sampling approach to approximate Kendall correlations efficiently. "
   ]
  },
  {
   "cell_type": "markdown",
   "metadata": {},
   "source": [
    "#### 5.A\n",
    "Draw a sample of 10M samples from a bivariate distribution $(X,Y)\\sim \\mathcal{N}(\\bf{0},S)$ with the covariance matrix $S=\\begin{pmatrix} 2 & 3\\\\ 3 & 5 \\end{pmatrix}$. <br>\n",
    "Calculate the Kendall correlation $\\tau(X,Y)$.\n",
    "How long did this calculation take?"
   ]
  },
  {
   "cell_type": "code",
   "execution_count": 3,
   "metadata": {},
   "outputs": [
    {
     "data": {
      "image/png": "[encoded data removed]",
      "text/plain": [
       "<Figure size 432x288 with 1 Axes>"
      ]
     },
     "metadata": {
      "needs_background": "light"
     },
     "output_type": "display_data"
    },
    {
     "name": "stdout",
     "output_type": "stream",
     "text": [
      "CPU times: user 5.82 s, sys: 524 ms, total: 6.35 s\n",
      "Wall time: 6.05 s\n"
     ]
    }
   ],
   "source": [
    "%%time\n",
    "import matplotlib.pyplot as plt\n",
    "import numpy as np\n",
    "MIL_ONE = 10000000\n",
    "\n",
    "mean = [0, 0]\n",
    "cov = [[2, 3], [3, 5]]\n",
    "\n",
    "x, y = np.random.multivariate_normal(mean, cov, MIL_ONE).T\n",
    "plt.plot(x, y, 'x')\n",
    "# plt.axis('equal')\n",
    "plt.show()"
   ]
  },
  {
   "cell_type": "code",
   "execution_count": 4,
   "metadata": {},
   "outputs": [
    {
     "data": {
      "text/plain": [
       "(-0.8606682316018294, -1.5121072622014844)"
      ]
     },
     "execution_count": 4,
     "metadata": {},
     "output_type": "execute_result"
    }
   ],
   "source": [
    "x[0], y[0]"
   ]
  },
  {
   "cell_type": "markdown",
   "metadata": {},
   "source": [
    "#### 5.B\n",
    "Sample 1,000 points from the data and calculate the Kendall correlation $\\tau(U,V)$. "
   ]
  },
  {
   "cell_type": "code",
   "execution_count": 12,
   "metadata": {},
   "outputs": [],
   "source": [
    "import math\n",
    "from math import comb\n",
    "from random import sample\n",
    "\n",
    "\n",
    "def get_samples(x, y, sample_size=1000, x_enumerated=False):\n",
    "    enumerate_x = x    \n",
    "    if not x_enumerated:\n",
    "        enumerate_x = list(enumerate(x))\n",
    "    x_sampled_with_idx = sample(enumerate_x, sample_size)\n",
    "    idxes, xs = [x_idx[0] for x_idx in x_sampled_with_idx], [x_idx[1] for x_idx in x_sampled_with_idx]\n",
    "    ys = list(y[idxes])\n",
    "    return xs, ys\n",
    "#     return [(round(sample[0],3), round(sample[1],3)) for sample in zip(xs, ys)]\n",
    "\n",
    "\n",
    "def run_experiments(enumerate_x, y, sample_size=1000, num_of_experiments=1000):\n",
    "    kendall_tau_values = []\n",
    "    print(f\"Running on sample size:{sample_size}\")\n",
    "    for idx, i in enumerate(range(num_of_experiments), start=1):\n",
    "        xs, ys = get_samples(enumerate_x, y, sample_size, x_enumerated=True)\n",
    "        tau, p_value = stats.kendalltau(xs, ys)\n",
    "        kendall_tau_values.append(tau)\n",
    "        assert(len(xs) == sample_size)\n",
    "        \n",
    "    return kendall_tau_values\n",
    "\n",
    "def plot_experiment(mu, sigma, true_tau):\n",
    "    bins=20\n",
    "    print(f\"Empirical Mean = {round(mu,3)} STD = {round(sigma,3)}, True Tau = {true_tau}\")\n",
    "    ax = sns.distplot(kendall_tau_values, bins=25, kde_kws=dict(bw=0.5), hist_kws= dict(edgecolor=\"k\"))\n",
    "    ax.set(xlabel='bins', ylabel='Frequency')\n",
    "\n",
    "    plt.axvline(x=round(true_tau, 3), color='red', linestyle='-', lw=3)\n",
    "    plt.axvline(x=round(mu,3)+round(sigma,3), color='green', linestyle='-', lw=3)\n",
    "    plt.axvline(x=round(mu,3)-round(sigma,3), color='green', linestyle='-', lw=3)\n",
    "    plt.show()\n",
    "    "
   ]
  },
  {
   "cell_type": "code",
   "execution_count": 8,
   "metadata": {},
   "outputs": [
    {
     "name": "stdout",
     "output_type": "stream",
     "text": [
      "Kendall tau value is: KendalltauResult(correlation=0.7834834834834834, pvalue=2.9207347711988005e-301), For this set of points:\n"
     ]
    },
    {
     "data": {
      "image/png": "[encoded data removed]",
      "text/plain": [
       "<Figure size 432x288 with 1 Axes>"
      ]
     },
     "metadata": {
      "needs_background": "light"
     },
     "output_type": "display_data"
    }
   ],
   "source": [
    "# samples = get_samples(x,y)\n",
    "# print(f\"Kendall tau value is: {my_kendalltau(samples)}, For this set of points:\")\n",
    "xs, ys = get_samples(x,y)\n",
    "print(f\"Kendall tau value is: {kendalltau(xs, ys)}, For this set of points:\")\n",
    "\n",
    "import matplotlib.pyplot as plt\n",
    "\n",
    "plt.plot(xs, ys, 'x')\n",
    "# plt.axis('equal')\n",
    "plt.show()"
   ]
  },
  {
   "cell_type": "code",
   "execution_count": 15,
   "metadata": {},
   "outputs": [
    {
     "data": {
      "text/plain": [
       "0.795"
      ]
     },
     "execution_count": 15,
     "metadata": {},
     "output_type": "execute_result"
    }
   ],
   "source": [
    "import scipy.stats as stats\n",
    "\n",
    "tau, p_value = stats.kendalltau(x, y)\n",
    "true_tau = round(tau, 3)\n",
    "true_tau"
   ]
  },
  {
   "cell_type": "markdown",
   "metadata": {},
   "source": [
    "#### 5.C\n",
    "Repeat Section 5.B 1000 times and plot a histogram of the calculated $\\tau(U,V)$ values. Indicate the true $\\tau(X,Y)$ (calculated on the entire 10M samples) on the histogram. What are the empirical mean and stadard deviation of the calculated $\\tau(U,V)$ values?"
   ]
  },
  {
   "cell_type": "code",
   "execution_count": 16,
   "metadata": {},
   "outputs": [
    {
     "name": "stdout",
     "output_type": "stream",
     "text": [
      "Running on sample size:1000\n",
      "Empirical Mean = 0.795 STD = 0.007, True Tau = 0.795\n"
     ]
    },
    {
     "data": {
      "image/png": "[encoded data removed]",
      "text/plain": [
       "<Figure size 432x288 with 1 Axes>"
      ]
     },
     "metadata": {
      "needs_background": "light"
     },
     "output_type": "display_data"
    }
   ],
   "source": [
    "n_times = 1000\n",
    "enumerate_x = list(enumerate(x))\n",
    "kendall_tau_values = run_experiments(enumerate_x, y, num_of_experiments=n_times)\n",
    "(mu, sigma) = norm.fit(kendall_tau_values)\n",
    "plot_experiment(mu, sigma, true_tau)"
   ]
  },
  {
   "cell_type": "markdown",
   "metadata": {},
   "source": [
    "#### 5.D\n",
    "Repeat Section 5.C for samples of $m={10, 50, 100, 500, 1000, 5000}$ points. <br>\n",
    "What is the naive time complexity of each calculation? <br>\n",
    "Compare the empirical mean and the standard deviation of the calucated values to the size of the sample."
   ]
  },
  {
   "cell_type": "code",
   "execution_count": 23,
   "metadata": {},
   "outputs": [
    {
     "name": "stdout",
     "output_type": "stream",
     "text": [
      "Running on sample size:10\n",
      "Empirical Mean = 0.788 STD = 0.115, True Tau = 0.7951196715234872\n"
     ]
    },
    {
     "data": {
      "image/png": "[encoded data removed]",
      "text/plain": [
       "<Figure size 432x288 with 1 Axes>"
      ]
     },
     "metadata": {
      "needs_background": "light"
     },
     "output_type": "display_data"
    },
    {
     "name": "stdout",
     "output_type": "stream",
     "text": [
      "Running on sample size:50\n",
      "Empirical Mean = 0.796 STD = 0.034, True Tau = 0.7951196715234872\n"
     ]
    },
    {
     "data": {
      "image/png": "[encoded data removed]",
      "text/plain": [
       "<Figure size 432x288 with 1 Axes>"
      ]
     },
     "metadata": {
      "needs_background": "light"
     },
     "output_type": "display_data"
    },
    {
     "name": "stdout",
     "output_type": "stream",
     "text": [
      "Running on sample size:100\n",
      "Empirical Mean = 0.793 STD = 0.024, True Tau = 0.7951196715234872\n"
     ]
    },
    {
     "data": {
      "image/png": "[encoded data removed]",
      "text/plain": [
       "<Figure size 432x288 with 1 Axes>"
      ]
     },
     "metadata": {
      "needs_background": "light"
     },
     "output_type": "display_data"
    },
    {
     "name": "stdout",
     "output_type": "stream",
     "text": [
      "Running on sample size:500\n",
      "Empirical Mean = 0.796 STD = 0.01, True Tau = 0.7951196715234872\n"
     ]
    },
    {
     "data": {
      "image/png": "[encoded data removed]",
      "text/plain": [
       "<Figure size 432x288 with 1 Axes>"
      ]
     },
     "metadata": {
      "needs_background": "light"
     },
     "output_type": "display_data"
    },
    {
     "name": "stdout",
     "output_type": "stream",
     "text": [
      "Running on sample size:1000\n",
      "Empirical Mean = 0.795 STD = 0.007, True Tau = 0.7951196715234872\n"
     ]
    },
    {
     "data": {
      "image/png": "[encoded data removed]",
      "text/plain": [
       "<Figure size 432x288 with 1 Axes>"
      ]
     },
     "metadata": {
      "needs_background": "light"
     },
     "output_type": "display_data"
    },
    {
     "name": "stdout",
     "output_type": "stream",
     "text": [
      "Running on sample size:5000\n",
      "Empirical Mean = 0.795 STD = 0.003, True Tau = 0.7951196715234872\n"
     ]
    },
    {
     "data": {
      "image/png": "[encoded data removed]",
      "text/plain": [
       "<Figure size 432x288 with 1 Axes>"
      ]
     },
     "metadata": {
      "needs_background": "light"
     },
     "output_type": "display_data"
    }
   ],
   "source": [
    "import time\n",
    "\n",
    "n_times = 1000\n",
    "sample_sizes=[10,50,100,500,1000,5000]\n",
    "\n",
    "times, sigmas = [], []\n",
    "\n",
    "true_tau, true_p_value = stats.kendalltau(x, y)\n",
    "enumerate_x = list(enumerate(x))\n",
    "for sample_size in sample_sizes:\n",
    "    start_time = time.time()\n",
    "    kendall_tau_values = run_experiments(enumerate_x, y, sample_size=sample_size, num_of_experiments=n_times)\n",
    "    times.append((time.time() - start_time)*1000)\n",
    "    (mu, sigma) = norm.fit(kendall_tau_values)\n",
    "    sigmas.append(sigma)\n",
    "    plot_experiment(mu, sigma, true_tau)"
   ]
  },
  {
   "cell_type": "code",
   "execution_count": null,
   "metadata": {},
   "outputs": [],
   "source": [
    "\n"
   ]
  },
  {
   "cell_type": "code",
   "execution_count": 67,
   "metadata": {},
   "outputs": [],
   "source": [
    "from math import log\n",
    "\n",
    "sample_sizes=[10,50,100,500,1000,5000]\n",
    "\n",
    "def plot_sample_size_vs_other(sample_sizes, res_1, res_2, label_1_name, label_2_name):\n",
    "    fig, axs = plt.subplots(1, 1, figsize=(12, 6))\n",
    "\n",
    "    lns1 = axs.plot(sample_sizes, res_1, '--bo', label=label_1_name)\n",
    "    axs.set_xlabel('X')\n",
    "    axs.set_ylabel(label_1_name)\n",
    "\n",
    "    axs_sec = axs.twinx()        \n",
    "    lns2 = axs_sec.plot(sample_sizes, res_2, '--ro', label=label_2_name)\n",
    "\n",
    "    axs_sec.set_ylabel(label_2_name)\n",
    "    lns = lns1+lns2\n",
    "    labs = [l.get_label() for l in lns]\n",
    "    axs.legend(lns, labs, loc=\"upper center\")\n",
    "    plt.show()"
   ]
  },
  {
   "cell_type": "markdown",
   "metadata": {},
   "source": [
    "#### First Graph - Empirical Time vs STD"
   ]
  },
  {
   "cell_type": "code",
   "execution_count": 68,
   "metadata": {},
   "outputs": [
    {
     "data": {
      "image/png": "[encoded data removed]",
      "text/plain": [
       "<Figure size 864x432 with 2 Axes>"
      ]
     },
     "metadata": {
      "needs_background": "light"
     },
     "output_type": "display_data"
    }
   ],
   "source": [
    "plot_sample_size_vs_other(sample_sizes, times, sigmas, \"empirical time\", \"STD\")"
   ]
  },
  {
   "cell_type": "markdown",
   "metadata": {},
   "source": [
    "#### Second Graph - log Empirical Time vs STD\n",
    "We also decided to look at STD vs log2 on the empirical time (because the method we assume is based on merge sort - nlogn time complexity)\n",
    "We think it shows a better representation of the time it takes for sample size vs STD"
   ]
  },
  {
   "cell_type": "code",
   "execution_count": 69,
   "metadata": {},
   "outputs": [
    {
     "data": {
      "image/png": "[encoded data removed]",
      "text/plain": [
       "<Figure size 864x432 with 2 Axes>"
      ]
     },
     "metadata": {
      "needs_background": "light"
     },
     "output_type": "display_data"
    }
   ],
   "source": [
    "from math import log\n",
    "log_time = [log(s,2) for s in times]\n",
    "plot_sample_size_vs_other(sample_sizes, log_time, sigmas, \"log2 empirical time\", \"STD\")"
   ]
  },
  {
   "cell_type": "markdown",
   "metadata": {},
   "source": [
    "#### 5.E\n",
    "A coleague found an old dataset which she believes originated from the same popuation as the data in Section 5.A. The dataset is avaialble as \"Kendall_data.csv\". \n",
    "\n",
    "Using Kendall correlation and your answer to Section 5.D, how much confidence do you have in rejecting your coleague's claim? Explain your answer and show your calculation."
   ]
  },
  {
   "cell_type": "code",
   "execution_count": 350,
   "metadata": {},
   "outputs": [
    {
     "data": {
      "text/plain": [
       "0.781"
      ]
     },
     "execution_count": 350,
     "metadata": {},
     "output_type": "execute_result"
    }
   ],
   "source": [
    "import pandas as pd\n",
    "import scipy.stats as stats\n",
    "\n",
    "df = pd.read_csv('Kendall_data.csv', header=None, names=['x1','x2'])\n",
    "x1, x2 = df['x1'].to_numpy(), df['x2'].to_numpy()\n",
    "x1, x2\n",
    "\n",
    "\n",
    "\n",
    "tau, _ = stats.kendalltau(x1, x2)\n",
    "true_tau = round(tau, 3)\n",
    "true_tau"
   ]
  },
  {
   "cell_type": "code",
   "execution_count": 4,
   "metadata": {},
   "outputs": [
    {
     "data": {
      "text/plain": [
       "0.8601255180077831"
      ]
     },
     "execution_count": 4,
     "metadata": {},
     "output_type": "execute_result"
    }
   ],
   "source": [
    "from math import sqrt\n",
    "\n",
    "p = 0.795\n",
    "p_hat = 0.781\n",
    "z = 1.96\n",
    "n = 100\n",
    "\n",
    "p_hat + z*sqrt(p*(1-p)/n)"
   ]
  },
  {
   "cell_type": "code",
   "execution_count": 5,
   "metadata": {},
   "outputs": [
    {
     "data": {
      "text/plain": [
       "0.7018744819922169"
      ]
     },
     "execution_count": 5,
     "metadata": {},
     "output_type": "execute_result"
    }
   ],
   "source": [
    "p_hat - z*sqrt(p*(1-p)/n)"
   ]
  },
  {
   "cell_type": "code",
   "execution_count": null,
   "metadata": {},
   "outputs": [],
   "source": [
    "0.7950815318261533"
   ]
  }
 ],
 "metadata": {
  "kernelspec": {
   "display_name": "Python 3",
   "language": "python",
   "name": "python3"
  },
  "language_info": {
   "codemirror_mode": {
    "name": "ipython",
    "version": 3
   },
   "file_extension": ".py",
   "mimetype": "text/x-python",
   "name": "python",
   "nbconvert_exporter": "python",
   "pygments_lexer": "ipython3",
   "version": "3.8.6"
  }
 },
 "nbformat": 4,
 "nbformat_minor": 4
}
